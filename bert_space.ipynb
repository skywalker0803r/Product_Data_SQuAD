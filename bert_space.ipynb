{
 "cells": [
  {
   "cell_type": "code",
   "execution_count": 1,
   "id": "7e1fcfd0",
   "metadata": {},
   "outputs": [
    {
     "name": "stderr",
     "output_type": "stream",
     "text": [
      "/opt/conda/lib/python3.7/site-packages/torchaudio/backend/utils.py:54: UserWarning: \"sox\" backend is being deprecated. The default backend will be changed to \"sox_io\" backend in 0.8.0 and \"sox\" backend will be removed in 0.9.0. Please migrate to \"sox_io\" backend. Please refer to https://github.com/pytorch/audio/issues/903 for the detail.\n",
      "  '\"sox\" backend is being deprecated. '\n"
     ]
    }
   ],
   "source": [
    "import pandas as pd\n",
    "import numpy as np\n",
    "from tqdm import tqdm_notebook as tqdm\n",
    "from torch.optim.optimizer import Optimizer\n",
    "import matplotlib.pyplot as plt\n",
    "from copy import deepcopy\n",
    "import numpy as np\n",
    "import random\n",
    "import torch\n",
    "from transformers import pipeline\n",
    "import warnings \n",
    "warnings.filterwarnings('ignore')\n",
    "from pytorch_lightning import seed_everything\n",
    "from torch.utils.data import DataLoader\n",
    "import os\n",
    "import gc\n",
    "gc.collect()\n",
    "\n",
    "def get_jaccard_sim(str1, str2): \n",
    "    a = set(str1.split()) \n",
    "    b = set(str2.split())\n",
    "    c = a.intersection(b)\n",
    "    return float(len(c)) / (len(a) + len(b) - len(c))"
   ]
  },
  {
   "cell_type": "code",
   "execution_count": 2,
   "id": "ab49f992",
   "metadata": {},
   "outputs": [
    {
     "name": "stderr",
     "output_type": "stream",
     "text": [
      "Global seed set to 42\n"
     ]
    }
   ],
   "source": [
    "def set_seed(seed = int):\n",
    "    '''Sets the seed of the entire notebook so results are the same every time we run.\n",
    "    This is for REPRODUCIBILITY.'''\n",
    "    np.random.seed(seed)\n",
    "    random_state = np.random.RandomState(seed)\n",
    "    random.seed(seed)\n",
    "    torch.manual_seed(seed)\n",
    "    torch.cuda.manual_seed(seed)\n",
    "    torch.backends.cudnn.deterministic = True\n",
    "    torch.backends.cudnn.benchmark = False\n",
    "    os.environ['PYTHONHASHSEED'] = str(seed)\n",
    "    seed_everything(seed)\n",
    "    return random_state\n",
    "random_state = set_seed(42)"
   ]
  },
  {
   "cell_type": "code",
   "execution_count": 3,
   "id": "d00565bc",
   "metadata": {},
   "outputs": [
    {
     "name": "stderr",
     "output_type": "stream",
     "text": [
      "Some weights of the model checkpoint at distilbert-base-uncased were not used when initializing DistilBertForQuestionAnswering: ['vocab_projector.weight', 'vocab_layer_norm.weight', 'vocab_projector.bias', 'vocab_transform.weight', 'vocab_transform.bias', 'vocab_layer_norm.bias']\n",
      "- This IS expected if you are initializing DistilBertForQuestionAnswering from the checkpoint of a model trained on another task or with another architecture (e.g. initializing a BertForSequenceClassification model from a BertForPreTraining model).\n",
      "- This IS NOT expected if you are initializing DistilBertForQuestionAnswering from the checkpoint of a model that you expect to be exactly identical (initializing a BertForSequenceClassification model from a BertForSequenceClassification model).\n",
      "Some weights of DistilBertForQuestionAnswering were not initialized from the model checkpoint at distilbert-base-uncased and are newly initialized: ['qa_outputs.bias', 'qa_outputs.weight']\n",
      "You should probably TRAIN this model on a down-stream task to be able to use it for predictions and inference.\n"
     ]
    },
    {
     "data": {
      "text/plain": [
       "244"
      ]
     },
     "execution_count": 3,
     "metadata": {},
     "output_type": "execute_result"
    }
   ],
   "source": [
    "from transformers import DistilBertTokenizerFast\n",
    "from transformers import DistilBertForQuestionAnswering\n",
    "\n",
    "tokenizer = DistilBertTokenizerFast.from_pretrained('distilbert-base-uncased')\n",
    "model = DistilBertForQuestionAnswering.from_pretrained(\"distilbert-base-uncased\")\n",
    "model.load_state_dict(torch.load('Product_Data_SQuAD_model.pt'))\n",
    "model.eval()\n",
    "nlp = pipeline(\"feature-extraction\", model=model.to('cpu'), tokenizer=tokenizer)\n",
    "gc.collect()"
   ]
  },
  {
   "cell_type": "code",
   "execution_count": 4,
   "id": "517dbdfb",
   "metadata": {},
   "outputs": [
    {
     "data": {
      "text/html": [
       "<div>\n",
       "<style scoped>\n",
       "    .dataframe tbody tr th:only-of-type {\n",
       "        vertical-align: middle;\n",
       "    }\n",
       "\n",
       "    .dataframe tbody tr th {\n",
       "        vertical-align: top;\n",
       "    }\n",
       "\n",
       "    .dataframe thead th {\n",
       "        text-align: right;\n",
       "    }\n",
       "</style>\n",
       "<table border=\"1\" class=\"dataframe\">\n",
       "  <thead>\n",
       "    <tr style=\"text-align: right;\">\n",
       "      <th></th>\n",
       "      <th>string_X_train</th>\n",
       "      <th>string_Y_1</th>\n",
       "      <th>string_Y_2</th>\n",
       "      <th>Y_label</th>\n",
       "      <th>row_id</th>\n",
       "    </tr>\n",
       "  </thead>\n",
       "  <tbody>\n",
       "    <tr>\n",
       "      <th>586</th>\n",
       "      <td>YUNGSOX 2100M 12MT USD1,015/MT USD12,180 YUNGS...</td>\n",
       "      <td>0</td>\n",
       "      <td>13</td>\n",
       "      <td>YUNGSOX 2100M</td>\n",
       "      <td>855</td>\n",
       "    </tr>\n",
       "    <tr>\n",
       "      <th>92</th>\n",
       "      <td>TRIS 1,2-CYCLOHEXANE DICARBOXYLIC ACID,DI-ISON...</td>\n",
       "      <td>0</td>\n",
       "      <td>50</td>\n",
       "      <td>TRIS 1,2-CYCLOHEXANE DICARBOXYLIC ACID,DI-ISON...</td>\n",
       "      <td>140</td>\n",
       "    </tr>\n",
       "    <tr>\n",
       "      <th>91</th>\n",
       "      <td>TRIS . CIF PORT KLANG,MALAYSIA</td>\n",
       "      <td>0</td>\n",
       "      <td>4</td>\n",
       "      <td>TRIS</td>\n",
       "      <td>139</td>\n",
       "    </tr>\n",
       "  </tbody>\n",
       "</table>\n",
       "</div>"
      ],
      "text/plain": [
       "                                        string_X_train  string_Y_1  \\\n",
       "586  YUNGSOX 2100M 12MT USD1,015/MT USD12,180 YUNGS...           0   \n",
       "92   TRIS 1,2-CYCLOHEXANE DICARBOXYLIC ACID,DI-ISON...           0   \n",
       "91                      TRIS . CIF PORT KLANG,MALAYSIA           0   \n",
       "\n",
       "     string_Y_2                                            Y_label  row_id  \n",
       "586          13                                      YUNGSOX 2100M     855  \n",
       "92           50  TRIS 1,2-CYCLOHEXANE DICARBOXYLIC ACID,DI-ISON...     140  \n",
       "91            4                                               TRIS     139  "
      ]
     },
     "metadata": {},
     "output_type": "display_data"
    },
    {
     "data": {
      "text/html": [
       "<div>\n",
       "<style scoped>\n",
       "    .dataframe tbody tr th:only-of-type {\n",
       "        vertical-align: middle;\n",
       "    }\n",
       "\n",
       "    .dataframe tbody tr th {\n",
       "        vertical-align: top;\n",
       "    }\n",
       "\n",
       "    .dataframe thead th {\n",
       "        text-align: right;\n",
       "    }\n",
       "</style>\n",
       "<table border=\"1\" class=\"dataframe\">\n",
       "  <thead>\n",
       "    <tr style=\"text-align: right;\">\n",
       "      <th></th>\n",
       "      <th>string_X_train</th>\n",
       "      <th>string_Y_1</th>\n",
       "      <th>string_Y_2</th>\n",
       "      <th>Y_label</th>\n",
       "      <th>row_id</th>\n",
       "    </tr>\n",
       "  </thead>\n",
       "  <tbody>\n",
       "    <tr>\n",
       "      <th>1</th>\n",
       "      <td>COMMODITY: STYRENE MONOMER IN BULKQUANTITY: 3,...</td>\n",
       "      <td>11</td>\n",
       "      <td>34</td>\n",
       "      <td>STYRENE MONOMER IN BULK</td>\n",
       "      <td>1</td>\n",
       "    </tr>\n",
       "    <tr>\n",
       "      <th>2</th>\n",
       "      <td>COMMODITY: STYRENE MONOMER IN BULKQUANTITY: 3,...</td>\n",
       "      <td>11</td>\n",
       "      <td>34</td>\n",
       "      <td>STYRENE MONOMER IN BULK</td>\n",
       "      <td>2</td>\n",
       "    </tr>\n",
       "    <tr>\n",
       "      <th>3</th>\n",
       "      <td>PP 3307UNC1 . TRADE TERMS: CFR ANY JAPANESE PORT</td>\n",
       "      <td>0</td>\n",
       "      <td>2</td>\n",
       "      <td>PP</td>\n",
       "      <td>10</td>\n",
       "    </tr>\n",
       "  </tbody>\n",
       "</table>\n",
       "</div>"
      ],
      "text/plain": [
       "                                      string_X_train  string_Y_1  string_Y_2  \\\n",
       "1  COMMODITY: STYRENE MONOMER IN BULKQUANTITY: 3,...          11          34   \n",
       "2  COMMODITY: STYRENE MONOMER IN BULKQUANTITY: 3,...          11          34   \n",
       "3   PP 3307UNC1 . TRADE TERMS: CFR ANY JAPANESE PORT           0           2   \n",
       "\n",
       "                   Y_label  row_id  \n",
       "1  STYRENE MONOMER IN BULK       1  \n",
       "2  STYRENE MONOMER IN BULK       2  \n",
       "3                       PP      10  "
      ]
     },
     "metadata": {},
     "output_type": "display_data"
    }
   ],
   "source": [
    "train_df = pd.read_csv('Train_Product_Data_2021_0114.csv',index_col=0).drop(['Forward','Backward','label_for_train'],axis=1)\n",
    "train_df = train_df.dropna(axis=0)\n",
    "display(train_df.head(3))\n",
    "\n",
    "val_df = pd.read_csv('Val_Product_Data_2021_0114.csv',index_col=0).drop(['Forward','Backward'],axis=1)\n",
    "val_df = val_df.dropna(axis=0)\n",
    "display(val_df.head(3))"
   ]
  },
  {
   "cell_type": "code",
   "execution_count": 5,
   "id": "f13ff2f2",
   "metadata": {},
   "outputs": [
    {
     "name": "stdout",
     "output_type": "stream",
     "text": [
      "[] [342, 343, 344]\n"
     ]
    },
    {
     "data": {
      "text/html": [
       "<div>\n",
       "<style scoped>\n",
       "    .dataframe tbody tr th:only-of-type {\n",
       "        vertical-align: middle;\n",
       "    }\n",
       "\n",
       "    .dataframe tbody tr th {\n",
       "        vertical-align: top;\n",
       "    }\n",
       "\n",
       "    .dataframe thead th {\n",
       "        text-align: right;\n",
       "    }\n",
       "</style>\n",
       "<table border=\"1\" class=\"dataframe\">\n",
       "  <thead>\n",
       "    <tr style=\"text-align: right;\">\n",
       "      <th></th>\n",
       "      <th>string_X_train</th>\n",
       "      <th>string_Y_1</th>\n",
       "      <th>string_Y_2</th>\n",
       "      <th>Y_label</th>\n",
       "      <th>row_id</th>\n",
       "    </tr>\n",
       "  </thead>\n",
       "  <tbody>\n",
       "    <tr>\n",
       "      <th>342</th>\n",
       "      <td>#NAME?</td>\n",
       "      <td>1</td>\n",
       "      <td>26</td>\n",
       "      <td>PURIFIED ISOPHTHALIC ACID</td>\n",
       "      <td>1238</td>\n",
       "    </tr>\n",
       "    <tr>\n",
       "      <th>343</th>\n",
       "      <td>#NAME?</td>\n",
       "      <td>1</td>\n",
       "      <td>26</td>\n",
       "      <td>PURIFIED ISOPHTHALIC ACID</td>\n",
       "      <td>1240</td>\n",
       "    </tr>\n",
       "    <tr>\n",
       "      <th>344</th>\n",
       "      <td>#NAME?</td>\n",
       "      <td>40</td>\n",
       "      <td>65</td>\n",
       "      <td>PURIFIED ISOPHTHALIC ACID</td>\n",
       "      <td>1241</td>\n",
       "    </tr>\n",
       "  </tbody>\n",
       "</table>\n",
       "</div>"
      ],
      "text/plain": [
       "    string_X_train  string_Y_1  string_Y_2                    Y_label  row_id\n",
       "342         #NAME?           1          26  PURIFIED ISOPHTHALIC ACID    1238\n",
       "343         #NAME?           1          26  PURIFIED ISOPHTHALIC ACID    1240\n",
       "344         #NAME?          40          65  PURIFIED ISOPHTHALIC ACID    1241"
      ]
     },
     "metadata": {},
     "output_type": "display_data"
    },
    {
     "name": "stdout",
     "output_type": "stream",
     "text": [
      "(744, 5)\n",
      "(741, 5)\n"
     ]
    }
   ],
   "source": [
    "def find_fail_sample(df):\n",
    "    fails = []\n",
    "    for i in df.index:\n",
    "        context = df.loc[i,'string_X_train']\n",
    "        answer = df.loc[i,'Y_label']\n",
    "        if answer not in context:\n",
    "            fails.append(i)\n",
    "    return fails\n",
    "train_fails = find_fail_sample(train_df)\n",
    "val_fails = find_fail_sample(val_df)\n",
    "print(train_fails,val_fails)\n",
    "display(val_df.loc[val_fails])\n",
    "print(val_df.shape)\n",
    "val_df = val_df.drop(val_fails,axis=0)\n",
    "print(val_df.shape)"
   ]
  },
  {
   "cell_type": "code",
   "execution_count": 6,
   "id": "aa06f63b",
   "metadata": {},
   "outputs": [
    {
     "data": {
      "text/plain": [
       "\". PHTHALIC ANHYDRIDE 1044MT AT USD 630/MT. PACKED IN JUMBO BAGS AND PALLETIZED. CIF DAMMAM SEAPORT, SAUDI ARABIA :46A:. 1. MANUALLY SIGNED COMMERCIAL INVOICES IN TWO ORIGINALS PLUS TWO COPIES, THE ORIGINAL MUST BE CERTIFIED BY CHAMBER OF COMMERCE. 2. CERTIFICATE OF ORIGIN ISSUED BY CHAMBER OF COMMERCE IN TWO ORIGINALS PLUS TWO COPIES STATING THE COUNTRY OF ORIGIN, NAME AND FULL ADDRESS OF THE MANUFACTURER/PRODUCER AND SHIPPER. 3. FULL SET OF SHIPPED ON BOARD BILL OF LADING ISSUED TO THE ORDER OF BANQUE SAUDI FRANSI-AL KHOBAR, MARKED FREIGHT PREPAID AND NOTIFY APPLICANT, SHOWING THE FOLLOWING: A THE NAME, FULL ADDRESS AND TELEPHONE NUMBER OF SHIPPING AGENT AT THE PORT OF DISCHARGE. B THE AGE OF THE VESSEL AND ITS YEAR OF BUILT. 4. A CERTIFICATE ISSUED AND SIGNED BY THE OWNER, AGENT, CAPTAIN OR COMPANY OF THE VESSEL APPENDED TO THE BILL OF LADING STATING: 1 NAME OF VESSEL ..... PREVIOUS NAME....... 2 NATIONALITY OF VESSEL ................... 3 OWNER OF VESSEL ......................... 4 THE VESSEL WILL CALL OR PASS THROUGH THE FOLLOWING PORTS ENROUTE TO SAUDI ARABIA: 1. ..... 2. ..... 3. ..... 4. .... PLEASE LIST PORTS . THE UNDERSIGNED THE OWNER, AGENT, CAPTAIN OR COMPANY OF THE VESSEL ACCORDINGLY DECLARES THAT THE INFORMATIONS PROVIDED IN RESPONSES TO 1 TO 4 ABOVE ARE CORRECT AND COMPLETE AND THAT THE VESSEL SHALL NOT CALL AT OR ANCHOR ON ANY PORTS OTHER THAN THAT MENTIONED ABOVE ENROUTE TO SAUDI ARABIA. WRITTEN ON THE .................. DAY/MONTH/YEAR. - SIGNATURE OF VESSEL'S OWNER, AGENT, CAPTAIN OR COMPANY. THIS CERTIFICATE IS NOT REQUIRED IF SHIPMENT IS EFFECTED ON NATIONAL SHIPPING COMPANY OF SAUDI ARABIA. 5. CERTIFICATE ISSUED BY OWNER, MASTER OR AGENTS STATING THAT THE CARRYING VESSEL WAS BUILT IN AND IS NOT EXCEEDING 15 YEARS OF AGE AT THE DATE OF LOADING AND THAT ITS CARGO GEAR ARE SUITABLE TO DISCHARGE AT SAUDI ARABIAN PORT. OTHERWISE, A CERTIFICATE FOR CARGO GEAR AND TACKLE VALID AS AT THE DATE OF LOADING SHOWING THE AGE OF THE VESSEL AND ITS YEAR OF BUILT ISSUED BY ONE OF THE FOLLOWING SOCIETIES, ORIGINAL OR COPY OF WHICH MUST ACCOMPANY THE DOCUMENTS PRESENTED FOR NEGOTIATION:- AMERICAN BUREAU OF SHIPPING BUREAU VERITAS HELIENIC REGISTER OF SHIPPING DET NORSKE VERITAS LLOYD'S REGISTER OF SHIPPING GERMANISCHER LLOYD REGISTRO ITALIANO NAVALE NIPPON KAIJI KYOKAI KOREAN REGISTER OF SHIPPING POLSKI REJESTR STATKOW REQUIREMENT OF CARGO GEAR AND TACKLE MAY BE DISREGARDED IN CASE OF CONTAINERS, BULK, ROLL-ON ROLL-OFF OR ANY OTHER GEARLESS VESSEL, PROVIDED A DECLARATION IS OBTAINED FROM ONE OF THE ABOVE SOCIETIES TO THE EFFECT THAT THE CARRIER HAS NO GEAR ON BOARD . 6. PACKING LIST IN ONE ORIGINAL PLUS TWO COPIES. 7. INSURANCE POLICY/CERTIFICATE ESTABLISHED TO THE ORDER OF BANQUE SAUDI FRANSI-SAUDI ARABIA IN THE CURRENCY OF THE LETTER OF CREDIT, FOR AT LEAST 110 PCT OF THE CIF VALUE OF THE GOODS, COVERING INSTITUTE CARGO CLAUSES 'A', INSTITUTE STRIKES, RIOT AND CIVIL COMMOTION CLAUSES, INSTITUTE WAR CLAUSES, THEFT, PILFERAGE AND NON DELIVERY AND TRANSHIPMENT RISKS. 8. APPENDED DECLARATION TO INSURANCE POLICY/CERTIFICATE AS FOLLOWS: NAME OF INSURANCE COMPANY .............. ADDRESS OF ITS PRINCIPAL OFFICE ........ COUNTRY OF ITS INCORPORATION ........... THE UNDERSIGNED ........................ DOES HEREBY CERTIFY ON BEHALF OF THE ABOVE NAMED INSURANCE COMPANY THAT THE SAID COMPANY HAS A DULY QUALIFIED AND APPOINTED AGENT/REPRESENTA- TIVE IN THE KINGDOM OF SAUDI ARABIA WHOSE NAME AND ADDRESS APPEARS BELOW:- NAME OF AGENT/REPRESENTATIVE............ ADDRESS ............ DATED ....... DAY/MONTH/YEAR ..........\""
      ]
     },
     "execution_count": 6,
     "metadata": {},
     "output_type": "execute_result"
    }
   ],
   "source": [
    "max_test = max([max(train_df['string_X_train'].values,key=len),max(val_df['string_X_train'].values,key=len)],key=len)\n",
    "max_test"
   ]
  },
  {
   "cell_type": "code",
   "execution_count": 7,
   "id": "2857a5a3",
   "metadata": {},
   "outputs": [],
   "source": [
    "train_emb = train_df['string_X_train'].head(100).tolist()\n",
    "train_emb.append(max_test)\n",
    "val_emb = val_df['string_X_train'].head(100).tolist()\n",
    "val_emb.append(max_test)\n",
    "train_emb = nlp(train_emb, padding=\"longest\", truncation=True, max_length=40)\n",
    "val_emb = nlp(val_emb, padding=\"longest\", truncation=True, max_length=40)"
   ]
  },
  {
   "cell_type": "code",
   "execution_count": 8,
   "id": "eec255d7",
   "metadata": {},
   "outputs": [
    {
     "data": {
      "text/plain": [
       "PCA(n_components=2)"
      ]
     },
     "execution_count": 8,
     "metadata": {},
     "output_type": "execute_result"
    }
   ],
   "source": [
    "from sklearn.decomposition import PCA\n",
    "pca = PCA(n_components=2)\n",
    "pca.fit(train_emb)"
   ]
  },
  {
   "cell_type": "code",
   "execution_count": 9,
   "id": "112b674e",
   "metadata": {},
   "outputs": [
    {
     "data": {
      "text/plain": [
       "<matplotlib.collections.PathCollection at 0x7f48d212cc50>"
      ]
     },
     "execution_count": 9,
     "metadata": {},
     "output_type": "execute_result"
    },
    {
     "data": {
      "image/png": "[encoded data removed]",
      "text/plain": [
       "<Figure size 432x288 with 1 Axes>"
      ]
     },
     "metadata": {
      "needs_background": "light"
     },
     "output_type": "display_data"
    }
   ],
   "source": [
    "plt.scatter(pca.transform(train_emb)[:,0],pca.transform(train_emb)[:,1])\n",
    "plt.scatter(pca.transform(val_emb)[:,0],pca.transform(val_emb)[:,1])"
   ]
  },
  {
   "cell_type": "code",
   "execution_count": 13,
   "id": "cc7b8128",
   "metadata": {},
   "outputs": [
    {
     "data": {
      "text/html": [
       "<div>\n",
       "<style scoped>\n",
       "    .dataframe tbody tr th:only-of-type {\n",
       "        vertical-align: middle;\n",
       "    }\n",
       "\n",
       "    .dataframe tbody tr th {\n",
       "        vertical-align: top;\n",
       "    }\n",
       "\n",
       "    .dataframe thead th {\n",
       "        text-align: right;\n",
       "    }\n",
       "</style>\n",
       "<table border=\"1\" class=\"dataframe\">\n",
       "  <thead>\n",
       "    <tr style=\"text-align: right;\">\n",
       "      <th></th>\n",
       "      <th>string_X_train</th>\n",
       "      <th>string_Y_1</th>\n",
       "      <th>string_Y_2</th>\n",
       "      <th>Y_label</th>\n",
       "      <th>row_id</th>\n",
       "    </tr>\n",
       "  </thead>\n",
       "  <tbody>\n",
       "    <tr>\n",
       "      <th>1</th>\n",
       "      <td>COMMODITY: STYRENE MONOMER IN BULKQUANTITY: 3,...</td>\n",
       "      <td>11</td>\n",
       "      <td>34</td>\n",
       "      <td>STYRENE MONOMER IN BULK</td>\n",
       "      <td>1</td>\n",
       "    </tr>\n",
       "    <tr>\n",
       "      <th>2</th>\n",
       "      <td>COMMODITY: STYRENE MONOMER IN BULKQUANTITY: 3,...</td>\n",
       "      <td>11</td>\n",
       "      <td>34</td>\n",
       "      <td>STYRENE MONOMER IN BULK</td>\n",
       "      <td>2</td>\n",
       "    </tr>\n",
       "    <tr>\n",
       "      <th>3</th>\n",
       "      <td>PP 3307UNC1 . TRADE TERMS: CFR ANY JAPANESE PORT</td>\n",
       "      <td>0</td>\n",
       "      <td>2</td>\n",
       "      <td>PP</td>\n",
       "      <td>10</td>\n",
       "    </tr>\n",
       "    <tr>\n",
       "      <th>4</th>\n",
       "      <td>CIF BELAWAN PORT, INDONESIA +20 MT +/- 5PCT OF...</td>\n",
       "      <td>47</td>\n",
       "      <td>62</td>\n",
       "      <td>2-ETHYL HEXANOL</td>\n",
       "      <td>13</td>\n",
       "    </tr>\n",
       "    <tr>\n",
       "      <th>5</th>\n",
       "      <td>CIF BELAWAN PORT, INDONESIA +20 MTON +/-5PCT O...</td>\n",
       "      <td>48</td>\n",
       "      <td>63</td>\n",
       "      <td>2-ETHYL HEXANOL</td>\n",
       "      <td>14</td>\n",
       "    </tr>\n",
       "    <tr>\n",
       "      <th>...</th>\n",
       "      <td>...</td>\n",
       "      <td>...</td>\n",
       "      <td>...</td>\n",
       "      <td>...</td>\n",
       "      <td>...</td>\n",
       "    </tr>\n",
       "    <tr>\n",
       "      <th>96</th>\n",
       "      <td>COMMODITY:ETHYLENE-PROPYLENE COPOLYMER K8025 Q...</td>\n",
       "      <td>10</td>\n",
       "      <td>38</td>\n",
       "      <td>ETHYLENE-PROPYLENE COPOLYMER</td>\n",
       "      <td>317</td>\n",
       "    </tr>\n",
       "    <tr>\n",
       "      <th>97</th>\n",
       "      <td>COMMODITY:POLYPROPYLENE RESIN YUNGSOX 1120 QUA...</td>\n",
       "      <td>10</td>\n",
       "      <td>29</td>\n",
       "      <td>POLYPROPYLENE RESIN</td>\n",
       "      <td>319</td>\n",
       "    </tr>\n",
       "    <tr>\n",
       "      <th>98</th>\n",
       "      <td>COMMODITY: HDPE 9001 QUANTITY: 50MT UNIT PRICE...</td>\n",
       "      <td>11</td>\n",
       "      <td>20</td>\n",
       "      <td>HDPE 9001</td>\n",
       "      <td>321</td>\n",
       "    </tr>\n",
       "    <tr>\n",
       "      <th>99</th>\n",
       "      <td>BASE OIL 70NPRICING:1000MT +/-5PCT AT ICIS PRI...</td>\n",
       "      <td>91</td>\n",
       "      <td>100</td>\n",
       "      <td>WHITE OIL</td>\n",
       "      <td>325</td>\n",
       "    </tr>\n",
       "    <tr>\n",
       "      <th>100</th>\n",
       "      <td>BASE OIL 70NPRICING:1000MT +/-5PCT AT ICIS PRI...</td>\n",
       "      <td>0</td>\n",
       "      <td>8</td>\n",
       "      <td>BASE OIL</td>\n",
       "      <td>326</td>\n",
       "    </tr>\n",
       "  </tbody>\n",
       "</table>\n",
       "<p>100 rows × 5 columns</p>\n",
       "</div>"
      ],
      "text/plain": [
       "                                        string_X_train  string_Y_1  \\\n",
       "1    COMMODITY: STYRENE MONOMER IN BULKQUANTITY: 3,...          11   \n",
       "2    COMMODITY: STYRENE MONOMER IN BULKQUANTITY: 3,...          11   \n",
       "3     PP 3307UNC1 . TRADE TERMS: CFR ANY JAPANESE PORT           0   \n",
       "4    CIF BELAWAN PORT, INDONESIA +20 MT +/- 5PCT OF...          47   \n",
       "5    CIF BELAWAN PORT, INDONESIA +20 MTON +/-5PCT O...          48   \n",
       "..                                                 ...         ...   \n",
       "96   COMMODITY:ETHYLENE-PROPYLENE COPOLYMER K8025 Q...          10   \n",
       "97   COMMODITY:POLYPROPYLENE RESIN YUNGSOX 1120 QUA...          10   \n",
       "98   COMMODITY: HDPE 9001 QUANTITY: 50MT UNIT PRICE...          11   \n",
       "99   BASE OIL 70NPRICING:1000MT +/-5PCT AT ICIS PRI...          91   \n",
       "100  BASE OIL 70NPRICING:1000MT +/-5PCT AT ICIS PRI...           0   \n",
       "\n",
       "     string_Y_2                       Y_label  row_id  \n",
       "1            34       STYRENE MONOMER IN BULK       1  \n",
       "2            34       STYRENE MONOMER IN BULK       2  \n",
       "3             2                            PP      10  \n",
       "4            62               2-ETHYL HEXANOL      13  \n",
       "5            63               2-ETHYL HEXANOL      14  \n",
       "..          ...                           ...     ...  \n",
       "96           38  ETHYLENE-PROPYLENE COPOLYMER     317  \n",
       "97           29           POLYPROPYLENE RESIN     319  \n",
       "98           20                     HDPE 9001     321  \n",
       "99          100                     WHITE OIL     325  \n",
       "100           8                      BASE OIL     326  \n",
       "\n",
       "[100 rows x 5 columns]"
      ]
     },
     "metadata": {},
     "output_type": "display_data"
    }
   ],
   "source": [
    "val_df = pd.read_csv('Val_Product_Data_2021_0114.csv',index_col=0).drop(['Forward','Backward'],axis=1)\n",
    "val_df = val_df.dropna(axis=0)\n",
    "display(val_df.head(100))"
   ]
  },
  {
   "cell_type": "code",
   "execution_count": 14,
   "id": "98de4c69",
   "metadata": {},
   "outputs": [
    {
     "data": {
      "image/png": "[encoded data removed]",
      "text/plain": [
       "<Figure size 432x288 with 1 Axes>"
      ]
     },
     "metadata": {
      "needs_background": "light"
     },
     "output_type": "display_data"
    }
   ],
   "source": [
    "plt.scatter(pca.transform(train_emb)[:,0],pca.transform(train_emb)[:,1],alpha=0.1)\n",
    "plt.scatter(pca.transform(val_emb)[:,0],pca.transform(val_emb)[:,1],alpha=0.1)\n",
    "plt.scatter(pca.transform(val_emb)[0,0],pca.transform(val_emb)[0,1],label='STYRENE MONOMER IN BULK')\n",
    "plt.scatter(pca.transform(val_emb)[2,0],pca.transform(val_emb)[2,1],label='PP')\n",
    "plt.scatter(pca.transform(val_emb)[3,0],pca.transform(val_emb)[3,1],label='2-ETHYL HEXANOL')\n",
    "plt.scatter(pca.transform(val_emb)[-2,0],pca.transform(val_emb)[-2,1],label='WHITE OIL')\n",
    "plt.scatter(pca.transform(val_emb)[-1,0],pca.transform(val_emb)[-1,1],label='BASE OIL')\n",
    "plt.legend()\n",
    "plt.show()"
   ]
  },
  {
   "cell_type": "code",
   "execution_count": null,
   "id": "9218dced",
   "metadata": {},
   "outputs": [],
   "source": []
  }
 ],
 "metadata": {
  "kernelspec": {
   "display_name": "Python 3 (ipykernel)",
   "language": "python",
   "name": "python3"
  },
  "language_info": {
   "codemirror_mode": {
    "name": "ipython",
    "version": 3
   },
   "file_extension": ".py",
   "mimetype": "text/x-python",
   "name": "python",
   "nbconvert_exporter": "python",
   "pygments_lexer": "ipython3",
   "version": "3.7.4"
  }
 },
 "nbformat": 4,
 "nbformat_minor": 5
}
