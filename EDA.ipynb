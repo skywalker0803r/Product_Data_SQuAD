{
 "metadata": {
  "language_info": {
   "codemirror_mode": {
    "name": "ipython",
    "version": 3
   },
   "file_extension": ".py",
   "mimetype": "text/x-python",
   "name": "python",
   "nbconvert_exporter": "python",
   "pygments_lexer": "ipython3",
   "version": "3.8.5"
  },
  "orig_nbformat": 2,
  "kernelspec": {
   "name": "python385jvsc74a57bd02ccee5cc862501c1aad1cf19888c2a2eca4026b72d187db43d5e889cbdc6ee97",
   "display_name": "Python 3.8.5 64-bit ('base': conda)"
  }
 },
 "nbformat": 4,
 "nbformat_minor": 2,
 "cells": [
  {
   "cell_type": "code",
   "execution_count": 8,
   "metadata": {},
   "outputs": [],
   "source": [
    "import pandas as pd\n",
    "from tqdm import tqdm_notebook as tqdm"
   ]
  },
  {
   "source": [
    "# DATA"
   ],
   "cell_type": "markdown",
   "metadata": {}
  },
  {
   "cell_type": "code",
   "execution_count": 9,
   "metadata": {},
   "outputs": [
    {
     "output_type": "execute_result",
     "data": {
      "text/plain": [
       "                                         string_X_train  string_Y_1  \\\n",
       "586   YUNGSOX 2100M 12MT USD1,015/MT USD12,180 YUNGS...           0   \n",
       "92    TRIS 1,2-CYCLOHEXANE DICARBOXYLIC ACID,DI-ISON...           0   \n",
       "91                       TRIS . CIF PORT KLANG,MALAYSIA           0   \n",
       "1000  TRADE TERMS:CIF HEYUAN, CHINA AND/OR CIF CHANG...          73   \n",
       "82    TRADE TERMS INCOTERMS 2010 : CFR HAI PHONG POR...         145   \n",
       "\n",
       "      string_Y_2                                            Y_label  \\\n",
       "586           13                                      YUNGSOX 2100M   \n",
       "92            50  TRIS 1,2-CYCLOHEXANE DICARBOXYLIC ACID,DI-ISON...   \n",
       "91             4                                               TRIS   \n",
       "1000          87                                     PVC RESIN S-70   \n",
       "82           166                              ABS AF3535-AJ Z-BLACK   \n",
       "\n",
       "           Forward      Backward  row_id              label_for_train  \n",
       "586            NaN  2MT USD1,015     855     {'Product':[( 0 , 13 )]}  \n",
       "92    CLOHEXANE DI  OXYLIC ACID,     140     {'Product':[( 0 , 50 )]}  \n",
       "91             NaN           SIA     139      {'Product':[( 0 , 4 )]}  \n",
       "1000  NG, CHINA.1   PER MT AS PE    1425    {'Product':[( 73 , 87 )]}  \n",
       "82    MOUNT ABS AF  -BLACK 108MT     126  {'Product':[( 145 , 166 )]}  "
      ],
      "text/html": "<div>\n<style scoped>\n    .dataframe tbody tr th:only-of-type {\n        vertical-align: middle;\n    }\n\n    .dataframe tbody tr th {\n        vertical-align: top;\n    }\n\n    .dataframe thead th {\n        text-align: right;\n    }\n</style>\n<table border=\"1\" class=\"dataframe\">\n  <thead>\n    <tr style=\"text-align: right;\">\n      <th></th>\n      <th>string_X_train</th>\n      <th>string_Y_1</th>\n      <th>string_Y_2</th>\n      <th>Y_label</th>\n      <th>Forward</th>\n      <th>Backward</th>\n      <th>row_id</th>\n      <th>label_for_train</th>\n    </tr>\n  </thead>\n  <tbody>\n    <tr>\n      <th>586</th>\n      <td>YUNGSOX 2100M 12MT USD1,015/MT USD12,180 YUNGS...</td>\n      <td>0</td>\n      <td>13</td>\n      <td>YUNGSOX 2100M</td>\n      <td>NaN</td>\n      <td>2MT USD1,015</td>\n      <td>855</td>\n      <td>{'Product':[( 0 , 13 )]}</td>\n    </tr>\n    <tr>\n      <th>92</th>\n      <td>TRIS 1,2-CYCLOHEXANE DICARBOXYLIC ACID,DI-ISON...</td>\n      <td>0</td>\n      <td>50</td>\n      <td>TRIS 1,2-CYCLOHEXANE DICARBOXYLIC ACID,DI-ISON...</td>\n      <td>CLOHEXANE DI</td>\n      <td>OXYLIC ACID,</td>\n      <td>140</td>\n      <td>{'Product':[( 0 , 50 )]}</td>\n    </tr>\n    <tr>\n      <th>91</th>\n      <td>TRIS . CIF PORT KLANG,MALAYSIA</td>\n      <td>0</td>\n      <td>4</td>\n      <td>TRIS</td>\n      <td>NaN</td>\n      <td>SIA</td>\n      <td>139</td>\n      <td>{'Product':[( 0 , 4 )]}</td>\n    </tr>\n    <tr>\n      <th>1000</th>\n      <td>TRADE TERMS:CIF HEYUAN, CHINA AND/OR CIF CHANG...</td>\n      <td>73</td>\n      <td>87</td>\n      <td>PVC RESIN S-70</td>\n      <td>NG, CHINA.1</td>\n      <td>PER MT AS PE</td>\n      <td>1425</td>\n      <td>{'Product':[( 73 , 87 )]}</td>\n    </tr>\n    <tr>\n      <th>82</th>\n      <td>TRADE TERMS INCOTERMS 2010 : CFR HAI PHONG POR...</td>\n      <td>145</td>\n      <td>166</td>\n      <td>ABS AF3535-AJ Z-BLACK</td>\n      <td>MOUNT ABS AF</td>\n      <td>-BLACK 108MT</td>\n      <td>126</td>\n      <td>{'Product':[( 145 , 166 )]}</td>\n    </tr>\n  </tbody>\n</table>\n</div>"
     },
     "metadata": {},
     "execution_count": 9
    }
   ],
   "source": [
    "df = pd.read_csv('Train_Product_Data_2021_0114.csv',index_col=0)\n",
    "df.head()"
   ]
  },
  {
   "source": [
    "# Model"
   ],
   "cell_type": "markdown",
   "metadata": {}
  },
  {
   "cell_type": "code",
   "execution_count": 10,
   "metadata": {},
   "outputs": [],
   "source": [
    "from transformers import AutoModelForQuestionAnswering, AutoTokenizer, pipeline\n",
    "model_name = \"deepset/roberta-base-squad2\"\n",
    "tokenizer = AutoTokenizer.from_pretrained(model_name)\n",
    "nlp = pipeline('question-answering', model=model_name, tokenizer=model_name)"
   ]
  },
  {
   "source": [
    "# simple test"
   ],
   "cell_type": "markdown",
   "metadata": {}
  },
  {
   "cell_type": "code",
   "execution_count": 11,
   "metadata": {},
   "outputs": [
    {
     "output_type": "execute_result",
     "data": {
      "text/plain": [
       "'Ricky'"
      ]
     },
     "metadata": {},
     "execution_count": 11
    }
   ],
   "source": [
    "QA_input = {\n",
    "    'question': 'What is your name?',\n",
    "    'context': 'my name is Ricky'\n",
    "}\n",
    "res = nlp(QA_input)\n",
    "QA_input['context'][res['start']:res['end']]"
   ]
  },
  {
   "source": [
    "# test model on this task before training"
   ],
   "cell_type": "markdown",
   "metadata": {}
  },
  {
   "cell_type": "code",
   "execution_count": 12,
   "metadata": {},
   "outputs": [],
   "source": [
    "def test_model(n_test):\n",
    "    i = 0\n",
    "    table = pd.DataFrame()\n",
    "    for _ in tqdm(range(n_test)):\n",
    "        sample = df.sample(1)\n",
    "        string_X_train = sample['string_X_train'].values[0]\n",
    "        string_Y_1 = sample['string_Y_1'].values[0]\n",
    "        string_Y_2 = sample['string_Y_2'].values[0]\n",
    "        QA_input = {\n",
    "            'question': 'What is the product name?',\n",
    "            'context': string_X_train\n",
    "        }\n",
    "        res = nlp(QA_input)\n",
    "        predict = QA_input['context'][res['start']:res['end']]\n",
    "        row = pd.DataFrame({\n",
    "            'label':string_X_train[string_Y_1:string_Y_2],\n",
    "            'predict:':predict},index=[i])\n",
    "        table = table.append(row)\n",
    "        i += 1\n",
    "    display(table)"
   ]
  },
  {
   "cell_type": "code",
   "execution_count": 13,
   "metadata": {},
   "outputs": [
    {
     "output_type": "stream",
     "name": "stderr",
     "text": [
      "<ipython-input-12-bade752e655f>:4: TqdmDeprecationWarning: This function will be removed in tqdm==5.0.0\nPlease use `tqdm.notebook.tqdm` instead of `tqdm.tqdm_notebook`\n  for _ in tqdm(range(n_test)):\n"
     ]
    },
    {
     "output_type": "display_data",
     "data": {
      "text/plain": "HBox(children=(HTML(value=''), FloatProgress(value=0.0, max=10.0), HTML(value='')))",
      "application/vnd.jupyter.widget-view+json": {
       "version_major": 2,
       "version_minor": 0,
       "model_id": "180f012bbd444df3bb4bdb448b10d06e"
      }
     },
     "metadata": {}
    },
    {
     "output_type": "stream",
     "name": "stdout",
     "text": [
      "\n"
     ]
    },
    {
     "output_type": "display_data",
     "data": {
      "text/plain": "                           label                                 predict:\n0  ACRYLONITRILE BUTADIENE STYRE            ACRYLONITRILE BUTADIENE STYRE\n1         POLYESTER STAPLE FIBER                   POLYESTER STAPLE FIBER\n2                         GASOIL                       FOB MAILIAO,TAIWAN\n3        HIGH IMPACT POLYSTYRENE  FORMOSA CHEMICALS AND FIBRE CORPORATION\n4                      SAN RESIN                       CIF CHONGQING PORT\n5            MONOETHYLENE GLYCOL            MONOETHYLENE GLYCOL MEG FIBER\n6            POLYPROPYLENE RESIN                            POLYPROPYLENE\n7               PCS PVC FITTINGS                       MALAYSIA INCOTERMS\n8                          LLDPE                     SHIPPING INSTRUCTION\n9            BISPHENOL-ACONTRACT                                BISPHENOL",
      "text/html": "<div>\n<style scoped>\n    .dataframe tbody tr th:only-of-type {\n        vertical-align: middle;\n    }\n\n    .dataframe tbody tr th {\n        vertical-align: top;\n    }\n\n    .dataframe thead th {\n        text-align: right;\n    }\n</style>\n<table border=\"1\" class=\"dataframe\">\n  <thead>\n    <tr style=\"text-align: right;\">\n      <th></th>\n      <th>label</th>\n      <th>predict:</th>\n    </tr>\n  </thead>\n  <tbody>\n    <tr>\n      <th>0</th>\n      <td>ACRYLONITRILE BUTADIENE STYRE</td>\n      <td>ACRYLONITRILE BUTADIENE STYRE</td>\n    </tr>\n    <tr>\n      <th>1</th>\n      <td>POLYESTER STAPLE FIBER</td>\n      <td>POLYESTER STAPLE FIBER</td>\n    </tr>\n    <tr>\n      <th>2</th>\n      <td>GASOIL</td>\n      <td>FOB MAILIAO,TAIWAN</td>\n    </tr>\n    <tr>\n      <th>3</th>\n      <td>HIGH IMPACT POLYSTYRENE</td>\n      <td>FORMOSA CHEMICALS AND FIBRE CORPORATION</td>\n    </tr>\n    <tr>\n      <th>4</th>\n      <td>SAN RESIN</td>\n      <td>CIF CHONGQING PORT</td>\n    </tr>\n    <tr>\n      <th>5</th>\n      <td>MONOETHYLENE GLYCOL</td>\n      <td>MONOETHYLENE GLYCOL MEG FIBER</td>\n    </tr>\n    <tr>\n      <th>6</th>\n      <td>POLYPROPYLENE RESIN</td>\n      <td>POLYPROPYLENE</td>\n    </tr>\n    <tr>\n      <th>7</th>\n      <td>PCS PVC FITTINGS</td>\n      <td>MALAYSIA INCOTERMS</td>\n    </tr>\n    <tr>\n      <th>8</th>\n      <td>LLDPE</td>\n      <td>SHIPPING INSTRUCTION</td>\n    </tr>\n    <tr>\n      <th>9</th>\n      <td>BISPHENOL-ACONTRACT</td>\n      <td>BISPHENOL</td>\n    </tr>\n  </tbody>\n</table>\n</div>"
     },
     "metadata": {}
    }
   ],
   "source": [
    "test_model(10)"
   ]
  },
  {
   "cell_type": "code",
   "execution_count": null,
   "metadata": {},
   "outputs": [],
   "source": []
  }
 ]
}