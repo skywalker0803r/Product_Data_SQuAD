{
 "cells": [
  {
   "cell_type": "code",
   "execution_count": 86,
   "metadata": {},
   "outputs": [],
   "source": [
    "import pandas as pd\n",
    "from tqdm import tqdm_notebook as tqdm\n",
    "import plotly.express as px\n",
    "import matplotlib.pyplot as plt"
   ]
  },
  {
   "cell_type": "markdown",
   "metadata": {},
   "source": [
    "# DATA"
   ]
  },
  {
   "cell_type": "code",
   "execution_count": 87,
   "metadata": {},
   "outputs": [
    {
     "data": {
      "text/html": [
       "<div>\n",
       "<style scoped>\n",
       "    .dataframe tbody tr th:only-of-type {\n",
       "        vertical-align: middle;\n",
       "    }\n",
       "\n",
       "    .dataframe tbody tr th {\n",
       "        vertical-align: top;\n",
       "    }\n",
       "\n",
       "    .dataframe thead th {\n",
       "        text-align: right;\n",
       "    }\n",
       "</style>\n",
       "<table border=\"1\" class=\"dataframe\">\n",
       "  <thead>\n",
       "    <tr style=\"text-align: right;\">\n",
       "      <th></th>\n",
       "      <th>string_X_train</th>\n",
       "      <th>string_Y_1</th>\n",
       "      <th>string_Y_2</th>\n",
       "      <th>Y_label</th>\n",
       "      <th>Forward</th>\n",
       "      <th>Backward</th>\n",
       "      <th>row_id</th>\n",
       "      <th>label_for_train</th>\n",
       "    </tr>\n",
       "  </thead>\n",
       "  <tbody>\n",
       "    <tr>\n",
       "      <th>586</th>\n",
       "      <td>YUNGSOX 2100M 12MT USD1,015/MT USD12,180 YUNGS...</td>\n",
       "      <td>0</td>\n",
       "      <td>13</td>\n",
       "      <td>YUNGSOX 2100M</td>\n",
       "      <td>NaN</td>\n",
       "      <td>2MT USD1,015</td>\n",
       "      <td>855</td>\n",
       "      <td>{'Product':[( 0 , 13 )]}</td>\n",
       "    </tr>\n",
       "    <tr>\n",
       "      <th>92</th>\n",
       "      <td>TRIS 1,2-CYCLOHEXANE DICARBOXYLIC ACID,DI-ISON...</td>\n",
       "      <td>0</td>\n",
       "      <td>50</td>\n",
       "      <td>TRIS 1,2-CYCLOHEXANE DICARBOXYLIC ACID,DI-ISON...</td>\n",
       "      <td>CLOHEXANE DI</td>\n",
       "      <td>OXYLIC ACID,</td>\n",
       "      <td>140</td>\n",
       "      <td>{'Product':[( 0 , 50 )]}</td>\n",
       "    </tr>\n",
       "    <tr>\n",
       "      <th>91</th>\n",
       "      <td>TRIS . CIF PORT KLANG,MALAYSIA</td>\n",
       "      <td>0</td>\n",
       "      <td>4</td>\n",
       "      <td>TRIS</td>\n",
       "      <td>NaN</td>\n",
       "      <td>SIA</td>\n",
       "      <td>139</td>\n",
       "      <td>{'Product':[( 0 , 4 )]}</td>\n",
       "    </tr>\n",
       "    <tr>\n",
       "      <th>1000</th>\n",
       "      <td>TRADE TERMS:CIF HEYUAN, CHINA AND/OR CIF CHANG...</td>\n",
       "      <td>73</td>\n",
       "      <td>87</td>\n",
       "      <td>PVC RESIN S-70</td>\n",
       "      <td>NG, CHINA.1</td>\n",
       "      <td>PER MT AS PE</td>\n",
       "      <td>1425</td>\n",
       "      <td>{'Product':[( 73 , 87 )]}</td>\n",
       "    </tr>\n",
       "    <tr>\n",
       "      <th>82</th>\n",
       "      <td>TRADE TERMS INCOTERMS 2010 : CFR HAI PHONG POR...</td>\n",
       "      <td>145</td>\n",
       "      <td>166</td>\n",
       "      <td>ABS AF3535-AJ Z-BLACK</td>\n",
       "      <td>MOUNT ABS AF</td>\n",
       "      <td>-BLACK 108MT</td>\n",
       "      <td>126</td>\n",
       "      <td>{'Product':[( 145 , 166 )]}</td>\n",
       "    </tr>\n",
       "  </tbody>\n",
       "</table>\n",
       "</div>"
      ],
      "text/plain": [
       "                                         string_X_train  string_Y_1  \\\n",
       "586   YUNGSOX 2100M 12MT USD1,015/MT USD12,180 YUNGS...           0   \n",
       "92    TRIS 1,2-CYCLOHEXANE DICARBOXYLIC ACID,DI-ISON...           0   \n",
       "91                       TRIS . CIF PORT KLANG,MALAYSIA           0   \n",
       "1000  TRADE TERMS:CIF HEYUAN, CHINA AND/OR CIF CHANG...          73   \n",
       "82    TRADE TERMS INCOTERMS 2010 : CFR HAI PHONG POR...         145   \n",
       "\n",
       "      string_Y_2                                            Y_label  \\\n",
       "586           13                                      YUNGSOX 2100M   \n",
       "92            50  TRIS 1,2-CYCLOHEXANE DICARBOXYLIC ACID,DI-ISON...   \n",
       "91             4                                               TRIS   \n",
       "1000          87                                     PVC RESIN S-70   \n",
       "82           166                              ABS AF3535-AJ Z-BLACK   \n",
       "\n",
       "           Forward      Backward  row_id              label_for_train  \n",
       "586            NaN  2MT USD1,015     855     {'Product':[( 0 , 13 )]}  \n",
       "92    CLOHEXANE DI  OXYLIC ACID,     140     {'Product':[( 0 , 50 )]}  \n",
       "91             NaN           SIA     139      {'Product':[( 0 , 4 )]}  \n",
       "1000  NG, CHINA.1   PER MT AS PE    1425    {'Product':[( 73 , 87 )]}  \n",
       "82    MOUNT ABS AF  -BLACK 108MT     126  {'Product':[( 145 , 166 )]}  "
      ]
     },
     "execution_count": 87,
     "metadata": {},
     "output_type": "execute_result"
    }
   ],
   "source": [
    "train_df = pd.read_csv('Train_Product_Data_2021_0114.csv',index_col=0)\n",
    "train_df.head()"
   ]
  },
  {
   "cell_type": "code",
   "execution_count": 88,
   "metadata": {},
   "outputs": [
    {
     "data": {
      "text/html": [
       "<div>\n",
       "<style scoped>\n",
       "    .dataframe tbody tr th:only-of-type {\n",
       "        vertical-align: middle;\n",
       "    }\n",
       "\n",
       "    .dataframe tbody tr th {\n",
       "        vertical-align: top;\n",
       "    }\n",
       "\n",
       "    .dataframe thead th {\n",
       "        text-align: right;\n",
       "    }\n",
       "</style>\n",
       "<table border=\"1\" class=\"dataframe\">\n",
       "  <thead>\n",
       "    <tr style=\"text-align: right;\">\n",
       "      <th></th>\n",
       "      <th>string_X_train</th>\n",
       "      <th>string_Y_1</th>\n",
       "      <th>string_Y_2</th>\n",
       "      <th>Y_label</th>\n",
       "      <th>Forward</th>\n",
       "      <th>Backward</th>\n",
       "      <th>row_id</th>\n",
       "    </tr>\n",
       "  </thead>\n",
       "  <tbody>\n",
       "    <tr>\n",
       "      <th>1</th>\n",
       "      <td>COMMODITY: STYRENE MONOMER IN BULKQUANTITY: 3,...</td>\n",
       "      <td>11</td>\n",
       "      <td>34</td>\n",
       "      <td>STYRENE MONOMER IN BULK</td>\n",
       "      <td>NaN</td>\n",
       "      <td>TITY: 3,000.</td>\n",
       "      <td>1</td>\n",
       "    </tr>\n",
       "    <tr>\n",
       "      <th>2</th>\n",
       "      <td>COMMODITY: STYRENE MONOMER IN BULKQUANTITY: 3,...</td>\n",
       "      <td>11</td>\n",
       "      <td>34</td>\n",
       "      <td>STYRENE MONOMER IN BULK</td>\n",
       "      <td>NaN</td>\n",
       "      <td>TITY: 3,000.</td>\n",
       "      <td>2</td>\n",
       "    </tr>\n",
       "    <tr>\n",
       "      <th>3</th>\n",
       "      <td>PP 3307UNC1 . TRADE TERMS: CFR ANY JAPANESE PORT</td>\n",
       "      <td>0</td>\n",
       "      <td>2</td>\n",
       "      <td>PP</td>\n",
       "      <td>NaN</td>\n",
       "      <td>RADE TERMS:</td>\n",
       "      <td>10</td>\n",
       "    </tr>\n",
       "    <tr>\n",
       "      <th>4</th>\n",
       "      <td>CIF BELAWAN PORT, INDONESIA +20 MT +/- 5PCT OF...</td>\n",
       "      <td>47</td>\n",
       "      <td>62</td>\n",
       "      <td>2-ETHYL HEXANOL</td>\n",
       "      <td>+/- 5PCT OF</td>\n",
       "      <td>AT USD890.0</td>\n",
       "      <td>13</td>\n",
       "    </tr>\n",
       "    <tr>\n",
       "      <th>5</th>\n",
       "      <td>CIF BELAWAN PORT, INDONESIA +20 MTON +/-5PCT O...</td>\n",
       "      <td>48</td>\n",
       "      <td>63</td>\n",
       "      <td>2-ETHYL HEXANOL</td>\n",
       "      <td>+/-5PCT OF</td>\n",
       "      <td>AT USD 860/</td>\n",
       "      <td>14</td>\n",
       "    </tr>\n",
       "  </tbody>\n",
       "</table>\n",
       "</div>"
      ],
      "text/plain": [
       "                                      string_X_train  string_Y_1  string_Y_2  \\\n",
       "1  COMMODITY: STYRENE MONOMER IN BULKQUANTITY: 3,...          11          34   \n",
       "2  COMMODITY: STYRENE MONOMER IN BULKQUANTITY: 3,...          11          34   \n",
       "3   PP 3307UNC1 . TRADE TERMS: CFR ANY JAPANESE PORT           0           2   \n",
       "4  CIF BELAWAN PORT, INDONESIA +20 MT +/- 5PCT OF...          47          62   \n",
       "5  CIF BELAWAN PORT, INDONESIA +20 MTON +/-5PCT O...          48          63   \n",
       "\n",
       "                   Y_label       Forward      Backward  row_id  \n",
       "1  STYRENE MONOMER IN BULK           NaN  TITY: 3,000.       1  \n",
       "2  STYRENE MONOMER IN BULK           NaN  TITY: 3,000.       2  \n",
       "3                       PP           NaN  RADE TERMS:       10  \n",
       "4          2-ETHYL HEXANOL  +/- 5PCT OF    AT USD890.0      13  \n",
       "5          2-ETHYL HEXANOL   +/-5PCT OF    AT USD 860/      14  "
      ]
     },
     "execution_count": 88,
     "metadata": {},
     "output_type": "execute_result"
    }
   ],
   "source": [
    "val_df = pd.read_csv('Val_Product_Data_2021_0114.csv',index_col=0)\n",
    "val_df.head()"
   ]
  },
  {
   "cell_type": "code",
   "execution_count": 89,
   "metadata": {},
   "outputs": [
    {
     "data": {
      "text/plain": [
       "0    CAUSTIC SODA LIQUID FLAKE PEARLS MICROPEARLS\n",
       "1                             CAUSTIC SODA LIQUID\n",
       "2                             COMMODITY FORMOSACN\n",
       "3                                      CHLOROFORM\n",
       "4                             ETHYLENE DICHLORIDE\n",
       "Name: 品名, dtype: object"
      ]
     },
     "execution_count": 89,
     "metadata": {},
     "output_type": "execute_result"
    }
   ],
   "source": [
    "寶典 = pd.read_excel('台塑企業_ 產品寶典20210303.xlsx')['品名']\n",
    "寶典.head()"
   ]
  },
  {
   "cell_type": "markdown",
   "metadata": {},
   "source": [
    "# Analysis"
   ]
  },
  {
   "cell_type": "code",
   "execution_count": 98,
   "metadata": {},
   "outputs": [
    {
     "name": "stdout",
     "output_type": "stream",
     "text": [
      "115\n",
      "79\n",
      "0.5927835051546392\n"
     ]
    },
    {
     "data": {
      "image/png": "[encoded data removed]",
      "text/plain": [
       "<Figure size 432x288 with 1 Axes>"
      ]
     },
     "metadata": {},
     "output_type": "display_data"
    }
   ],
   "source": [
    "a = set(val_df['Y_label']) - set(寶典) #驗證集有但是寶典裡沒有的部份\n",
    "b = set(val_df['Y_label']) & set(寶典) #驗證集有同時寶典裡也有的部份\n",
    "print(len(a))\n",
    "print(len(b))\n",
    "print(len(a)/(len(a)+len(b)))\n",
    "t = pd.DataFrame()\n",
    "t['type'] = ['only in valset' for i in range(len(a))] + ['also in Baodian' for i in range(len(b))]\n",
    "dist = t.type.map({'only in valset':'only in valset', 'also in Baodian':'also in Baodian'})\n",
    "dist = dist.value_counts()\n",
    "\n",
    "plt.pie(dist,                        \n",
    "        labels = t['type'].unique(),)               \n",
    "plt.show()"
   ]
  },
  {
   "cell_type": "code",
   "execution_count": 99,
   "metadata": {},
   "outputs": [
    {
     "name": "stdout",
     "output_type": "stream",
     "text": [
      "344\n",
      "194\n",
      "0.6394052044609665\n"
     ]
    },
    {
     "data": {
      "image/png": "[encoded data removed]",
      "text/plain": [
       "<Figure size 432x288 with 1 Axes>"
      ]
     },
     "metadata": {},
     "output_type": "display_data"
    }
   ],
   "source": [
    "a = set(train_df['Y_label']) - set(val_df['Y_label']) #只有在訓練集出現\n",
    "b = set(val_df['Y_label']) & set(train_df['Y_label']) #同時出現\n",
    "print(len(a))\n",
    "print(len(b))\n",
    "print(len(a)/(len(a)+len(b)))\n",
    "t = pd.DataFrame()\n",
    "t['type'] = ['only in trainset' for i in range(len(a))] + ['also in valset' for i in range(len(b))]\n",
    "dist = t.type.map({'only in trainset':'only in trainset', 'also in valset':'also in valset'})\n",
    "dist = dist.value_counts()\n",
    "\n",
    "plt.pie(dist,                        \n",
    "        labels = t['type'].unique(),)               \n",
    "plt.show()"
   ]
  },
  {
   "cell_type": "markdown",
   "metadata": {},
   "source": [
    "# Model"
   ]
  },
  {
   "cell_type": "code",
   "execution_count": 73,
   "metadata": {},
   "outputs": [
    {
     "data": {
      "application/vnd.jupyter.widget-view+json": {
       "model_id": "15cf951336094c33ae2eb6ec4ec4443a",
       "version_major": 2,
       "version_minor": 0
      },
      "text/plain": [
       "Downloading:   0%|          | 0.00/571 [00:00<?, ?B/s]"
      ]
     },
     "metadata": {},
     "output_type": "display_data"
    },
    {
     "data": {
      "application/vnd.jupyter.widget-view+json": {
       "model_id": "9d412c1958874c1780a294b0c29ed951",
       "version_major": 2,
       "version_minor": 0
      },
      "text/plain": [
       "Downloading:   0%|          | 0.00/899k [00:00<?, ?B/s]"
      ]
     },
     "metadata": {},
     "output_type": "display_data"
    },
    {
     "data": {
      "application/vnd.jupyter.widget-view+json": {
       "model_id": "8e35e84f05e64d66b77b812c85cd0903",
       "version_major": 2,
       "version_minor": 0
      },
      "text/plain": [
       "Downloading:   0%|          | 0.00/456k [00:00<?, ?B/s]"
      ]
     },
     "metadata": {},
     "output_type": "display_data"
    },
    {
     "data": {
      "application/vnd.jupyter.widget-view+json": {
       "model_id": "e465c639fb3140c4a234621289f3afd3",
       "version_major": 2,
       "version_minor": 0
      },
      "text/plain": [
       "Downloading:   0%|          | 0.00/772 [00:00<?, ?B/s]"
      ]
     },
     "metadata": {},
     "output_type": "display_data"
    },
    {
     "data": {
      "application/vnd.jupyter.widget-view+json": {
       "model_id": "48e90be900324584b58c3f82e5126dcb",
       "version_major": 2,
       "version_minor": 0
      },
      "text/plain": [
       "Downloading:   0%|          | 0.00/79.0 [00:00<?, ?B/s]"
      ]
     },
     "metadata": {},
     "output_type": "display_data"
    },
    {
     "data": {
      "application/vnd.jupyter.widget-view+json": {
       "model_id": "75b6c19d03524e25a33b719221e87617",
       "version_major": 2,
       "version_minor": 0
      },
      "text/plain": [
       "Downloading:   0%|          | 0.00/496M [00:00<?, ?B/s]"
      ]
     },
     "metadata": {},
     "output_type": "display_data"
    }
   ],
   "source": [
    "from transformers import AutoModelForQuestionAnswering, AutoTokenizer, pipeline\n",
    "model_name = \"deepset/roberta-base-squad2\"\n",
    "tokenizer = AutoTokenizer.from_pretrained(model_name)\n",
    "nlp = pipeline('question-answering', model=model_name, tokenizer=model_name)"
   ]
  },
  {
   "cell_type": "markdown",
   "metadata": {},
   "source": [
    "# simple QA test"
   ]
  },
  {
   "cell_type": "code",
   "execution_count": 84,
   "metadata": {},
   "outputs": [
    {
     "data": {
      "text/plain": [
       "'Ricky'"
      ]
     },
     "execution_count": 84,
     "metadata": {},
     "output_type": "execute_result"
    }
   ],
   "source": [
    "QA_input = {\n",
    "    'question': 'What is your name?',\n",
    "    'context': 'my name is Ricky'\n",
    "}\n",
    "res = nlp(QA_input)\n",
    "QA_input['context'][res['start']:res['end']]"
   ]
  },
  {
   "cell_type": "markdown",
   "metadata": {},
   "source": [
    "# test model on this task before training"
   ]
  },
  {
   "cell_type": "code",
   "execution_count": 82,
   "metadata": {},
   "outputs": [],
   "source": [
    "def test_model(n_test):\n",
    "    i = 0\n",
    "    table = pd.DataFrame()\n",
    "    for _ in tqdm(range(n_test)):\n",
    "        sample = df.sample(1)\n",
    "        string_X_train = sample['string_X_train'].values[0]\n",
    "        string_Y_1 = sample['string_Y_1'].values[0]\n",
    "        string_Y_2 = sample['string_Y_2'].values[0]\n",
    "        QA_input = {\n",
    "            'question': 'What is the product name?',\n",
    "            'context': string_X_train\n",
    "        }\n",
    "        res = nlp(QA_input)\n",
    "        predict = QA_input['context'][res['start']:res['end']]\n",
    "        row = pd.DataFrame({\n",
    "            'label':string_X_train[string_Y_1:string_Y_2],\n",
    "            'predict:':predict},index=[i])\n",
    "        table = table.append(row)\n",
    "        i += 1\n",
    "    display(table)"
   ]
  },
  {
   "cell_type": "markdown",
   "metadata": {},
   "source": [
    "# bert test before fine tuning "
   ]
  },
  {
   "cell_type": "code",
   "execution_count": 83,
   "metadata": {},
   "outputs": [
    {
     "name": "stderr",
     "output_type": "stream",
     "text": [
      "/opt/conda/lib/python3.7/site-packages/ipykernel_launcher.py:4: TqdmDeprecationWarning:\n",
      "\n",
      "This function will be removed in tqdm==5.0.0\n",
      "Please use `tqdm.notebook.tqdm` instead of `tqdm.tqdm_notebook`\n",
      "\n"
     ]
    },
    {
     "data": {
      "application/vnd.jupyter.widget-view+json": {
       "model_id": "a9ca80780b024914b81f32e02c3bc203",
       "version_major": 2,
       "version_minor": 0
      },
      "text/plain": [
       "  0%|          | 0/10 [00:00<?, ?it/s]"
      ]
     },
     "metadata": {},
     "output_type": "display_data"
    },
    {
     "data": {
      "text/html": [
       "<div>\n",
       "<style scoped>\n",
       "    .dataframe tbody tr th:only-of-type {\n",
       "        vertical-align: middle;\n",
       "    }\n",
       "\n",
       "    .dataframe tbody tr th {\n",
       "        vertical-align: top;\n",
       "    }\n",
       "\n",
       "    .dataframe thead th {\n",
       "        text-align: right;\n",
       "    }\n",
       "</style>\n",
       "<table border=\"1\" class=\"dataframe\">\n",
       "  <thead>\n",
       "    <tr style=\"text-align: right;\">\n",
       "      <th></th>\n",
       "      <th>label</th>\n",
       "      <th>predict:</th>\n",
       "    </tr>\n",
       "  </thead>\n",
       "  <tbody>\n",
       "    <tr>\n",
       "      <th>0</th>\n",
       "      <td>ABS AG15A1-H</td>\n",
       "      <td>CIP SHENZHEN</td>\n",
       "    </tr>\n",
       "    <tr>\n",
       "      <th>1</th>\n",
       "      <td>BPA BISPHENOL-A</td>\n",
       "      <td>BPA BISPHENOL-A</td>\n",
       "    </tr>\n",
       "    <tr>\n",
       "      <th>2</th>\n",
       "      <td>POLYPROPYLENE RESIN</td>\n",
       "      <td>POLYPROPYLENE RESIN YUNGSOX 1120</td>\n",
       "    </tr>\n",
       "    <tr>\n",
       "      <th>3</th>\n",
       "      <td>TAIRILAC</td>\n",
       "      <td>SUPREME PETROCHEM LTD</td>\n",
       "    </tr>\n",
       "    <tr>\n",
       "      <th>4</th>\n",
       "      <td>EPOXY RESIN</td>\n",
       "      <td>EPOXY</td>\n",
       "    </tr>\n",
       "    <tr>\n",
       "      <th>5</th>\n",
       "      <td>NYLON 6 HIGH TENACITY TIRE CORD YARN</td>\n",
       "      <td>NYLON 6 HIGH TENACITY TIRE CORD</td>\n",
       "    </tr>\n",
       "    <tr>\n",
       "      <th>6</th>\n",
       "      <td>HDPE TAISOX 9001</td>\n",
       "      <td>HDPE TAISOX 9001</td>\n",
       "    </tr>\n",
       "    <tr>\n",
       "      <th>7</th>\n",
       "      <td>ETHYL ACRYLATE</td>\n",
       "      <td>ETHYL ACRYLATE</td>\n",
       "    </tr>\n",
       "    <tr>\n",
       "      <th>8</th>\n",
       "      <td>FR4</td>\n",
       "      <td>FR4</td>\n",
       "    </tr>\n",
       "    <tr>\n",
       "      <th>9</th>\n",
       "      <td>NYLON 6 HIGH TENACITY FILAMENT YARN</td>\n",
       "      <td>204600.00 KG NYLON 6</td>\n",
       "    </tr>\n",
       "  </tbody>\n",
       "</table>\n",
       "</div>"
      ],
      "text/plain": [
       "                                  label                          predict:\n",
       "0                          ABS AG15A1-H                      CIP SHENZHEN\n",
       "1                       BPA BISPHENOL-A                   BPA BISPHENOL-A\n",
       "2                   POLYPROPYLENE RESIN  POLYPROPYLENE RESIN YUNGSOX 1120\n",
       "3                              TAIRILAC             SUPREME PETROCHEM LTD\n",
       "4                           EPOXY RESIN                             EPOXY\n",
       "5  NYLON 6 HIGH TENACITY TIRE CORD YARN   NYLON 6 HIGH TENACITY TIRE CORD\n",
       "6                      HDPE TAISOX 9001                  HDPE TAISOX 9001\n",
       "7                        ETHYL ACRYLATE                    ETHYL ACRYLATE\n",
       "8                                   FR4                               FR4\n",
       "9   NYLON 6 HIGH TENACITY FILAMENT YARN              204600.00 KG NYLON 6"
      ]
     },
     "metadata": {},
     "output_type": "display_data"
    }
   ],
   "source": [
    "test_model(10)"
   ]
  },
  {
   "cell_type": "code",
   "execution_count": null,
   "metadata": {},
   "outputs": [],
   "source": []
  }
 ],
 "metadata": {
  "kernelspec": {
   "display_name": "Python 3",
   "language": "python",
   "name": "python3"
  },
  "language_info": {
   "codemirror_mode": {
    "name": "ipython",
    "version": 3
   },
   "file_extension": ".py",
   "mimetype": "text/x-python",
   "name": "python",
   "nbconvert_exporter": "python",
   "pygments_lexer": "ipython3",
   "version": "3.7.4"
  }
 },
 "nbformat": 4,
 "nbformat_minor": 2
}
