{
 "cells": [
  {
   "cell_type": "code",
   "execution_count": 1,
   "source": [
    "import pandas as pd\r\n",
    "import numpy as np\r\n",
    "from tqdm import tqdm_notebook as tqdm\r\n",
    "from torch.optim.optimizer import Optimizer\r\n",
    "import matplotlib.pyplot as plt\r\n",
    "from copy import deepcopy\r\n",
    "import numpy as np\r\n",
    "import random\r\n",
    "import torch\r\n",
    "import warnings \r\n",
    "warnings.filterwarnings('ignore')\r\n",
    "from pytorch_lightning import seed_everything\r\n",
    "import os\r\n",
    "import gc\r\n",
    "gc.collect()"
   ],
   "outputs": [
    {
     "output_type": "execute_result",
     "data": {
      "text/plain": [
       "22"
      ]
     },
     "metadata": {},
     "execution_count": 1
    }
   ],
   "metadata": {}
  },
  {
   "cell_type": "markdown",
   "source": [
    "# set_seed(42)"
   ],
   "metadata": {}
  },
  {
   "cell_type": "code",
   "execution_count": 2,
   "source": [
    "def set_seed(seed = int):\r\n",
    "    '''Sets the seed of the entire notebook so results are the same every time we run.\r\n",
    "    This is for REPRODUCIBILITY.'''\r\n",
    "    np.random.seed(seed)\r\n",
    "    random_state = np.random.RandomState(seed)\r\n",
    "    random.seed(seed)\r\n",
    "    torch.manual_seed(seed)\r\n",
    "    torch.cuda.manual_seed(seed)\r\n",
    "    torch.backends.cudnn.deterministic = True\r\n",
    "    torch.backends.cudnn.benchmark = False\r\n",
    "    os.environ['PYTHONHASHSEED'] = str(seed)\r\n",
    "    seed_everything(seed)\r\n",
    "    return random_state\r\n",
    "random_state = set_seed(42)"
   ],
   "outputs": [
    {
     "output_type": "stream",
     "name": "stderr",
     "text": [
      "Global seed set to 42\n"
     ]
    }
   ],
   "metadata": {}
  },
  {
   "cell_type": "markdown",
   "source": [
    "# MADGRAD"
   ],
   "metadata": {}
  },
  {
   "cell_type": "code",
   "execution_count": 3,
   "source": [
    "import math\r\n",
    "from typing import TYPE_CHECKING, Any, Callable, Optional\r\n",
    "\r\n",
    "if TYPE_CHECKING:\r\n",
    "    from torch.optim.optimizer import _params_t\r\n",
    "else:\r\n",
    "    _params_t = Any\r\n",
    "\r\n",
    "class MADGRAD(Optimizer):\r\n",
    "\r\n",
    "    def __init__(\r\n",
    "        self, params: _params_t, lr: float = 1e-2, momentum: float = 0.9, weight_decay: float = 0, eps: float = 1e-6,\r\n",
    "    ):\r\n",
    "        if momentum < 0 or momentum >= 1:\r\n",
    "            raise ValueError(f\"Momentum {momentum} must be in the range [0,1]\")\r\n",
    "        if lr <= 0:\r\n",
    "            raise ValueError(f\"Learning rate {lr} must be positive\")\r\n",
    "        if weight_decay < 0:\r\n",
    "            raise ValueError(f\"Weight decay {weight_decay} must be non-negative\")\r\n",
    "        if eps < 0:\r\n",
    "            raise ValueError(f\"Eps must be non-negative\")\r\n",
    "\r\n",
    "        defaults = dict(lr=lr, eps=eps, momentum=momentum, weight_decay=weight_decay)\r\n",
    "        super().__init__(params, defaults)\r\n",
    "\r\n",
    "    @property\r\n",
    "    def supports_memory_efficient_fp16(self) -> bool:\r\n",
    "        return False\r\n",
    "\r\n",
    "    @property\r\n",
    "    def supports_flat_params(self) -> bool:\r\n",
    "        return True\r\n",
    "\r\n",
    "    def step(self, closure: Optional[Callable[[], float]] = None) -> Optional[float]:\r\n",
    "\r\n",
    "        loss = None\r\n",
    "        if closure is not None:\r\n",
    "            loss = closure()\r\n",
    "\r\n",
    "        if 'k' not in self.state:\r\n",
    "            self.state['k'] = torch.tensor([0], dtype=torch.long)\r\n",
    "        k = self.state['k'].item()\r\n",
    "\r\n",
    "        for group in self.param_groups:\r\n",
    "            eps = group[\"eps\"]\r\n",
    "            lr = group[\"lr\"] + eps\r\n",
    "            decay = group[\"weight_decay\"]\r\n",
    "            momentum = group[\"momentum\"]\r\n",
    "\r\n",
    "            ck = 1 - momentum\r\n",
    "            lamb = lr * math.pow(k + 1, 0.5)\r\n",
    "\r\n",
    "            for p in group[\"params\"]:\r\n",
    "                if p.grad is None:\r\n",
    "                    continue\r\n",
    "                grad = p.grad.data\r\n",
    "                state = self.state[p]\r\n",
    "\r\n",
    "                if \"grad_sum_sq\" not in state:\r\n",
    "                    state[\"grad_sum_sq\"] = torch.zeros_like(p.data).detach()\r\n",
    "                    state[\"s\"] = torch.zeros_like(p.data).detach()\r\n",
    "                    if momentum != 0:\r\n",
    "                        state[\"x0\"] = torch.clone(p.data).detach()\r\n",
    "\r\n",
    "                if momentum != 0.0 and grad.is_sparse:\r\n",
    "                    raise RuntimeError(\"momentum != 0 is not compatible with sparse gradients\")\r\n",
    "\r\n",
    "                grad_sum_sq = state[\"grad_sum_sq\"]\r\n",
    "                s = state[\"s\"]\r\n",
    "\r\n",
    "                # Apply weight decay\r\n",
    "                if decay != 0:\r\n",
    "                    if grad.is_sparse:\r\n",
    "                        raise RuntimeError(\"weight_decay option is not compatible with sparse gradients\")\r\n",
    "\r\n",
    "                    grad.add_(p.data, alpha=decay)\r\n",
    "\r\n",
    "                if grad.is_sparse:\r\n",
    "                    grad = grad.coalesce()\r\n",
    "                    grad_val = grad._values()\r\n",
    "\r\n",
    "                    p_masked = p.sparse_mask(grad)\r\n",
    "                    grad_sum_sq_masked = grad_sum_sq.sparse_mask(grad)\r\n",
    "                    s_masked = s.sparse_mask(grad)\r\n",
    "\r\n",
    "                    # Compute x_0 from other known quantities\r\n",
    "                    rms_masked_vals = grad_sum_sq_masked._values().pow(1 / 3).add_(eps)\r\n",
    "                    x0_masked_vals = p_masked._values().addcdiv(s_masked._values(), rms_masked_vals, value=1)\r\n",
    "\r\n",
    "                    # Dense + sparse op\r\n",
    "                    grad_sq = grad * grad\r\n",
    "                    grad_sum_sq.add_(grad_sq, alpha=lamb)\r\n",
    "                    grad_sum_sq_masked.add_(grad_sq, alpha=lamb)\r\n",
    "\r\n",
    "                    rms_masked_vals = grad_sum_sq_masked._values().pow_(1 / 3).add_(eps)\r\n",
    "\r\n",
    "                    s.add_(grad, alpha=lamb)\r\n",
    "                    s_masked._values().add_(grad_val, alpha=lamb)\r\n",
    "\r\n",
    "                    # update masked copy of p\r\n",
    "                    p_kp1_masked_vals = x0_masked_vals.addcdiv(s_masked._values(), rms_masked_vals, value=-1)\r\n",
    "                    # Copy updated masked p to dense p using an add operation\r\n",
    "                    p_masked._values().add_(p_kp1_masked_vals, alpha=-1)\r\n",
    "                    p.data.add_(p_masked, alpha=-1)\r\n",
    "                else:\r\n",
    "                    if momentum == 0:\r\n",
    "                        # Compute x_0 from other known quantities\r\n",
    "                        rms = grad_sum_sq.pow(1 / 3).add_(eps)\r\n",
    "                        x0 = p.data.addcdiv(s, rms, value=1)\r\n",
    "                    else:\r\n",
    "                        x0 = state[\"x0\"]\r\n",
    "\r\n",
    "                    # Accumulate second moments\r\n",
    "                    grad_sum_sq.addcmul_(grad, grad, value=lamb)\r\n",
    "                    rms = grad_sum_sq.pow(1 / 3).add_(eps)\r\n",
    "\r\n",
    "                    # Update s\r\n",
    "                    s.data.add_(grad, alpha=lamb)\r\n",
    "\r\n",
    "                    # Step\r\n",
    "                    if momentum == 0:\r\n",
    "                        p.data.copy_(x0.addcdiv(s, rms, value=-1))\r\n",
    "                    else:\r\n",
    "                        z = x0.addcdiv(s, rms, value=-1)\r\n",
    "\r\n",
    "                        # p is a moving average of z\r\n",
    "                        p.data.mul_(1 - ck).add_(z, alpha=ck)\r\n",
    "\r\n",
    "\r\n",
    "        self.state['k'] += 1\r\n",
    "        return loss"
   ],
   "outputs": [],
   "metadata": {}
  },
  {
   "cell_type": "markdown",
   "source": [
    "# LOAD DATA"
   ],
   "metadata": {}
  },
  {
   "cell_type": "code",
   "execution_count": 4,
   "source": [
    "from sklearn.model_selection import train_test_split\r\n",
    "df = pd.read_csv('preprocess_for_SQUAD_開狀人.csv',index_col=0)\r\n",
    "train_df, val_df = train_test_split(df, test_size=0.2, random_state=42)\r\n",
    "display(train_df)\r\n",
    "display(val_df)"
   ],
   "outputs": [
    {
     "output_type": "display_data",
     "data": {
      "text/plain": [
       "                                               string_X  \\\n",
       "1376  MEENA CIRCUITS PVT LTD SURVEY NO 991 VILL-VADA...   \n",
       "906   TRAN VAN COLTD                CTY TNHH TRAN VA...   \n",
       "1036    PTINAWAN CHEMTEX SUKSES ABADI PLS SEE FIELD 47A   \n",
       "1723  PROTEA CHEMICALSA DIVISION OF OMNIA GROUP PTY ...   \n",
       "1996  CHEMSPACE LTD ADDRESS PLS SEE THE FIELD 47A IT...   \n",
       "...                                                 ...   \n",
       "1638  CURRENT INC 30 TYLER ST EXTENSION EAST HAVEN C...   \n",
       "1095  PROTEA CHEMICALS A DIVISION OF THE OMNIA GROUP...   \n",
       "1130  MY EAST SDN BHD 29 JALAN ANGGERIK MOKARA 3163 ...   \n",
       "1294  OCTAGON FIBRES AND CHEMICALS LTD128HIMARDIGHIT...   \n",
       "860   BRENNTAG CANADA INC 43 JUTLAND ROAD TORONTO ON...   \n",
       "\n",
       "                                 Y_label  string_Y_1  string_Y_2  \n",
       "1376    MEENA CIRCUITS PVT LTD SURVEY NO           0          32  \n",
       "906                       TRAN VAN COLTD           0          14  \n",
       "1036       PTINAWAN CHEMTEX SUKSES ABADI           0          29  \n",
       "1723       PROTEA CHEMICALSA DIVISION OF           0          29  \n",
       "1996                       CHEMSPACE LTD           0          13  \n",
       "...                                  ...         ...         ...  \n",
       "1638                         CURRENT INC           0          11  \n",
       "1095  PROTEA CHEMICALS A DIVISION OF THE           0          34  \n",
       "1130                     MY EAST SDN BHD           0          15  \n",
       "1294        OCTAGON FIBRES AND CHEMICALS           0          28  \n",
       "860                  BRENNTAG CANADA INC           0          19  \n",
       "\n",
       "[1972 rows x 4 columns]"
      ],
      "text/html": [
       "<div>\n",
       "<style scoped>\n",
       "    .dataframe tbody tr th:only-of-type {\n",
       "        vertical-align: middle;\n",
       "    }\n",
       "\n",
       "    .dataframe tbody tr th {\n",
       "        vertical-align: top;\n",
       "    }\n",
       "\n",
       "    .dataframe thead th {\n",
       "        text-align: right;\n",
       "    }\n",
       "</style>\n",
       "<table border=\"1\" class=\"dataframe\">\n",
       "  <thead>\n",
       "    <tr style=\"text-align: right;\">\n",
       "      <th></th>\n",
       "      <th>string_X</th>\n",
       "      <th>Y_label</th>\n",
       "      <th>string_Y_1</th>\n",
       "      <th>string_Y_2</th>\n",
       "    </tr>\n",
       "  </thead>\n",
       "  <tbody>\n",
       "    <tr>\n",
       "      <th>1376</th>\n",
       "      <td>MEENA CIRCUITS PVT LTD SURVEY NO 991 VILL-VADA...</td>\n",
       "      <td>MEENA CIRCUITS PVT LTD SURVEY NO</td>\n",
       "      <td>0</td>\n",
       "      <td>32</td>\n",
       "    </tr>\n",
       "    <tr>\n",
       "      <th>906</th>\n",
       "      <td>TRAN VAN COLTD                CTY TNHH TRAN VA...</td>\n",
       "      <td>TRAN VAN COLTD</td>\n",
       "      <td>0</td>\n",
       "      <td>14</td>\n",
       "    </tr>\n",
       "    <tr>\n",
       "      <th>1036</th>\n",
       "      <td>PTINAWAN CHEMTEX SUKSES ABADI PLS SEE FIELD 47A</td>\n",
       "      <td>PTINAWAN CHEMTEX SUKSES ABADI</td>\n",
       "      <td>0</td>\n",
       "      <td>29</td>\n",
       "    </tr>\n",
       "    <tr>\n",
       "      <th>1723</th>\n",
       "      <td>PROTEA CHEMICALSA DIVISION OF OMNIA GROUP PTY ...</td>\n",
       "      <td>PROTEA CHEMICALSA DIVISION OF</td>\n",
       "      <td>0</td>\n",
       "      <td>29</td>\n",
       "    </tr>\n",
       "    <tr>\n",
       "      <th>1996</th>\n",
       "      <td>CHEMSPACE LTD ADDRESS PLS SEE THE FIELD 47A IT...</td>\n",
       "      <td>CHEMSPACE LTD</td>\n",
       "      <td>0</td>\n",
       "      <td>13</td>\n",
       "    </tr>\n",
       "    <tr>\n",
       "      <th>...</th>\n",
       "      <td>...</td>\n",
       "      <td>...</td>\n",
       "      <td>...</td>\n",
       "      <td>...</td>\n",
       "    </tr>\n",
       "    <tr>\n",
       "      <th>1638</th>\n",
       "      <td>CURRENT INC 30 TYLER ST EXTENSION EAST HAVEN C...</td>\n",
       "      <td>CURRENT INC</td>\n",
       "      <td>0</td>\n",
       "      <td>11</td>\n",
       "    </tr>\n",
       "    <tr>\n",
       "      <th>1095</th>\n",
       "      <td>PROTEA CHEMICALS A DIVISION OF THE OMNIA GROUP...</td>\n",
       "      <td>PROTEA CHEMICALS A DIVISION OF THE</td>\n",
       "      <td>0</td>\n",
       "      <td>34</td>\n",
       "    </tr>\n",
       "    <tr>\n",
       "      <th>1130</th>\n",
       "      <td>MY EAST SDN BHD 29 JALAN ANGGERIK MOKARA 3163 ...</td>\n",
       "      <td>MY EAST SDN BHD</td>\n",
       "      <td>0</td>\n",
       "      <td>15</td>\n",
       "    </tr>\n",
       "    <tr>\n",
       "      <th>1294</th>\n",
       "      <td>OCTAGON FIBRES AND CHEMICALS LTD128HIMARDIGHIT...</td>\n",
       "      <td>OCTAGON FIBRES AND CHEMICALS</td>\n",
       "      <td>0</td>\n",
       "      <td>28</td>\n",
       "    </tr>\n",
       "    <tr>\n",
       "      <th>860</th>\n",
       "      <td>BRENNTAG CANADA INC 43 JUTLAND ROAD TORONTO ON...</td>\n",
       "      <td>BRENNTAG CANADA INC</td>\n",
       "      <td>0</td>\n",
       "      <td>19</td>\n",
       "    </tr>\n",
       "  </tbody>\n",
       "</table>\n",
       "<p>1972 rows × 4 columns</p>\n",
       "</div>"
      ]
     },
     "metadata": {}
    },
    {
     "output_type": "display_data",
     "data": {
      "text/plain": [
       "                                               string_X  \\\n",
       "111   RIKKEI TRADING CORP ROOM A14FNO44 SEC2 ZHONG S...   \n",
       "759   TAIHU JINZHANG SCIENCE AND TECHNOLOGY CORP NO2...   \n",
       "929   LUEN FUNG HONG PLASTIC MATERIALS CO LTDBLOCK A...   \n",
       "56    S P T MIDDLE EAST GENERAL TRADING LLC P O BOXP...   \n",
       "1465    PTINAWAN CHEMTEX SUKSES ABADI PLS SEE FIELD 47A   \n",
       "...                                                 ...   \n",
       "1251  MADAF PLAZIT PACKAGING ACA LTD KIBBUTZ GAZIT 1...   \n",
       "654   BERGER PAINTS PAKISTAN LIMITED 28-KM MULTAN RO...   \n",
       "605   CURRENT INC 30 TYLER ST EXTENSION EAST HAVEN C...   \n",
       "2114  MOON STAR ELECTRONICS COLTD 46-13 GEONJI-RO 15...   \n",
       "1242  GUANGZHOU LUSHAN NEW MATERIALS COLTD SEE FIELD...   \n",
       "\n",
       "                                Y_label  string_Y_1  string_Y_2  \n",
       "111                 RIKKEI TRADING CORP           0          19  \n",
       "759          TAIHU JINZHANG SCIENCE AND           0          26  \n",
       "929    LUEN FUNG HONG PLASTIC MATERIALS           0          32  \n",
       "56    S P T MIDDLE EAST GENERAL TRADING           0          33  \n",
       "1465      PTINAWAN CHEMTEX SUKSES ABADI           0          29  \n",
       "...                                 ...         ...         ...  \n",
       "1251     MADAF PLAZIT PACKAGING ACA LTD           0          30  \n",
       "654      BERGER PAINTS PAKISTAN LIMITED           0          30  \n",
       "605                         CURRENT INC           0          11  \n",
       "2114        MOON STAR ELECTRONICS COLTD           0          27  \n",
       "1242     GUANGZHOU LUSHAN NEW MATERIALS           0          30  \n",
       "\n",
       "[493 rows x 4 columns]"
      ],
      "text/html": [
       "<div>\n",
       "<style scoped>\n",
       "    .dataframe tbody tr th:only-of-type {\n",
       "        vertical-align: middle;\n",
       "    }\n",
       "\n",
       "    .dataframe tbody tr th {\n",
       "        vertical-align: top;\n",
       "    }\n",
       "\n",
       "    .dataframe thead th {\n",
       "        text-align: right;\n",
       "    }\n",
       "</style>\n",
       "<table border=\"1\" class=\"dataframe\">\n",
       "  <thead>\n",
       "    <tr style=\"text-align: right;\">\n",
       "      <th></th>\n",
       "      <th>string_X</th>\n",
       "      <th>Y_label</th>\n",
       "      <th>string_Y_1</th>\n",
       "      <th>string_Y_2</th>\n",
       "    </tr>\n",
       "  </thead>\n",
       "  <tbody>\n",
       "    <tr>\n",
       "      <th>111</th>\n",
       "      <td>RIKKEI TRADING CORP ROOM A14FNO44 SEC2 ZHONG S...</td>\n",
       "      <td>RIKKEI TRADING CORP</td>\n",
       "      <td>0</td>\n",
       "      <td>19</td>\n",
       "    </tr>\n",
       "    <tr>\n",
       "      <th>759</th>\n",
       "      <td>TAIHU JINZHANG SCIENCE AND TECHNOLOGY CORP NO2...</td>\n",
       "      <td>TAIHU JINZHANG SCIENCE AND</td>\n",
       "      <td>0</td>\n",
       "      <td>26</td>\n",
       "    </tr>\n",
       "    <tr>\n",
       "      <th>929</th>\n",
       "      <td>LUEN FUNG HONG PLASTIC MATERIALS CO LTDBLOCK A...</td>\n",
       "      <td>LUEN FUNG HONG PLASTIC MATERIALS</td>\n",
       "      <td>0</td>\n",
       "      <td>32</td>\n",
       "    </tr>\n",
       "    <tr>\n",
       "      <th>56</th>\n",
       "      <td>S P T MIDDLE EAST GENERAL TRADING LLC P O BOXP...</td>\n",
       "      <td>S P T MIDDLE EAST GENERAL TRADING</td>\n",
       "      <td>0</td>\n",
       "      <td>33</td>\n",
       "    </tr>\n",
       "    <tr>\n",
       "      <th>1465</th>\n",
       "      <td>PTINAWAN CHEMTEX SUKSES ABADI PLS SEE FIELD 47A</td>\n",
       "      <td>PTINAWAN CHEMTEX SUKSES ABADI</td>\n",
       "      <td>0</td>\n",
       "      <td>29</td>\n",
       "    </tr>\n",
       "    <tr>\n",
       "      <th>...</th>\n",
       "      <td>...</td>\n",
       "      <td>...</td>\n",
       "      <td>...</td>\n",
       "      <td>...</td>\n",
       "    </tr>\n",
       "    <tr>\n",
       "      <th>1251</th>\n",
       "      <td>MADAF PLAZIT PACKAGING ACA LTD KIBBUTZ GAZIT 1...</td>\n",
       "      <td>MADAF PLAZIT PACKAGING ACA LTD</td>\n",
       "      <td>0</td>\n",
       "      <td>30</td>\n",
       "    </tr>\n",
       "    <tr>\n",
       "      <th>654</th>\n",
       "      <td>BERGER PAINTS PAKISTAN LIMITED 28-KM MULTAN RO...</td>\n",
       "      <td>BERGER PAINTS PAKISTAN LIMITED</td>\n",
       "      <td>0</td>\n",
       "      <td>30</td>\n",
       "    </tr>\n",
       "    <tr>\n",
       "      <th>605</th>\n",
       "      <td>CURRENT INC 30 TYLER ST EXTENSION EAST HAVEN C...</td>\n",
       "      <td>CURRENT INC</td>\n",
       "      <td>0</td>\n",
       "      <td>11</td>\n",
       "    </tr>\n",
       "    <tr>\n",
       "      <th>2114</th>\n",
       "      <td>MOON STAR ELECTRONICS COLTD 46-13 GEONJI-RO 15...</td>\n",
       "      <td>MOON STAR ELECTRONICS COLTD</td>\n",
       "      <td>0</td>\n",
       "      <td>27</td>\n",
       "    </tr>\n",
       "    <tr>\n",
       "      <th>1242</th>\n",
       "      <td>GUANGZHOU LUSHAN NEW MATERIALS COLTD SEE FIELD...</td>\n",
       "      <td>GUANGZHOU LUSHAN NEW MATERIALS</td>\n",
       "      <td>0</td>\n",
       "      <td>30</td>\n",
       "    </tr>\n",
       "  </tbody>\n",
       "</table>\n",
       "<p>493 rows × 4 columns</p>\n",
       "</div>"
      ]
     },
     "metadata": {}
    }
   ],
   "metadata": {}
  },
  {
   "cell_type": "markdown",
   "source": [
    "# find_fail_sample and drop fail_sample"
   ],
   "metadata": {}
  },
  {
   "cell_type": "code",
   "execution_count": 5,
   "source": [
    "def find_fail_sample(df):\r\n",
    "    fails = []\r\n",
    "    for i in df.index:\r\n",
    "        context = df.loc[i,'string_X']\r\n",
    "        answer = df.loc[i,'Y_label']\r\n",
    "        if answer not in context:\r\n",
    "            fails.append(i)\r\n",
    "    return fails\r\n",
    "train_fails = find_fail_sample(train_df)\r\n",
    "val_fails = find_fail_sample(val_df)\r\n",
    "print(train_fails,val_fails)\r\n",
    "display(val_df.loc[val_fails])\r\n",
    "print(val_df.shape)\r\n",
    "val_df = val_df.drop(val_fails,axis=0)\r\n",
    "print(val_df.shape)"
   ],
   "outputs": [
    {
     "output_type": "stream",
     "name": "stdout",
     "text": [
      "[] []\n"
     ]
    },
    {
     "output_type": "display_data",
     "data": {
      "text/plain": [
       "Empty DataFrame\n",
       "Columns: [string_X, Y_label, string_Y_1, string_Y_2]\n",
       "Index: []"
      ],
      "text/html": [
       "<div>\n",
       "<style scoped>\n",
       "    .dataframe tbody tr th:only-of-type {\n",
       "        vertical-align: middle;\n",
       "    }\n",
       "\n",
       "    .dataframe tbody tr th {\n",
       "        vertical-align: top;\n",
       "    }\n",
       "\n",
       "    .dataframe thead th {\n",
       "        text-align: right;\n",
       "    }\n",
       "</style>\n",
       "<table border=\"1\" class=\"dataframe\">\n",
       "  <thead>\n",
       "    <tr style=\"text-align: right;\">\n",
       "      <th></th>\n",
       "      <th>string_X</th>\n",
       "      <th>Y_label</th>\n",
       "      <th>string_Y_1</th>\n",
       "      <th>string_Y_2</th>\n",
       "    </tr>\n",
       "  </thead>\n",
       "  <tbody>\n",
       "  </tbody>\n",
       "</table>\n",
       "</div>"
      ]
     },
     "metadata": {}
    },
    {
     "output_type": "stream",
     "name": "stdout",
     "text": [
      "(493, 4)\n",
      "(493, 4)\n"
     ]
    }
   ],
   "metadata": {}
  },
  {
   "cell_type": "markdown",
   "source": [
    "# Model and Tokenizer Initialization"
   ],
   "metadata": {}
  },
  {
   "cell_type": "code",
   "execution_count": 6,
   "source": [
    "from transformers import DistilBertTokenizerFast\r\n",
    "from transformers import DistilBertForQuestionAnswering\r\n",
    "\r\n",
    "tokenizer = DistilBertTokenizerFast.from_pretrained('distilbert-base-uncased')\r\n",
    "model = DistilBertForQuestionAnswering.from_pretrained(\"distilbert-base-uncased\")\r\n",
    "gc.collect()"
   ],
   "outputs": [
    {
     "output_type": "stream",
     "name": "stderr",
     "text": [
      "Some weights of the model checkpoint at distilbert-base-uncased were not used when initializing DistilBertForQuestionAnswering: ['vocab_projector.bias', 'vocab_layer_norm.weight', 'vocab_transform.bias', 'vocab_transform.weight', 'vocab_projector.weight', 'vocab_layer_norm.bias']\n",
      "- This IS expected if you are initializing DistilBertForQuestionAnswering from the checkpoint of a model trained on another task or with another architecture (e.g. initializing a BertForSequenceClassification model from a BertForPreTraining model).\n",
      "- This IS NOT expected if you are initializing DistilBertForQuestionAnswering from the checkpoint of a model that you expect to be exactly identical (initializing a BertForSequenceClassification model from a BertForSequenceClassification model).\n",
      "Some weights of DistilBertForQuestionAnswering were not initialized from the model checkpoint at distilbert-base-uncased and are newly initialized: ['qa_outputs.bias', 'qa_outputs.weight']\n",
      "You should probably TRAIN this model on a down-stream task to be able to use it for predictions and inference.\n"
     ]
    },
    {
     "output_type": "execute_result",
     "data": {
      "text/plain": [
       "597"
      ]
     },
     "metadata": {},
     "execution_count": 6
    }
   ],
   "metadata": {}
  },
  {
   "cell_type": "markdown",
   "source": [
    "# Data preprocessing"
   ],
   "metadata": {}
  },
  {
   "cell_type": "code",
   "execution_count": 7,
   "source": [
    "def preprocessing(df):\r\n",
    "    contexts = df['string_X'].values.tolist()\r\n",
    "    questions = [ 'What is the Applicant?' for i in range(len(df))]\r\n",
    "    answers = []\r\n",
    "    for idx in df.index:\r\n",
    "        answers.append({\r\n",
    "            'text':df.loc[idx,'Y_label'],\r\n",
    "            'answer_start':df.loc[idx,'string_Y_1'],\r\n",
    "            'answer_end':df.loc[idx,'string_Y_2'],\r\n",
    "            })\r\n",
    "    return contexts ,questions ,answers\r\n",
    "\r\n",
    "train_contexts ,train_questions ,train_answers = preprocessing(train_df)\r\n",
    "val_contexts ,val_questions ,val_answers = preprocessing(val_df)\r\n",
    "gc.collect()"
   ],
   "outputs": [
    {
     "output_type": "execute_result",
     "data": {
      "text/plain": [
       "47"
      ]
     },
     "metadata": {},
     "execution_count": 7
    }
   ],
   "metadata": {}
  },
  {
   "cell_type": "markdown",
   "source": [
    "# tokenize our context/question pairs"
   ],
   "metadata": {}
  },
  {
   "cell_type": "code",
   "execution_count": 8,
   "source": [
    "train_encodings = tokenizer(train_contexts, train_questions, truncation=True, padding=True)\r\n",
    "val_encodings = tokenizer(val_contexts, val_questions, truncation=True, padding=True)\r\n",
    "gc.collect()"
   ],
   "outputs": [
    {
     "output_type": "execute_result",
     "data": {
      "text/plain": [
       "0"
      ]
     },
     "metadata": {},
     "execution_count": 8
    }
   ],
   "metadata": {}
  },
  {
   "cell_type": "markdown",
   "source": [
    "# add_token_positions"
   ],
   "metadata": {}
  },
  {
   "cell_type": "code",
   "execution_count": 9,
   "source": [
    "def add_token_positions(encodings, answers):\r\n",
    "    start_positions = []\r\n",
    "    end_positions = []\r\n",
    "    for i in range(len(answers)):\r\n",
    "        start_positions.append(encodings.char_to_token(i, answers[i]['answer_start']))\r\n",
    "        end_positions.append(encodings.char_to_token(i, answers[i]['answer_end'] - 1))\r\n",
    "\r\n",
    "        # if start position is None, the answer passage has been truncated\r\n",
    "        if start_positions[-1] is None:\r\n",
    "            start_positions[-1] = tokenizer.model_max_length\r\n",
    "        if end_positions[-1] is None:\r\n",
    "            end_positions[-1] = tokenizer.model_max_length\r\n",
    "\r\n",
    "    encodings.update({'start_positions': start_positions, 'end_positions': end_positions})\r\n",
    "\r\n",
    "add_token_positions(train_encodings, train_answers)\r\n",
    "add_token_positions(val_encodings, val_answers)\r\n",
    "gc.collect()"
   ],
   "outputs": [
    {
     "output_type": "execute_result",
     "data": {
      "text/plain": [
       "0"
      ]
     },
     "metadata": {},
     "execution_count": 9
    }
   ],
   "metadata": {}
  },
  {
   "cell_type": "markdown",
   "source": [
    "# data is ready put it in a PyTorch dataset"
   ],
   "metadata": {}
  },
  {
   "cell_type": "code",
   "execution_count": 10,
   "source": [
    "import torch\r\n",
    "\r\n",
    "class SquadDataset(torch.utils.data.Dataset):\r\n",
    "    def __init__(self, encodings):\r\n",
    "        self.encodings = encodings\r\n",
    "\r\n",
    "    def __getitem__(self, idx):\r\n",
    "        return {key: torch.tensor(val[idx]) for key, val in self.encodings.items()}\r\n",
    "\r\n",
    "    def __len__(self):\r\n",
    "        return len(self.encodings.input_ids)\r\n",
    "\r\n",
    "train_dataset = SquadDataset(train_encodings)\r\n",
    "val_dataset = SquadDataset(val_encodings)\r\n",
    "gc.collect()"
   ],
   "outputs": [
    {
     "output_type": "execute_result",
     "data": {
      "text/plain": [
       "514"
      ]
     },
     "metadata": {},
     "execution_count": 10
    }
   ],
   "metadata": {}
  },
  {
   "cell_type": "markdown",
   "source": [
    "# train loop"
   ],
   "metadata": {}
  },
  {
   "cell_type": "code",
   "execution_count": 11,
   "source": [
    "from torch.utils.data import DataLoader\r\n",
    "\r\n",
    "device = torch.device('cuda') if torch.cuda.is_available() else torch.device('cpu')\r\n",
    "print(device)\r\n",
    "model.to(device)\r\n",
    "model.train()\r\n",
    "train_loader = DataLoader(train_dataset, batch_size = 21, shuffle=True )\r\n",
    "val_loader = DataLoader(val_dataset, batch_size = 21, shuffle=True)\r\n",
    "optimizer = MADGRAD(model.parameters(),lr=5e-5)\r\n",
    "gc.collect()\r\n",
    "\r\n",
    "def train_step(model,batch,optimizer):\r\n",
    "    model = model.to(device)\r\n",
    "    model.train()\r\n",
    "    \r\n",
    "    # forward\r\n",
    "    input_ids = batch['input_ids'].to(device)\r\n",
    "    attention_mask = batch['attention_mask'].to(device)\r\n",
    "    start_positions = batch['start_positions'].to(device)\r\n",
    "    end_positions = batch['end_positions'].to(device)\r\n",
    "    outputs = model(input_ids, attention_mask=attention_mask, start_positions=start_positions, end_positions=end_positions)\r\n",
    "    loss = outputs[0]\r\n",
    "    \r\n",
    "    # update model\r\n",
    "    loss.backward()\r\n",
    "    optimizer.step()\r\n",
    "    optimizer.zero_grad()\r\n",
    "    \r\n",
    "    gc.collect()\r\n",
    "    return loss.item()\r\n",
    "\r\n",
    "def val_step(model,batch,optimizer):\r\n",
    "    model = model.to(device)\r\n",
    "    model.eval()\r\n",
    "    \r\n",
    "    # forward\r\n",
    "    input_ids = batch['input_ids'].to(device)\r\n",
    "    attention_mask = batch['attention_mask'].to(device)\r\n",
    "    start_positions = batch['start_positions'].to(device)\r\n",
    "    end_positions = batch['end_positions'].to(device)\r\n",
    "    outputs = model(input_ids, attention_mask=attention_mask, start_positions=start_positions, end_positions=end_positions)\r\n",
    "    loss = outputs[0]\r\n",
    "    \r\n",
    "    gc.collect()\r\n",
    "    return loss.item()\r\n",
    "\r\n",
    "def train_loop(model,train_loader,val_loader,optimizer,max_epochs=5,patience=3):\r\n",
    "    history = {'train_loss':[],'val_loss':[]}\r\n",
    "    best_loss = np.inf\r\n",
    "    best_model = None\r\n",
    "    not_improve_count = 0\r\n",
    "    for epoch in tqdm(range(max_epochs)):    \r\n",
    "        # reset this epoch loss equal to zero\r\n",
    "        epoch_train_loss = 0.0\r\n",
    "        epoch_val_loss = 0.0\r\n",
    "\r\n",
    "        # train one epoch and get train_loss\r\n",
    "        for i,batch in enumerate(tqdm(train_loader)):\r\n",
    "            epoch_train_loss += train_step(model,batch,optimizer)\r\n",
    "\r\n",
    "        # val one epoch and get val_loss\r\n",
    "        for j,batch in enumerate(tqdm(val_loader)):\r\n",
    "            epoch_val_loss += val_step(model,batch,optimizer)\r\n",
    "\r\n",
    "        # record loss history\r\n",
    "        history['train_loss'].append(epoch_train_loss/i)\r\n",
    "        history['val_loss'].append(epoch_val_loss/j)\r\n",
    "\r\n",
    "        # print this epoch's infomation\r\n",
    "        print(f'epoch:{epoch} train_loss:{epoch_train_loss/i} val_loss:{epoch_val_loss/j}')\r\n",
    "\r\n",
    "        # save best_model (if current val_loss <= best_loss)\r\n",
    "        if history['val_loss'][-1] <= best_loss: \r\n",
    "            best_model = deepcopy(model.eval())\r\n",
    "            best_loss = history['val_loss'][-1]\r\n",
    "            print(f'save best_model now_val_best_loss is:{best_loss}')\r\n",
    "\r\n",
    "        if history['val_loss'][-1] > best_loss:\r\n",
    "            not_improve_count += 1\r\n",
    "            print(f'not_improve_count:{not_improve_count}')\r\n",
    "            if not_improve_count > patience:\r\n",
    "                print('early_stoping')\r\n",
    "                break\r\n",
    "\r\n",
    "    # GET best_model.eval()\r\n",
    "    model = best_model.eval()\r\n",
    "    return model,history"
   ],
   "outputs": [
    {
     "output_type": "stream",
     "name": "stdout",
     "text": [
      "cuda\n"
     ]
    }
   ],
   "metadata": {}
  },
  {
   "cell_type": "code",
   "execution_count": 12,
   "source": [
    "import os\r\n",
    "#os.environ[\"TOKENIZERS_PARALLELISM\"] = \"false\"\r\n",
    "model,history = train_loop(model,train_loader,val_loader,optimizer,max_epochs=5,patience=3)"
   ],
   "outputs": [
    {
     "output_type": "display_data",
     "data": {
      "text/plain": [
       "HBox(children=(HTML(value=''), FloatProgress(value=0.0, max=5.0), HTML(value='')))"
      ],
      "application/vnd.jupyter.widget-view+json": {
       "version_major": 2,
       "version_minor": 0,
       "model_id": "18448f7e35d249d79e617aa0c7d4ac0e"
      }
     },
     "metadata": {}
    },
    {
     "output_type": "display_data",
     "data": {
      "text/plain": [
       "HBox(children=(HTML(value=''), FloatProgress(value=0.0, max=94.0), HTML(value='')))"
      ],
      "application/vnd.jupyter.widget-view+json": {
       "version_major": 2,
       "version_minor": 0,
       "model_id": "047a049e9fbb47608703fc042bd77f78"
      }
     },
     "metadata": {}
    },
    {
     "output_type": "stream",
     "name": "stdout",
     "text": [
      "\n"
     ]
    },
    {
     "output_type": "display_data",
     "data": {
      "text/plain": [
       "HBox(children=(HTML(value=''), FloatProgress(value=0.0, max=24.0), HTML(value='')))"
      ],
      "application/vnd.jupyter.widget-view+json": {
       "version_major": 2,
       "version_minor": 0,
       "model_id": "cd6a92c656434527b712210bec48a4c3"
      }
     },
     "metadata": {}
    },
    {
     "output_type": "stream",
     "name": "stdout",
     "text": [
      "\n",
      "epoch:0 train_loss:0.646471518342213 val_loss:0.14123497304061186\n",
      "save best_model now_val_best_loss is:0.14123497304061186\n"
     ]
    },
    {
     "output_type": "display_data",
     "data": {
      "text/plain": [
       "HBox(children=(HTML(value=''), FloatProgress(value=0.0, max=94.0), HTML(value='')))"
      ],
      "application/vnd.jupyter.widget-view+json": {
       "version_major": 2,
       "version_minor": 0,
       "model_id": "f95f0b9898e941c7b1fcb767c3bc70d2"
      }
     },
     "metadata": {}
    },
    {
     "output_type": "stream",
     "name": "stdout",
     "text": [
      "\n"
     ]
    },
    {
     "output_type": "display_data",
     "data": {
      "text/plain": [
       "HBox(children=(HTML(value=''), FloatProgress(value=0.0, max=24.0), HTML(value='')))"
      ],
      "application/vnd.jupyter.widget-view+json": {
       "version_major": 2,
       "version_minor": 0,
       "model_id": "e9feee7bde0e43908a8573607440f2e9"
      }
     },
     "metadata": {}
    },
    {
     "output_type": "stream",
     "name": "stdout",
     "text": [
      "\n",
      "epoch:1 train_loss:0.1377671396620171 val_loss:0.12029767425163933\n",
      "save best_model now_val_best_loss is:0.12029767425163933\n"
     ]
    },
    {
     "output_type": "display_data",
     "data": {
      "text/plain": [
       "HBox(children=(HTML(value=''), FloatProgress(value=0.0, max=94.0), HTML(value='')))"
      ],
      "application/vnd.jupyter.widget-view+json": {
       "version_major": 2,
       "version_minor": 0,
       "model_id": "cbf7a0e6234a4d329a24d09aa2bbeed5"
      }
     },
     "metadata": {}
    },
    {
     "output_type": "stream",
     "name": "stdout",
     "text": [
      "\n"
     ]
    },
    {
     "output_type": "display_data",
     "data": {
      "text/plain": [
       "HBox(children=(HTML(value=''), FloatProgress(value=0.0, max=24.0), HTML(value='')))"
      ],
      "application/vnd.jupyter.widget-view+json": {
       "version_major": 2,
       "version_minor": 0,
       "model_id": "16f8d0357aa74ce9bc67be68fe1a3d91"
      }
     },
     "metadata": {}
    },
    {
     "output_type": "stream",
     "name": "stdout",
     "text": [
      "\n",
      "epoch:2 train_loss:0.08971380661191639 val_loss:0.1064300058591787\n",
      "save best_model now_val_best_loss is:0.1064300058591787\n"
     ]
    },
    {
     "output_type": "display_data",
     "data": {
      "text/plain": [
       "HBox(children=(HTML(value=''), FloatProgress(value=0.0, max=94.0), HTML(value='')))"
      ],
      "application/vnd.jupyter.widget-view+json": {
       "version_major": 2,
       "version_minor": 0,
       "model_id": "a0c20feff5df4fc598056d66b3897987"
      }
     },
     "metadata": {}
    },
    {
     "output_type": "stream",
     "name": "stdout",
     "text": [
      "\n"
     ]
    },
    {
     "output_type": "display_data",
     "data": {
      "text/plain": [
       "HBox(children=(HTML(value=''), FloatProgress(value=0.0, max=24.0), HTML(value='')))"
      ],
      "application/vnd.jupyter.widget-view+json": {
       "version_major": 2,
       "version_minor": 0,
       "model_id": "a537c847836f459eadcbc1becf7af55e"
      }
     },
     "metadata": {}
    },
    {
     "output_type": "stream",
     "name": "stdout",
     "text": [
      "\n",
      "epoch:3 train_loss:0.06173703104497925 val_loss:0.1169224172380105\n",
      "not_improve_count:1\n"
     ]
    },
    {
     "output_type": "display_data",
     "data": {
      "text/plain": [
       "HBox(children=(HTML(value=''), FloatProgress(value=0.0, max=94.0), HTML(value='')))"
      ],
      "application/vnd.jupyter.widget-view+json": {
       "version_major": 2,
       "version_minor": 0,
       "model_id": "8f2bdf0eefdc4f489aae3150e18615fa"
      }
     },
     "metadata": {}
    },
    {
     "output_type": "stream",
     "name": "stdout",
     "text": [
      "\n"
     ]
    },
    {
     "output_type": "display_data",
     "data": {
      "text/plain": [
       "HBox(children=(HTML(value=''), FloatProgress(value=0.0, max=24.0), HTML(value='')))"
      ],
      "application/vnd.jupyter.widget-view+json": {
       "version_major": 2,
       "version_minor": 0,
       "model_id": "07a1039833cb43c88be8104f66d89d85"
      }
     },
     "metadata": {}
    },
    {
     "output_type": "stream",
     "name": "stdout",
     "text": [
      "\n",
      "epoch:4 train_loss:0.05191308057801898 val_loss:0.15791014435640333\n",
      "not_improve_count:2\n",
      "\n"
     ]
    }
   ],
   "metadata": {}
  },
  {
   "cell_type": "markdown",
   "source": [
    "# loss curve"
   ],
   "metadata": {}
  },
  {
   "cell_type": "code",
   "execution_count": 13,
   "source": [
    "plt.plot(history['train_loss'],label='train')\r\n",
    "plt.plot(history['val_loss'],label='val')\r\n",
    "plt.legend()\r\n",
    "plt.show()"
   ],
   "outputs": [
    {
     "output_type": "display_data",
     "data": {
      "text/plain": [
       "<Figure size 432x288 with 1 Axes>"
      ],
      "image/png": "[encoded data removed]"
     },
     "metadata": {
      "needs_background": "light"
     }
    }
   ],
   "metadata": {}
  },
  {
   "cell_type": "markdown",
   "source": [
    "# question-answering pipeline"
   ],
   "metadata": {}
  },
  {
   "cell_type": "code",
   "execution_count": 14,
   "source": [
    "from transformers import pipeline\r\n",
    "nlp = pipeline('question-answering', model=model.to('cpu'), tokenizer=tokenizer)"
   ],
   "outputs": [],
   "metadata": {}
  },
  {
   "cell_type": "markdown",
   "source": [
    "# test"
   ],
   "metadata": {}
  },
  {
   "cell_type": "code",
   "execution_count": 15,
   "source": [
    "def test_model(df):\r\n",
    "    table = pd.DataFrame()\r\n",
    "    for i in tqdm(df.index):\r\n",
    "        sample = df.loc[[i]]\r\n",
    "        string_X_train = sample['string_X'].values[0]\r\n",
    "        string_Y_1 = sample['string_Y_1'].values[0]\r\n",
    "        string_Y_2 = sample['string_Y_2'].values[0]\r\n",
    "        QA_input = {\r\n",
    "            'question': 'What is the Applicant?',\r\n",
    "            'context': string_X_train\r\n",
    "        }\r\n",
    "        res = nlp(QA_input)\r\n",
    "        #predict = QA_input['context'][res['start']:res['end']]\r\n",
    "        predict = QA_input['context'][0:res['end']]\r\n",
    "        row = pd.DataFrame({\r\n",
    "            'label':sample['Y_label'].values[0],\r\n",
    "            'predict:':predict},index=[i])\r\n",
    "        if sample['Y_label'].values[0] == predict:\r\n",
    "            row['是否全對'] = 'Yes'\r\n",
    "        else:\r\n",
    "            row['是否全對'] = 'No'\r\n",
    "        table = table.append(row)\r\n",
    "        i += 1\r\n",
    "    return table"
   ],
   "outputs": [],
   "metadata": {}
  },
  {
   "cell_type": "markdown",
   "source": [
    "# 最後讓我們來看看模型在驗證集上的表現"
   ],
   "metadata": {}
  },
  {
   "cell_type": "code",
   "execution_count": 16,
   "source": [
    "all_res = test_model(val_df)\r\n",
    "all_res"
   ],
   "outputs": [
    {
     "output_type": "display_data",
     "data": {
      "text/plain": [
       "HBox(children=(HTML(value=''), FloatProgress(value=0.0, max=493.0), HTML(value='')))"
      ],
      "application/vnd.jupyter.widget-view+json": {
       "version_major": 2,
       "version_minor": 0,
       "model_id": "fb920f59c2c64cd6a46b39e87b9e0ba6"
      }
     },
     "metadata": {}
    },
    {
     "output_type": "stream",
     "name": "stdout",
     "text": [
      "\n"
     ]
    },
    {
     "output_type": "execute_result",
     "data": {
      "text/plain": [
       "                                  label                           predict:  \\\n",
       "111                 RIKKEI TRADING CORP                RIKKEI TRADING CORP   \n",
       "759          TAIHU JINZHANG SCIENCE AND         TAIHU JINZHANG SCIENCE AND   \n",
       "929    LUEN FUNG HONG PLASTIC MATERIALS   LUEN FUNG HONG PLASTIC MATERIALS   \n",
       "56    S P T MIDDLE EAST GENERAL TRADING  S P T MIDDLE EAST GENERAL TRADING   \n",
       "1465      PTINAWAN CHEMTEX SUKSES ABADI      PTINAWAN CHEMTEX SUKSES ABADI   \n",
       "...                                 ...                                ...   \n",
       "1251     MADAF PLAZIT PACKAGING ACA LTD     MADAF PLAZIT PACKAGING ACA LTD   \n",
       "654      BERGER PAINTS PAKISTAN LIMITED     BERGER PAINTS PAKISTAN LIMITED   \n",
       "605                         CURRENT INC                        CURRENT INC   \n",
       "2114        MOON STAR ELECTRONICS COLTD              MOON STAR ELECTRONICS   \n",
       "1242     GUANGZHOU LUSHAN NEW MATERIALS                          GUANGZHOU   \n",
       "\n",
       "     是否全對  \n",
       "111   Yes  \n",
       "759   Yes  \n",
       "929   Yes  \n",
       "56    Yes  \n",
       "1465  Yes  \n",
       "...   ...  \n",
       "1251  Yes  \n",
       "654   Yes  \n",
       "605   Yes  \n",
       "2114   No  \n",
       "1242   No  \n",
       "\n",
       "[493 rows x 3 columns]"
      ],
      "text/html": [
       "<div>\n",
       "<style scoped>\n",
       "    .dataframe tbody tr th:only-of-type {\n",
       "        vertical-align: middle;\n",
       "    }\n",
       "\n",
       "    .dataframe tbody tr th {\n",
       "        vertical-align: top;\n",
       "    }\n",
       "\n",
       "    .dataframe thead th {\n",
       "        text-align: right;\n",
       "    }\n",
       "</style>\n",
       "<table border=\"1\" class=\"dataframe\">\n",
       "  <thead>\n",
       "    <tr style=\"text-align: right;\">\n",
       "      <th></th>\n",
       "      <th>label</th>\n",
       "      <th>predict:</th>\n",
       "      <th>是否全對</th>\n",
       "    </tr>\n",
       "  </thead>\n",
       "  <tbody>\n",
       "    <tr>\n",
       "      <th>111</th>\n",
       "      <td>RIKKEI TRADING CORP</td>\n",
       "      <td>RIKKEI TRADING CORP</td>\n",
       "      <td>Yes</td>\n",
       "    </tr>\n",
       "    <tr>\n",
       "      <th>759</th>\n",
       "      <td>TAIHU JINZHANG SCIENCE AND</td>\n",
       "      <td>TAIHU JINZHANG SCIENCE AND</td>\n",
       "      <td>Yes</td>\n",
       "    </tr>\n",
       "    <tr>\n",
       "      <th>929</th>\n",
       "      <td>LUEN FUNG HONG PLASTIC MATERIALS</td>\n",
       "      <td>LUEN FUNG HONG PLASTIC MATERIALS</td>\n",
       "      <td>Yes</td>\n",
       "    </tr>\n",
       "    <tr>\n",
       "      <th>56</th>\n",
       "      <td>S P T MIDDLE EAST GENERAL TRADING</td>\n",
       "      <td>S P T MIDDLE EAST GENERAL TRADING</td>\n",
       "      <td>Yes</td>\n",
       "    </tr>\n",
       "    <tr>\n",
       "      <th>1465</th>\n",
       "      <td>PTINAWAN CHEMTEX SUKSES ABADI</td>\n",
       "      <td>PTINAWAN CHEMTEX SUKSES ABADI</td>\n",
       "      <td>Yes</td>\n",
       "    </tr>\n",
       "    <tr>\n",
       "      <th>...</th>\n",
       "      <td>...</td>\n",
       "      <td>...</td>\n",
       "      <td>...</td>\n",
       "    </tr>\n",
       "    <tr>\n",
       "      <th>1251</th>\n",
       "      <td>MADAF PLAZIT PACKAGING ACA LTD</td>\n",
       "      <td>MADAF PLAZIT PACKAGING ACA LTD</td>\n",
       "      <td>Yes</td>\n",
       "    </tr>\n",
       "    <tr>\n",
       "      <th>654</th>\n",
       "      <td>BERGER PAINTS PAKISTAN LIMITED</td>\n",
       "      <td>BERGER PAINTS PAKISTAN LIMITED</td>\n",
       "      <td>Yes</td>\n",
       "    </tr>\n",
       "    <tr>\n",
       "      <th>605</th>\n",
       "      <td>CURRENT INC</td>\n",
       "      <td>CURRENT INC</td>\n",
       "      <td>Yes</td>\n",
       "    </tr>\n",
       "    <tr>\n",
       "      <th>2114</th>\n",
       "      <td>MOON STAR ELECTRONICS COLTD</td>\n",
       "      <td>MOON STAR ELECTRONICS</td>\n",
       "      <td>No</td>\n",
       "    </tr>\n",
       "    <tr>\n",
       "      <th>1242</th>\n",
       "      <td>GUANGZHOU LUSHAN NEW MATERIALS</td>\n",
       "      <td>GUANGZHOU</td>\n",
       "      <td>No</td>\n",
       "    </tr>\n",
       "  </tbody>\n",
       "</table>\n",
       "<p>493 rows × 3 columns</p>\n",
       "</div>"
      ]
     },
     "metadata": {},
     "execution_count": 16
    }
   ],
   "metadata": {}
  },
  {
   "cell_type": "markdown",
   "source": [
    "# claculate acc and jaccard"
   ],
   "metadata": {}
  },
  {
   "cell_type": "code",
   "execution_count": 17,
   "source": [
    "def get_jaccard_sim(str1, str2): \r\n",
    "    a = set(str1.split()) \r\n",
    "    b = set(str2.split())\r\n",
    "    c = a.intersection(b)\r\n",
    "    return float(len(c)) / (len(a) + len(b) - len(c))\r\n",
    "\r\n",
    "\r\n",
    "def get_acc(df):\r\n",
    "    df['predict'] = [[i] for i in df['predict:']]\r\n",
    "    correct = []\r\n",
    "    correct_label = []\r\n",
    "    for i in df.index:\r\n",
    "        jacs = []\r\n",
    "        for j in df.loc[i,'predict']:\r\n",
    "            jacs.append(get_jaccard_sim(df.loc[i,'label'],j))\r\n",
    "        if max(jacs) >= 0.75:\r\n",
    "            correct.append('yes')\r\n",
    "        else:\r\n",
    "            correct.append('no')\r\n",
    "    return pd.Series(correct).value_counts()['yes']/len(correct)\r\n",
    "\r\n",
    "acc = get_acc(all_res)\r\n",
    "print('acc:',acc)\r\n",
    "jaccard_avg_score = np.mean([ get_jaccard_sim(all_res.label.loc[i],all_res['predict:'].loc[i]) for i in all_res.index])\r\n",
    "print('jaccard_avg_score:',jaccard_avg_score)"
   ],
   "outputs": [
    {
     "output_type": "stream",
     "name": "stdout",
     "text": [
      "acc: 0.8742393509127789\n",
      "jaccard_avg_score: 0.9221964647928136\n"
     ]
    }
   ],
   "metadata": {}
  },
  {
   "cell_type": "code",
   "execution_count": null,
   "source": [],
   "outputs": [],
   "metadata": {}
  },
  {
   "cell_type": "code",
   "execution_count": null,
   "source": [],
   "outputs": [],
   "metadata": {}
  },
  {
   "cell_type": "code",
   "execution_count": null,
   "source": [],
   "outputs": [],
   "metadata": {}
  },
  {
   "cell_type": "code",
   "execution_count": null,
   "source": [],
   "outputs": [],
   "metadata": {}
  },
  {
   "cell_type": "code",
   "execution_count": null,
   "source": [],
   "outputs": [],
   "metadata": {}
  },
  {
   "cell_type": "code",
   "execution_count": null,
   "source": [],
   "outputs": [],
   "metadata": {}
  }
 ],
 "metadata": {
  "interpreter": {
   "hash": "2ccee5cc862501c1aad1cf19888c2a2eca4026b72d187db43d5e889cbdc6ee97"
  },
  "kernelspec": {
   "name": "python3",
   "display_name": "Python 3.8.5 64-bit ('base': conda)"
  },
  "language_info": {
   "codemirror_mode": {
    "name": "ipython",
    "version": 3
   },
   "file_extension": ".py",
   "mimetype": "text/x-python",
   "name": "python",
   "nbconvert_exporter": "python",
   "pygments_lexer": "ipython3",
   "version": "3.8.5"
  }
 },
 "nbformat": 4,
 "nbformat_minor": 2
}