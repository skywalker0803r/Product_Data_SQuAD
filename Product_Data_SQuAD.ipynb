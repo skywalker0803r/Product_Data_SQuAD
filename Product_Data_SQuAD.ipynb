{
 "cells": [
  {
   "cell_type": "code",
   "execution_count": 51,
   "metadata": {},
   "outputs": [
    {
     "data": {
      "text/plain": [
       "142"
      ]
     },
     "execution_count": 51,
     "metadata": {},
     "output_type": "execute_result"
    }
   ],
   "source": [
    "import pandas as pd\n",
    "import numpy as np\n",
    "from tqdm import tqdm_notebook as tqdm\n",
    "from torch.optim.optimizer import Optimizer\n",
    "import matplotlib.pyplot as plt\n",
    "from copy import deepcopy\n",
    "import gc\n",
    "gc.collect()"
   ]
  },
  {
   "cell_type": "markdown",
   "metadata": {},
   "source": [
    "# MADGRAD"
   ]
  },
  {
   "cell_type": "code",
   "execution_count": 52,
   "metadata": {},
   "outputs": [],
   "source": [
    "import math\n",
    "from typing import TYPE_CHECKING, Any, Callable, Optional\n",
    "\n",
    "if TYPE_CHECKING:\n",
    "    from torch.optim.optimizer import _params_t\n",
    "else:\n",
    "    _params_t = Any\n",
    "\n",
    "class MADGRAD(Optimizer):\n",
    "\n",
    "    def __init__(\n",
    "        self, params: _params_t, lr: float = 1e-2, momentum: float = 0.9, weight_decay: float = 0, eps: float = 1e-6,\n",
    "    ):\n",
    "        if momentum < 0 or momentum >= 1:\n",
    "            raise ValueError(f\"Momentum {momentum} must be in the range [0,1]\")\n",
    "        if lr <= 0:\n",
    "            raise ValueError(f\"Learning rate {lr} must be positive\")\n",
    "        if weight_decay < 0:\n",
    "            raise ValueError(f\"Weight decay {weight_decay} must be non-negative\")\n",
    "        if eps < 0:\n",
    "            raise ValueError(f\"Eps must be non-negative\")\n",
    "\n",
    "        defaults = dict(lr=lr, eps=eps, momentum=momentum, weight_decay=weight_decay)\n",
    "        super().__init__(params, defaults)\n",
    "\n",
    "    @property\n",
    "    def supports_memory_efficient_fp16(self) -> bool:\n",
    "        return False\n",
    "\n",
    "    @property\n",
    "    def supports_flat_params(self) -> bool:\n",
    "        return True\n",
    "\n",
    "    def step(self, closure: Optional[Callable[[], float]] = None) -> Optional[float]:\n",
    "\n",
    "        loss = None\n",
    "        if closure is not None:\n",
    "            loss = closure()\n",
    "\n",
    "        if 'k' not in self.state:\n",
    "            self.state['k'] = torch.tensor([0], dtype=torch.long)\n",
    "        k = self.state['k'].item()\n",
    "\n",
    "        for group in self.param_groups:\n",
    "            eps = group[\"eps\"]\n",
    "            lr = group[\"lr\"] + eps\n",
    "            decay = group[\"weight_decay\"]\n",
    "            momentum = group[\"momentum\"]\n",
    "\n",
    "            ck = 1 - momentum\n",
    "            lamb = lr * math.pow(k + 1, 0.5)\n",
    "\n",
    "            for p in group[\"params\"]:\n",
    "                if p.grad is None:\n",
    "                    continue\n",
    "                grad = p.grad.data\n",
    "                state = self.state[p]\n",
    "\n",
    "                if \"grad_sum_sq\" not in state:\n",
    "                    state[\"grad_sum_sq\"] = torch.zeros_like(p.data).detach()\n",
    "                    state[\"s\"] = torch.zeros_like(p.data).detach()\n",
    "                    if momentum != 0:\n",
    "                        state[\"x0\"] = torch.clone(p.data).detach()\n",
    "\n",
    "                if momentum != 0.0 and grad.is_sparse:\n",
    "                    raise RuntimeError(\"momentum != 0 is not compatible with sparse gradients\")\n",
    "\n",
    "                grad_sum_sq = state[\"grad_sum_sq\"]\n",
    "                s = state[\"s\"]\n",
    "\n",
    "                # Apply weight decay\n",
    "                if decay != 0:\n",
    "                    if grad.is_sparse:\n",
    "                        raise RuntimeError(\"weight_decay option is not compatible with sparse gradients\")\n",
    "\n",
    "                    grad.add_(p.data, alpha=decay)\n",
    "\n",
    "                if grad.is_sparse:\n",
    "                    grad = grad.coalesce()\n",
    "                    grad_val = grad._values()\n",
    "\n",
    "                    p_masked = p.sparse_mask(grad)\n",
    "                    grad_sum_sq_masked = grad_sum_sq.sparse_mask(grad)\n",
    "                    s_masked = s.sparse_mask(grad)\n",
    "\n",
    "                    # Compute x_0 from other known quantities\n",
    "                    rms_masked_vals = grad_sum_sq_masked._values().pow(1 / 3).add_(eps)\n",
    "                    x0_masked_vals = p_masked._values().addcdiv(s_masked._values(), rms_masked_vals, value=1)\n",
    "\n",
    "                    # Dense + sparse op\n",
    "                    grad_sq = grad * grad\n",
    "                    grad_sum_sq.add_(grad_sq, alpha=lamb)\n",
    "                    grad_sum_sq_masked.add_(grad_sq, alpha=lamb)\n",
    "\n",
    "                    rms_masked_vals = grad_sum_sq_masked._values().pow_(1 / 3).add_(eps)\n",
    "\n",
    "                    s.add_(grad, alpha=lamb)\n",
    "                    s_masked._values().add_(grad_val, alpha=lamb)\n",
    "\n",
    "                    # update masked copy of p\n",
    "                    p_kp1_masked_vals = x0_masked_vals.addcdiv(s_masked._values(), rms_masked_vals, value=-1)\n",
    "                    # Copy updated masked p to dense p using an add operation\n",
    "                    p_masked._values().add_(p_kp1_masked_vals, alpha=-1)\n",
    "                    p.data.add_(p_masked, alpha=-1)\n",
    "                else:\n",
    "                    if momentum == 0:\n",
    "                        # Compute x_0 from other known quantities\n",
    "                        rms = grad_sum_sq.pow(1 / 3).add_(eps)\n",
    "                        x0 = p.data.addcdiv(s, rms, value=1)\n",
    "                    else:\n",
    "                        x0 = state[\"x0\"]\n",
    "\n",
    "                    # Accumulate second moments\n",
    "                    grad_sum_sq.addcmul_(grad, grad, value=lamb)\n",
    "                    rms = grad_sum_sq.pow(1 / 3).add_(eps)\n",
    "\n",
    "                    # Update s\n",
    "                    s.data.add_(grad, alpha=lamb)\n",
    "\n",
    "                    # Step\n",
    "                    if momentum == 0:\n",
    "                        p.data.copy_(x0.addcdiv(s, rms, value=-1))\n",
    "                    else:\n",
    "                        z = x0.addcdiv(s, rms, value=-1)\n",
    "\n",
    "                        # p is a moving average of z\n",
    "                        p.data.mul_(1 - ck).add_(z, alpha=ck)\n",
    "\n",
    "\n",
    "        self.state['k'] += 1\n",
    "        return loss"
   ]
  },
  {
   "cell_type": "markdown",
   "metadata": {},
   "source": [
    "# LOAD DATA"
   ]
  },
  {
   "cell_type": "code",
   "execution_count": 53,
   "metadata": {},
   "outputs": [
    {
     "name": "stdout",
     "output_type": "stream",
     "text": [
      "(1732, 6)\n",
      "(1732, 6)\n"
     ]
    },
    {
     "data": {
      "text/html": [
       "<div>\n",
       "<style scoped>\n",
       "    .dataframe tbody tr th:only-of-type {\n",
       "        vertical-align: middle;\n",
       "    }\n",
       "\n",
       "    .dataframe tbody tr th {\n",
       "        vertical-align: top;\n",
       "    }\n",
       "\n",
       "    .dataframe thead th {\n",
       "        text-align: right;\n",
       "    }\n",
       "</style>\n",
       "<table border=\"1\" class=\"dataframe\">\n",
       "  <thead>\n",
       "    <tr style=\"text-align: right;\">\n",
       "      <th></th>\n",
       "      <th>string_X_train</th>\n",
       "      <th>string_Y_1</th>\n",
       "      <th>string_Y_2</th>\n",
       "      <th>Y_label</th>\n",
       "      <th>row_id</th>\n",
       "      <th>label_for_train</th>\n",
       "    </tr>\n",
       "  </thead>\n",
       "  <tbody>\n",
       "    <tr>\n",
       "      <th>586</th>\n",
       "      <td>YUNGSOX 2100M 12MT USD1,015/MT USD12,180 YUNGS...</td>\n",
       "      <td>0</td>\n",
       "      <td>13</td>\n",
       "      <td>YUNGSOX 2100M</td>\n",
       "      <td>855</td>\n",
       "      <td>{'Product':[( 0 , 13 )]}</td>\n",
       "    </tr>\n",
       "    <tr>\n",
       "      <th>92</th>\n",
       "      <td>TRIS 1,2-CYCLOHEXANE DICARBOXYLIC ACID,DI-ISON...</td>\n",
       "      <td>0</td>\n",
       "      <td>50</td>\n",
       "      <td>TRIS 1,2-CYCLOHEXANE DICARBOXYLIC ACID,DI-ISON...</td>\n",
       "      <td>140</td>\n",
       "      <td>{'Product':[( 0 , 50 )]}</td>\n",
       "    </tr>\n",
       "    <tr>\n",
       "      <th>91</th>\n",
       "      <td>TRIS . CIF PORT KLANG,MALAYSIA</td>\n",
       "      <td>0</td>\n",
       "      <td>4</td>\n",
       "      <td>TRIS</td>\n",
       "      <td>139</td>\n",
       "      <td>{'Product':[( 0 , 4 )]}</td>\n",
       "    </tr>\n",
       "  </tbody>\n",
       "</table>\n",
       "</div>"
      ],
      "text/plain": [
       "                                        string_X_train  string_Y_1  \\\n",
       "586  YUNGSOX 2100M 12MT USD1,015/MT USD12,180 YUNGS...           0   \n",
       "92   TRIS 1,2-CYCLOHEXANE DICARBOXYLIC ACID,DI-ISON...           0   \n",
       "91                      TRIS . CIF PORT KLANG,MALAYSIA           0   \n",
       "\n",
       "     string_Y_2                                            Y_label  row_id  \\\n",
       "586          13                                      YUNGSOX 2100M     855   \n",
       "92           50  TRIS 1,2-CYCLOHEXANE DICARBOXYLIC ACID,DI-ISON...     140   \n",
       "91            4                                               TRIS     139   \n",
       "\n",
       "              label_for_train  \n",
       "586  {'Product':[( 0 , 13 )]}  \n",
       "92   {'Product':[( 0 , 50 )]}  \n",
       "91    {'Product':[( 0 , 4 )]}  "
      ]
     },
     "execution_count": 53,
     "metadata": {},
     "output_type": "execute_result"
    }
   ],
   "source": [
    "train_df = pd.read_csv('Train_Product_Data_2021_0114.csv',index_col=0).drop(['Forward','Backward'],axis=1)\n",
    "print(train_df.shape)\n",
    "train_df = train_df.dropna(axis=0)\n",
    "print(train_df.shape)\n",
    "train_df.head(3)"
   ]
  },
  {
   "cell_type": "code",
   "execution_count": 54,
   "metadata": {},
   "outputs": [
    {
     "name": "stdout",
     "output_type": "stream",
     "text": [
      "(744, 5)\n",
      "(744, 5)\n"
     ]
    },
    {
     "data": {
      "text/html": [
       "<div>\n",
       "<style scoped>\n",
       "    .dataframe tbody tr th:only-of-type {\n",
       "        vertical-align: middle;\n",
       "    }\n",
       "\n",
       "    .dataframe tbody tr th {\n",
       "        vertical-align: top;\n",
       "    }\n",
       "\n",
       "    .dataframe thead th {\n",
       "        text-align: right;\n",
       "    }\n",
       "</style>\n",
       "<table border=\"1\" class=\"dataframe\">\n",
       "  <thead>\n",
       "    <tr style=\"text-align: right;\">\n",
       "      <th></th>\n",
       "      <th>string_X_train</th>\n",
       "      <th>string_Y_1</th>\n",
       "      <th>string_Y_2</th>\n",
       "      <th>Y_label</th>\n",
       "      <th>row_id</th>\n",
       "    </tr>\n",
       "  </thead>\n",
       "  <tbody>\n",
       "    <tr>\n",
       "      <th>1</th>\n",
       "      <td>COMMODITY: STYRENE MONOMER IN BULKQUANTITY: 3,...</td>\n",
       "      <td>11</td>\n",
       "      <td>34</td>\n",
       "      <td>STYRENE MONOMER IN BULK</td>\n",
       "      <td>1</td>\n",
       "    </tr>\n",
       "    <tr>\n",
       "      <th>2</th>\n",
       "      <td>COMMODITY: STYRENE MONOMER IN BULKQUANTITY: 3,...</td>\n",
       "      <td>11</td>\n",
       "      <td>34</td>\n",
       "      <td>STYRENE MONOMER IN BULK</td>\n",
       "      <td>2</td>\n",
       "    </tr>\n",
       "    <tr>\n",
       "      <th>3</th>\n",
       "      <td>PP 3307UNC1 . TRADE TERMS: CFR ANY JAPANESE PORT</td>\n",
       "      <td>0</td>\n",
       "      <td>2</td>\n",
       "      <td>PP</td>\n",
       "      <td>10</td>\n",
       "    </tr>\n",
       "  </tbody>\n",
       "</table>\n",
       "</div>"
      ],
      "text/plain": [
       "                                      string_X_train  string_Y_1  string_Y_2  \\\n",
       "1  COMMODITY: STYRENE MONOMER IN BULKQUANTITY: 3,...          11          34   \n",
       "2  COMMODITY: STYRENE MONOMER IN BULKQUANTITY: 3,...          11          34   \n",
       "3   PP 3307UNC1 . TRADE TERMS: CFR ANY JAPANESE PORT           0           2   \n",
       "\n",
       "                   Y_label  row_id  \n",
       "1  STYRENE MONOMER IN BULK       1  \n",
       "2  STYRENE MONOMER IN BULK       2  \n",
       "3                       PP      10  "
      ]
     },
     "execution_count": 54,
     "metadata": {},
     "output_type": "execute_result"
    }
   ],
   "source": [
    "val_df = pd.read_csv('Val_Product_Data_2021_0114.csv',index_col=0).drop(['Forward','Backward'],axis=1)\n",
    "print(val_df.shape)\n",
    "val_df = val_df.dropna(axis=0)\n",
    "print(val_df.shape)\n",
    "val_df.head(3)"
   ]
  },
  {
   "cell_type": "markdown",
   "metadata": {},
   "source": [
    "# Model and Tokenizer Initialization"
   ]
  },
  {
   "cell_type": "code",
   "execution_count": 55,
   "metadata": {},
   "outputs": [
    {
     "name": "stderr",
     "output_type": "stream",
     "text": [
      "Some weights of the model checkpoint at distilbert-base-uncased were not used when initializing DistilBertForQuestionAnswering: ['vocab_layer_norm.weight', 'vocab_transform.weight', 'vocab_transform.bias', 'vocab_projector.bias', 'vocab_layer_norm.bias', 'vocab_projector.weight']\n",
      "- This IS expected if you are initializing DistilBertForQuestionAnswering from the checkpoint of a model trained on another task or with another architecture (e.g. initializing a BertForSequenceClassification model from a BertForPreTraining model).\n",
      "- This IS NOT expected if you are initializing DistilBertForQuestionAnswering from the checkpoint of a model that you expect to be exactly identical (initializing a BertForSequenceClassification model from a BertForSequenceClassification model).\n",
      "Some weights of DistilBertForQuestionAnswering were not initialized from the model checkpoint at distilbert-base-uncased and are newly initialized: ['qa_outputs.bias', 'qa_outputs.weight']\n",
      "You should probably TRAIN this model on a down-stream task to be able to use it for predictions and inference.\n"
     ]
    },
    {
     "data": {
      "text/plain": [
       "223"
      ]
     },
     "execution_count": 55,
     "metadata": {},
     "output_type": "execute_result"
    }
   ],
   "source": [
    "from transformers import DistilBertTokenizerFast\n",
    "from transformers import DistilBertForQuestionAnswering\n",
    "\n",
    "tokenizer = DistilBertTokenizerFast.from_pretrained('distilbert-base-uncased')\n",
    "model = DistilBertForQuestionAnswering.from_pretrained(\"distilbert-base-uncased\")\n",
    "gc.collect()"
   ]
  },
  {
   "cell_type": "markdown",
   "metadata": {},
   "source": [
    "# Data preprocessing"
   ]
  },
  {
   "cell_type": "code",
   "execution_count": 56,
   "metadata": {},
   "outputs": [
    {
     "data": {
      "text/plain": [
       "0"
      ]
     },
     "execution_count": 56,
     "metadata": {},
     "output_type": "execute_result"
    }
   ],
   "source": [
    "def preprocessing(df):\n",
    "    contexts = df['string_X_train'].values.tolist()\n",
    "    questions = [ 'What is the product name?' for i in range(len(df))]\n",
    "    answers = []\n",
    "    for idx in df.index:\n",
    "        answers.append({\n",
    "            'text':df.loc[idx,'Y_label'],\n",
    "            'answer_start':df.loc[idx,'string_Y_1'],\n",
    "            'answer_end':df.loc[idx,'string_Y_2'],\n",
    "            })\n",
    "    return contexts ,questions ,answers\n",
    "\n",
    "train_contexts ,train_questions ,train_answers = preprocessing(train_df)\n",
    "val_contexts ,val_questions ,val_answers = preprocessing(val_df)\n",
    "gc.collect()"
   ]
  },
  {
   "cell_type": "markdown",
   "metadata": {},
   "source": [
    "# tokenize our context/question pairs"
   ]
  },
  {
   "cell_type": "code",
   "execution_count": 57,
   "metadata": {},
   "outputs": [
    {
     "data": {
      "text/plain": [
       "0"
      ]
     },
     "execution_count": 57,
     "metadata": {},
     "output_type": "execute_result"
    }
   ],
   "source": [
    "train_encodings = tokenizer(train_contexts, train_questions, truncation=True, padding=True)\n",
    "val_encodings = tokenizer(val_contexts, val_questions, truncation=True, padding=True)\n",
    "gc.collect()"
   ]
  },
  {
   "cell_type": "markdown",
   "metadata": {},
   "source": [
    "# add_token_positions"
   ]
  },
  {
   "cell_type": "code",
   "execution_count": 58,
   "metadata": {},
   "outputs": [
    {
     "data": {
      "text/plain": [
       "20"
      ]
     },
     "execution_count": 58,
     "metadata": {},
     "output_type": "execute_result"
    }
   ],
   "source": [
    "def add_token_positions(encodings, answers):\n",
    "    start_positions = []\n",
    "    end_positions = []\n",
    "    for i in range(len(answers)):\n",
    "        start_positions.append(encodings.char_to_token(i, answers[i]['answer_start']))\n",
    "        end_positions.append(encodings.char_to_token(i, answers[i]['answer_end'] - 1))\n",
    "\n",
    "        # if start position is None, the answer passage has been truncated\n",
    "        if start_positions[-1] is None:\n",
    "            start_positions[-1] = tokenizer.model_max_length\n",
    "        if end_positions[-1] is None:\n",
    "            end_positions[-1] = tokenizer.model_max_length\n",
    "\n",
    "    encodings.update({'start_positions': start_positions, 'end_positions': end_positions})\n",
    "\n",
    "add_token_positions(train_encodings, train_answers)\n",
    "add_token_positions(val_encodings, val_answers)\n",
    "gc.collect()"
   ]
  },
  {
   "cell_type": "markdown",
   "metadata": {},
   "source": [
    "# data is ready put it in a PyTorch dataset"
   ]
  },
  {
   "cell_type": "code",
   "execution_count": 59,
   "metadata": {},
   "outputs": [
    {
     "data": {
      "text/plain": [
       "20"
      ]
     },
     "execution_count": 59,
     "metadata": {},
     "output_type": "execute_result"
    }
   ],
   "source": [
    "import torch\n",
    "\n",
    "class SquadDataset(torch.utils.data.Dataset):\n",
    "    def __init__(self, encodings):\n",
    "        self.encodings = encodings\n",
    "\n",
    "    def __getitem__(self, idx):\n",
    "        return {key: torch.tensor(val[idx]) for key, val in self.encodings.items()}\n",
    "\n",
    "    def __len__(self):\n",
    "        return len(self.encodings.input_ids)\n",
    "\n",
    "train_dataset = SquadDataset(train_encodings)\n",
    "val_dataset = SquadDataset(val_encodings)\n",
    "gc.collect()"
   ]
  },
  {
   "cell_type": "markdown",
   "metadata": {},
   "source": [
    "# train loop"
   ]
  },
  {
   "cell_type": "code",
   "execution_count": 60,
   "metadata": {},
   "outputs": [
    {
     "name": "stdout",
     "output_type": "stream",
     "text": [
      "cuda\n"
     ]
    },
    {
     "name": "stderr",
     "output_type": "stream",
     "text": [
      "/opt/conda/lib/python3.7/site-packages/ipykernel_launcher.py:50: TqdmDeprecationWarning: This function will be removed in tqdm==5.0.0\n",
      "Please use `tqdm.notebook.tqdm` instead of `tqdm.tqdm_notebook`\n"
     ]
    },
    {
     "data": {
      "application/vnd.jupyter.widget-view+json": {
       "model_id": "5b989336dcdc474da72d9613e39ef833",
       "version_major": 2,
       "version_minor": 0
      },
      "text/plain": [
       "  0%|          | 0/10 [00:00<?, ?it/s]"
      ]
     },
     "metadata": {},
     "output_type": "display_data"
    },
    {
     "name": "stderr",
     "output_type": "stream",
     "text": [
      "/opt/conda/lib/python3.7/site-packages/ipykernel_launcher.py:57: TqdmDeprecationWarning: This function will be removed in tqdm==5.0.0\n",
      "Please use `tqdm.notebook.tqdm` instead of `tqdm.tqdm_notebook`\n"
     ]
    },
    {
     "data": {
      "application/vnd.jupyter.widget-view+json": {
       "model_id": "b82596d041804acaaaebad4ce82e5f6e",
       "version_major": 2,
       "version_minor": 0
      },
      "text/plain": [
       "  0%|          | 0/28 [00:00<?, ?it/s]"
      ]
     },
     "metadata": {},
     "output_type": "display_data"
    },
    {
     "name": "stderr",
     "output_type": "stream",
     "text": [
      "/opt/conda/lib/python3.7/site-packages/ipykernel_launcher.py:61: TqdmDeprecationWarning: This function will be removed in tqdm==5.0.0\n",
      "Please use `tqdm.notebook.tqdm` instead of `tqdm.tqdm_notebook`\n"
     ]
    },
    {
     "data": {
      "application/vnd.jupyter.widget-view+json": {
       "model_id": "67432414b4a248c69aa8997a6cf8b83e",
       "version_major": 2,
       "version_minor": 0
      },
      "text/plain": [
       "  0%|          | 0/12 [00:00<?, ?it/s]"
      ]
     },
     "metadata": {},
     "output_type": "display_data"
    },
    {
     "name": "stdout",
     "output_type": "stream",
     "text": [
      "epoch:0 train_loss:75.66995194554329 val_loss:5.518517047166824\n",
      "save best_model now_val_best_loss is:0.5016833679242567\n"
     ]
    },
    {
     "data": {
      "application/vnd.jupyter.widget-view+json": {
       "model_id": "84fe979d0ae647588b8ae2544ee91715",
       "version_major": 2,
       "version_minor": 0
      },
      "text/plain": [
       "  0%|          | 0/28 [00:00<?, ?it/s]"
      ]
     },
     "metadata": {},
     "output_type": "display_data"
    },
    {
     "data": {
      "application/vnd.jupyter.widget-view+json": {
       "model_id": "4de953b1bcbc4481b7d13f92eb34a7e5",
       "version_major": 2,
       "version_minor": 0
      },
      "text/plain": [
       "  0%|          | 0/12 [00:00<?, ?it/s]"
      ]
     },
     "metadata": {},
     "output_type": "display_data"
    },
    {
     "name": "stdout",
     "output_type": "stream",
     "text": [
      "epoch:1 train_loss:13.38434587419033 val_loss:3.2643196433782578\n",
      "save best_model now_val_best_loss is:0.29675633121620526\n"
     ]
    },
    {
     "data": {
      "application/vnd.jupyter.widget-view+json": {
       "model_id": "b2a15b8ce9f34655b0c318beb7fde743",
       "version_major": 2,
       "version_minor": 0
      },
      "text/plain": [
       "  0%|          | 0/28 [00:00<?, ?it/s]"
      ]
     },
     "metadata": {},
     "output_type": "display_data"
    },
    {
     "data": {
      "application/vnd.jupyter.widget-view+json": {
       "model_id": "712c77bf8e5842a7844dad3f453d8534",
       "version_major": 2,
       "version_minor": 0
      },
      "text/plain": [
       "  0%|          | 0/12 [00:00<?, ?it/s]"
      ]
     },
     "metadata": {},
     "output_type": "display_data"
    },
    {
     "name": "stdout",
     "output_type": "stream",
     "text": [
      "epoch:2 train_loss:7.629917562007904 val_loss:3.0533803030848503\n",
      "save best_model now_val_best_loss is:0.2775800275531682\n"
     ]
    },
    {
     "data": {
      "application/vnd.jupyter.widget-view+json": {
       "model_id": "c00f73f080184bb19275a9dcb7cd239b",
       "version_major": 2,
       "version_minor": 0
      },
      "text/plain": [
       "  0%|          | 0/28 [00:00<?, ?it/s]"
      ]
     },
     "metadata": {},
     "output_type": "display_data"
    },
    {
     "data": {
      "application/vnd.jupyter.widget-view+json": {
       "model_id": "e4ee3f3924224e7298185b4d4ba0e2ae",
       "version_major": 2,
       "version_minor": 0
      },
      "text/plain": [
       "  0%|          | 0/12 [00:00<?, ?it/s]"
      ]
     },
     "metadata": {},
     "output_type": "display_data"
    },
    {
     "name": "stdout",
     "output_type": "stream",
     "text": [
      "epoch:3 train_loss:6.455754242837429 val_loss:3.393228456377983\n"
     ]
    },
    {
     "data": {
      "application/vnd.jupyter.widget-view+json": {
       "model_id": "4e729d3a18614a719850b8b3b0fe33da",
       "version_major": 2,
       "version_minor": 0
      },
      "text/plain": [
       "  0%|          | 0/28 [00:00<?, ?it/s]"
      ]
     },
     "metadata": {},
     "output_type": "display_data"
    },
    {
     "data": {
      "application/vnd.jupyter.widget-view+json": {
       "model_id": "98e9ee7896754dad94d2c3e5eec67140",
       "version_major": 2,
       "version_minor": 0
      },
      "text/plain": [
       "  0%|          | 0/12 [00:00<?, ?it/s]"
      ]
     },
     "metadata": {},
     "output_type": "display_data"
    },
    {
     "name": "stdout",
     "output_type": "stream",
     "text": [
      "epoch:4 train_loss:5.310405991971493 val_loss:2.864381417632103\n",
      "save best_model now_val_best_loss is:0.2603983106938275\n"
     ]
    },
    {
     "data": {
      "application/vnd.jupyter.widget-view+json": {
       "model_id": "928753e188db436083f4f431ee46ef5c",
       "version_major": 2,
       "version_minor": 0
      },
      "text/plain": [
       "  0%|          | 0/28 [00:00<?, ?it/s]"
      ]
     },
     "metadata": {},
     "output_type": "display_data"
    },
    {
     "data": {
      "application/vnd.jupyter.widget-view+json": {
       "model_id": "6ae1c7262ef444858bf2b79f2767f370",
       "version_major": 2,
       "version_minor": 0
      },
      "text/plain": [
       "  0%|          | 0/12 [00:00<?, ?it/s]"
      ]
     },
     "metadata": {},
     "output_type": "display_data"
    },
    {
     "name": "stdout",
     "output_type": "stream",
     "text": [
      "epoch:5 train_loss:4.493959002196789 val_loss:3.471189007163048\n"
     ]
    },
    {
     "data": {
      "application/vnd.jupyter.widget-view+json": {
       "model_id": "c5a7bafc771c4bb8b30ed15e7ebe7af0",
       "version_major": 2,
       "version_minor": 0
      },
      "text/plain": [
       "  0%|          | 0/28 [00:00<?, ?it/s]"
      ]
     },
     "metadata": {},
     "output_type": "display_data"
    },
    {
     "data": {
      "application/vnd.jupyter.widget-view+json": {
       "model_id": "d07d474c03dc437bb51e8500cdeab5d3",
       "version_major": 2,
       "version_minor": 0
      },
      "text/plain": [
       "  0%|          | 0/12 [00:00<?, ?it/s]"
      ]
     },
     "metadata": {},
     "output_type": "display_data"
    },
    {
     "name": "stdout",
     "output_type": "stream",
     "text": [
      "epoch:6 train_loss:3.626721028704196 val_loss:3.2558497339487076\n"
     ]
    }
   ],
   "source": [
    "from torch.utils.data import DataLoader\n",
    "from torch.optim import Adam\n",
    "\n",
    "device = torch.device('cuda') if torch.cuda.is_available() else torch.device('cpu')\n",
    "print(device)\n",
    "model.to(device)\n",
    "model.train()\n",
    "train_loader = DataLoader(train_dataset, batch_size = 64, shuffle=True ,num_workers=4)\n",
    "val_loader = DataLoader(val_dataset, batch_size = 64, shuffle=True ,num_workers=4)\n",
    "optim = MADGRAD(model.parameters(),lr=5e-5)\n",
    "gc.collect()\n",
    "\n",
    "def train_step(batch):\n",
    "    # forward\n",
    "    input_ids = batch['input_ids'].to(device)\n",
    "    attention_mask = batch['attention_mask'].to(device)\n",
    "    start_positions = batch['start_positions'].to(device)\n",
    "    end_positions = batch['end_positions'].to(device)\n",
    "    outputs = model(input_ids, attention_mask=attention_mask, start_positions=start_positions, end_positions=end_positions)\n",
    "    loss = outputs[0]\n",
    "    \n",
    "    # update model\n",
    "    loss.backward()\n",
    "    optim.step()\n",
    "    optim.zero_grad()\n",
    "    \n",
    "    gc.collect()\n",
    "    return loss.item()\n",
    "\n",
    "def val_step(batch):\n",
    "    # forward\n",
    "    input_ids = batch['input_ids'].to(device)\n",
    "    attention_mask = batch['attention_mask'].to(device)\n",
    "    start_positions = batch['start_positions'].to(device)\n",
    "    end_positions = batch['end_positions'].to(device)\n",
    "    outputs = model(input_ids, attention_mask=attention_mask, start_positions=start_positions, end_positions=end_positions)\n",
    "    loss = outputs[0]\n",
    "    \n",
    "    gc.collect()\n",
    "    return loss.item()\n",
    "\n",
    "k = 10\n",
    "history = {'train_loss':[],\n",
    "           'val_loss':[]}\n",
    "best_loss = np.inf\n",
    "best_model = None\n",
    "not_improve_count = 0\n",
    "patience = 3\n",
    "\n",
    "for epoch in tqdm(range(k)):    \n",
    "    \n",
    "    # reset this epoch loss equal to zero\n",
    "    epoch_train_loss = 0.0\n",
    "    epoch_val_loss = 0.0\n",
    "    \n",
    "    # train one epoch and get train_loss\n",
    "    for i,batch in enumerate(tqdm(train_loader)):\n",
    "        epoch_train_loss += train_step(batch)\n",
    "    \n",
    "    # val one epoch and get val_loss\n",
    "    for j,batch in enumerate(tqdm(val_loader)):\n",
    "        epoch_val_loss += val_step(batch)\n",
    "    \n",
    "    # record loss history\n",
    "    history['train_loss'].append(epoch_train_loss/i)\n",
    "    history['val_loss'].append(epoch_val_loss/j)\n",
    "    \n",
    "    # print this epoch's infomation\n",
    "    print(f'epoch:{epoch} train_loss:{epoch_train_loss} val_loss:{epoch_val_loss}')\n",
    "    \n",
    "    # save best_model (if current val_loss <= best_loss)\n",
    "    if history['val_loss'][-1] <= best_loss: \n",
    "        best_model = deepcopy(model.eval())\n",
    "        best_loss = history['val_loss'][-1]\n",
    "        print(f'save best_model now_val_best_loss is:{best_loss}')\n",
    "    \n",
    "    if history['val_loss'][-1] > best_loss:\n",
    "        not_improve_count += 1\n",
    "        if not_improve_count >= patience:\n",
    "            break\n",
    "            \n",
    "# GET best_model.eval()\n",
    "model = best_model.eval()"
   ]
  },
  {
   "cell_type": "markdown",
   "metadata": {},
   "source": [
    "# loss curve"
   ]
  },
  {
   "cell_type": "code",
   "execution_count": 61,
   "metadata": {},
   "outputs": [
    {
     "data": {
      "image/png": "[encoded data removed]",
      "text/plain": [
       "<Figure size 432x288 with 1 Axes>"
      ]
     },
     "metadata": {
      "needs_background": "light"
     },
     "output_type": "display_data"
    }
   ],
   "source": [
    "plt.plot(history['train_loss'],label='train')\n",
    "plt.plot(history['val_loss'],label='val')\n",
    "plt.legend()\n",
    "plt.show()"
   ]
  },
  {
   "cell_type": "markdown",
   "metadata": {},
   "source": [
    "# test"
   ]
  },
  {
   "cell_type": "code",
   "execution_count": 62,
   "metadata": {},
   "outputs": [],
   "source": [
    "from transformers import pipeline\n",
    "nlp = pipeline('question-answering', model=model.to('cpu'), tokenizer=tokenizer)"
   ]
  },
  {
   "cell_type": "code",
   "execution_count": 63,
   "metadata": {},
   "outputs": [],
   "source": [
    "def test_model(df,n_test):\n",
    "    i = 0\n",
    "    table = pd.DataFrame()\n",
    "    for _ in tqdm(range(n_test)):\n",
    "        sample = df.sample(1)\n",
    "        string_X_train = sample['string_X_train'].values[0]\n",
    "        string_Y_1 = sample['string_Y_1'].values[0]\n",
    "        string_Y_2 = sample['string_Y_2'].values[0]\n",
    "        QA_input = {\n",
    "            'question': 'What is the product name?',\n",
    "            'context': string_X_train\n",
    "        }\n",
    "        res = nlp(QA_input)\n",
    "        predict = QA_input['context'][res['start']:res['end']]\n",
    "        row = pd.DataFrame({\n",
    "            'label':string_X_train[string_Y_1:string_Y_2],\n",
    "            'predict:':predict},index=[i])\n",
    "        if string_X_train[string_Y_1:string_Y_2] == predict:\n",
    "            row['是否全對'] = 'Yes'\n",
    "        else:\n",
    "            row['是否全對'] = 'No'\n",
    "        table = table.append(row)\n",
    "        i += 1\n",
    "    display(table)\n",
    "    return table"
   ]
  },
  {
   "cell_type": "markdown",
   "metadata": {},
   "source": [
    "# 最後讓我們來看看模型在驗證集上的表現"
   ]
  },
  {
   "cell_type": "code",
   "execution_count": 64,
   "metadata": {},
   "outputs": [
    {
     "name": "stderr",
     "output_type": "stream",
     "text": [
      "/opt/conda/lib/python3.7/site-packages/ipykernel_launcher.py:4: TqdmDeprecationWarning: This function will be removed in tqdm==5.0.0\n",
      "Please use `tqdm.notebook.tqdm` instead of `tqdm.tqdm_notebook`\n",
      "  after removing the cwd from sys.path.\n"
     ]
    },
    {
     "data": {
      "application/vnd.jupyter.widget-view+json": {
       "model_id": "73dfc6aa83ab46fead989a654759204e",
       "version_major": 2,
       "version_minor": 0
      },
      "text/plain": [
       "  0%|          | 0/50 [00:00<?, ?it/s]"
      ]
     },
     "metadata": {},
     "output_type": "display_data"
    },
    {
     "data": {
      "text/html": [
       "<div>\n",
       "<style scoped>\n",
       "    .dataframe tbody tr th:only-of-type {\n",
       "        vertical-align: middle;\n",
       "    }\n",
       "\n",
       "    .dataframe tbody tr th {\n",
       "        vertical-align: top;\n",
       "    }\n",
       "\n",
       "    .dataframe thead th {\n",
       "        text-align: right;\n",
       "    }\n",
       "</style>\n",
       "<table border=\"1\" class=\"dataframe\">\n",
       "  <thead>\n",
       "    <tr style=\"text-align: right;\">\n",
       "      <th></th>\n",
       "      <th>label</th>\n",
       "      <th>predict:</th>\n",
       "      <th>是否全對</th>\n",
       "    </tr>\n",
       "  </thead>\n",
       "  <tbody>\n",
       "    <tr>\n",
       "      <th>0</th>\n",
       "      <td>N-BUTANOL</td>\n",
       "      <td>N-BUTANOL</td>\n",
       "      <td>Yes</td>\n",
       "    </tr>\n",
       "    <tr>\n",
       "      <th>1</th>\n",
       "      <td>EVA TAISOX</td>\n",
       "      <td>EVA TAISOX</td>\n",
       "      <td>Yes</td>\n",
       "    </tr>\n",
       "    <tr>\n",
       "      <th>2</th>\n",
       "      <td>PP</td>\n",
       "      <td>PP</td>\n",
       "      <td>Yes</td>\n",
       "    </tr>\n",
       "    <tr>\n",
       "      <th>3</th>\n",
       "      <td>ABS</td>\n",
       "      <td>ABS</td>\n",
       "      <td>Yes</td>\n",
       "    </tr>\n",
       "    <tr>\n",
       "      <th>4</th>\n",
       "      <td>ETHYLENE-PROPYLENE COPOLYMERS PP COPOLYMER YUN...</td>\n",
       "      <td>ETHYLENE-PROPYLENE COPOLYMERS</td>\n",
       "      <td>No</td>\n",
       "    </tr>\n",
       "    <tr>\n",
       "      <th>5</th>\n",
       "      <td>METHYL METHACRYLATE</td>\n",
       "      <td>METHYL METHACRYLATE + INHIBITOR</td>\n",
       "      <td>No</td>\n",
       "    </tr>\n",
       "    <tr>\n",
       "      <th>6</th>\n",
       "      <td>ETHYL ACRYLATE</td>\n",
       "      <td>ETHYL ACRYLATE</td>\n",
       "      <td>Yes</td>\n",
       "    </tr>\n",
       "    <tr>\n",
       "      <th>7</th>\n",
       "      <td>ETHYLENE-PROPYLENE COPOLYMERS PP COPOLYMER YUN...</td>\n",
       "      <td>ETHYLENE-PROPYLENE COPOLYMERS</td>\n",
       "      <td>No</td>\n",
       "    </tr>\n",
       "    <tr>\n",
       "      <th>8</th>\n",
       "      <td>POLYETHYLENE TEREPHTHALATE FILM</td>\n",
       "      <td>POLYESTER FILM</td>\n",
       "      <td>No</td>\n",
       "    </tr>\n",
       "    <tr>\n",
       "      <th>9</th>\n",
       "      <td>PET RESIN</td>\n",
       "      <td>PET RESIN</td>\n",
       "      <td>Yes</td>\n",
       "    </tr>\n",
       "    <tr>\n",
       "      <th>10</th>\n",
       "      <td>METHYL ACRYLATE</td>\n",
       "      <td>METHYL ACRYLATE</td>\n",
       "      <td>Yes</td>\n",
       "    </tr>\n",
       "    <tr>\n",
       "      <th>11</th>\n",
       "      <td>HDPE</td>\n",
       "      <td>HDPE</td>\n",
       "      <td>Yes</td>\n",
       "    </tr>\n",
       "    <tr>\n",
       "      <th>12</th>\n",
       "      <td>HDPE TAISOX 8001</td>\n",
       "      <td>HDPE TAISOX 8001</td>\n",
       "      <td>Yes</td>\n",
       "    </tr>\n",
       "    <tr>\n",
       "      <th>13</th>\n",
       "      <td>EVA TAISOX</td>\n",
       "      <td>EVA TAISOX</td>\n",
       "      <td>Yes</td>\n",
       "    </tr>\n",
       "    <tr>\n",
       "      <th>14</th>\n",
       "      <td>PURIFIED ISOPHTHALIC ACID</td>\n",
       "      <td>PURIFIED ISOPHTHALIC ACID</td>\n",
       "      <td>Yes</td>\n",
       "    </tr>\n",
       "    <tr>\n",
       "      <th>15</th>\n",
       "      <td>PROPYLENE COPOLYMER</td>\n",
       "      <td>PROPYLENE COPOLYMER</td>\n",
       "      <td>Yes</td>\n",
       "    </tr>\n",
       "    <tr>\n",
       "      <th>16</th>\n",
       "      <td>DINP</td>\n",
       "      <td>DINP</td>\n",
       "      <td>Yes</td>\n",
       "    </tr>\n",
       "    <tr>\n",
       "      <th>17</th>\n",
       "      <td>TAIRILAC ABS RESINS</td>\n",
       "      <td>ABS RESINS</td>\n",
       "      <td>No</td>\n",
       "    </tr>\n",
       "    <tr>\n",
       "      <th>18</th>\n",
       "      <td>ABS RESIN</td>\n",
       "      <td>TAIRILAC ABS RESIN</td>\n",
       "      <td>No</td>\n",
       "    </tr>\n",
       "    <tr>\n",
       "      <th>19</th>\n",
       "      <td>GLASS FABRICS</td>\n",
       "      <td>GLASS FABRICS</td>\n",
       "      <td>Yes</td>\n",
       "    </tr>\n",
       "    <tr>\n",
       "      <th>20</th>\n",
       "      <td>NP-155FB</td>\n",
       "      <td>NP-140B</td>\n",
       "      <td>No</td>\n",
       "    </tr>\n",
       "    <tr>\n",
       "      <th>21</th>\n",
       "      <td>COPPER CLAD LAMINATE</td>\n",
       "      <td>COPPER CLAD LAMINATES</td>\n",
       "      <td>No</td>\n",
       "    </tr>\n",
       "    <tr>\n",
       "      <th>22</th>\n",
       "      <td>EPOXY RESIN</td>\n",
       "      <td>EPOXY RESIN</td>\n",
       "      <td>Yes</td>\n",
       "    </tr>\n",
       "    <tr>\n",
       "      <th>23</th>\n",
       "      <td>ABS AG15A1</td>\n",
       "      <td>ABS AG15A1</td>\n",
       "      <td>Yes</td>\n",
       "    </tr>\n",
       "    <tr>\n",
       "      <th>24</th>\n",
       "      <td>PVC SUSPENSION RESIN</td>\n",
       "      <td>PVC SUSPENSION RESIN</td>\n",
       "      <td>Yes</td>\n",
       "    </tr>\n",
       "    <tr>\n",
       "      <th>25</th>\n",
       "      <td>MONOETHYLENE GLYCOL</td>\n",
       "      <td>MONOETHYLENE GLYCOL</td>\n",
       "      <td>Yes</td>\n",
       "    </tr>\n",
       "    <tr>\n",
       "      <th>26</th>\n",
       "      <td>ETHYLENE-PROPYLENE COPOLYMER</td>\n",
       "      <td>ETHYLENE-PROPYLENE COPOLYMER</td>\n",
       "      <td>Yes</td>\n",
       "    </tr>\n",
       "    <tr>\n",
       "      <th>27</th>\n",
       "      <td>LLDPE</td>\n",
       "      <td>LLDPE FILM GRADE TAISOX 3224</td>\n",
       "      <td>No</td>\n",
       "    </tr>\n",
       "    <tr>\n",
       "      <th>28</th>\n",
       "      <td>NAME?</td>\n",
       "      <td>#NAME</td>\n",
       "      <td>No</td>\n",
       "    </tr>\n",
       "    <tr>\n",
       "      <th>29</th>\n",
       "      <td>HDPE TAISOX 9001</td>\n",
       "      <td>HDPE TAISOX 9001</td>\n",
       "      <td>Yes</td>\n",
       "    </tr>\n",
       "    <tr>\n",
       "      <th>30</th>\n",
       "      <td>PROPYLENE COPOLYMER</td>\n",
       "      <td>PROPYLENE COPOLYMER</td>\n",
       "      <td>Yes</td>\n",
       "    </tr>\n",
       "    <tr>\n",
       "      <th>31</th>\n",
       "      <td>POLYESTER STAPLE FIBRE</td>\n",
       "      <td>POLYESTER STAPLE FIBRE</td>\n",
       "      <td>Yes</td>\n",
       "    </tr>\n",
       "    <tr>\n",
       "      <th>32</th>\n",
       "      <td>PA</td>\n",
       "      <td>PA</td>\n",
       "      <td>Yes</td>\n",
       "    </tr>\n",
       "    <tr>\n",
       "      <th>33</th>\n",
       "      <td>COPPER CLAD LAMINATE</td>\n",
       "      <td>COPPER CLAD LAMINATE</td>\n",
       "      <td>Yes</td>\n",
       "    </tr>\n",
       "    <tr>\n",
       "      <th>34</th>\n",
       "      <td>PROPYLENE COPOLYMER</td>\n",
       "      <td>PROPYLENE COPOLYMER</td>\n",
       "      <td>Yes</td>\n",
       "    </tr>\n",
       "    <tr>\n",
       "      <th>35</th>\n",
       "      <td>ETHYLENE-PROPYLENE COPOLYMER</td>\n",
       "      <td>ETHYLENE-PROPYLENE COPOLYMER</td>\n",
       "      <td>Yes</td>\n",
       "    </tr>\n",
       "    <tr>\n",
       "      <th>36</th>\n",
       "      <td>2-EH</td>\n",
       "      <td>2-EH</td>\n",
       "      <td>Yes</td>\n",
       "    </tr>\n",
       "    <tr>\n",
       "      <th>37</th>\n",
       "      <td>ETHYL ACRYLATE</td>\n",
       "      <td>ETHYL ACRYLATE</td>\n",
       "      <td>Yes</td>\n",
       "    </tr>\n",
       "    <tr>\n",
       "      <th>38</th>\n",
       "      <td>BPA BISPHENOL-A</td>\n",
       "      <td>BPA BISPHENOL-A</td>\n",
       "      <td>Yes</td>\n",
       "    </tr>\n",
       "    <tr>\n",
       "      <th>39</th>\n",
       "      <td>PVC SUSPENSION RESIN</td>\n",
       "      <td>PVC</td>\n",
       "      <td>No</td>\n",
       "    </tr>\n",
       "    <tr>\n",
       "      <th>40</th>\n",
       "      <td>EVA TAISOX 7A50H</td>\n",
       "      <td>EVA TAISOX</td>\n",
       "      <td>No</td>\n",
       "    </tr>\n",
       "    <tr>\n",
       "      <th>41</th>\n",
       "      <td>POLYETHYLENE TEREPHTHALATE FILM</td>\n",
       "      <td>POLYESTER FILM</td>\n",
       "      <td>No</td>\n",
       "    </tr>\n",
       "    <tr>\n",
       "      <th>42</th>\n",
       "      <td>PA6 DTY</td>\n",
       "      <td>PA6 DTY</td>\n",
       "      <td>Yes</td>\n",
       "    </tr>\n",
       "    <tr>\n",
       "      <th>43</th>\n",
       "      <td>LLDPE 3490</td>\n",
       "      <td>LLDPE 3490</td>\n",
       "      <td>Yes</td>\n",
       "    </tr>\n",
       "    <tr>\n",
       "      <th>44</th>\n",
       "      <td>POLYESTER STAPLE FIBER</td>\n",
       "      <td>POLYESTER STAPLE FIBER</td>\n",
       "      <td>Yes</td>\n",
       "    </tr>\n",
       "    <tr>\n",
       "      <th>45</th>\n",
       "      <td>PROPYLENE COPOLYMER</td>\n",
       "      <td>PROPYLENE COPOLYMER</td>\n",
       "      <td>Yes</td>\n",
       "    </tr>\n",
       "    <tr>\n",
       "      <th>46</th>\n",
       "      <td>EPOXY RESIN</td>\n",
       "      <td>EPOXY RESIN</td>\n",
       "      <td>Yes</td>\n",
       "    </tr>\n",
       "    <tr>\n",
       "      <th>47</th>\n",
       "      <td>PVC SUSPENSION RESIN</td>\n",
       "      <td>PVC</td>\n",
       "      <td>No</td>\n",
       "    </tr>\n",
       "    <tr>\n",
       "      <th>48</th>\n",
       "      <td>IMPACT MODIFIER</td>\n",
       "      <td>IMPACT MODIFIER</td>\n",
       "      <td>Yes</td>\n",
       "    </tr>\n",
       "    <tr>\n",
       "      <th>49</th>\n",
       "      <td>DIETHYLENE GLYCOL DEG</td>\n",
       "      <td>DIETHYLENE GLYCOL DEG</td>\n",
       "      <td>Yes</td>\n",
       "    </tr>\n",
       "  </tbody>\n",
       "</table>\n",
       "</div>"
      ],
      "text/plain": [
       "                                                label  \\\n",
       "0                                           N-BUTANOL   \n",
       "1                                          EVA TAISOX   \n",
       "2                                                  PP   \n",
       "3                                                 ABS   \n",
       "4   ETHYLENE-PROPYLENE COPOLYMERS PP COPOLYMER YUN...   \n",
       "5                                 METHYL METHACRYLATE   \n",
       "6                                      ETHYL ACRYLATE   \n",
       "7   ETHYLENE-PROPYLENE COPOLYMERS PP COPOLYMER YUN...   \n",
       "8                     POLYETHYLENE TEREPHTHALATE FILM   \n",
       "9                                           PET RESIN   \n",
       "10                                    METHYL ACRYLATE   \n",
       "11                                               HDPE   \n",
       "12                                   HDPE TAISOX 8001   \n",
       "13                                         EVA TAISOX   \n",
       "14                          PURIFIED ISOPHTHALIC ACID   \n",
       "15                                PROPYLENE COPOLYMER   \n",
       "16                                               DINP   \n",
       "17                                TAIRILAC ABS RESINS   \n",
       "18                                          ABS RESIN   \n",
       "19                                      GLASS FABRICS   \n",
       "20                                           NP-155FB   \n",
       "21                               COPPER CLAD LAMINATE   \n",
       "22                                        EPOXY RESIN   \n",
       "23                                         ABS AG15A1   \n",
       "24                               PVC SUSPENSION RESIN   \n",
       "25                                MONOETHYLENE GLYCOL   \n",
       "26                       ETHYLENE-PROPYLENE COPOLYMER   \n",
       "27                                              LLDPE   \n",
       "28                                              NAME?   \n",
       "29                                   HDPE TAISOX 9001   \n",
       "30                                PROPYLENE COPOLYMER   \n",
       "31                             POLYESTER STAPLE FIBRE   \n",
       "32                                                 PA   \n",
       "33                               COPPER CLAD LAMINATE   \n",
       "34                                PROPYLENE COPOLYMER   \n",
       "35                       ETHYLENE-PROPYLENE COPOLYMER   \n",
       "36                                               2-EH   \n",
       "37                                     ETHYL ACRYLATE   \n",
       "38                                    BPA BISPHENOL-A   \n",
       "39                               PVC SUSPENSION RESIN   \n",
       "40                                   EVA TAISOX 7A50H   \n",
       "41                    POLYETHYLENE TEREPHTHALATE FILM   \n",
       "42                                            PA6 DTY   \n",
       "43                                         LLDPE 3490   \n",
       "44                             POLYESTER STAPLE FIBER   \n",
       "45                                PROPYLENE COPOLYMER   \n",
       "46                                        EPOXY RESIN   \n",
       "47                               PVC SUSPENSION RESIN   \n",
       "48                                    IMPACT MODIFIER   \n",
       "49                              DIETHYLENE GLYCOL DEG   \n",
       "\n",
       "                           predict: 是否全對  \n",
       "0                         N-BUTANOL  Yes  \n",
       "1                        EVA TAISOX  Yes  \n",
       "2                                PP  Yes  \n",
       "3                               ABS  Yes  \n",
       "4     ETHYLENE-PROPYLENE COPOLYMERS   No  \n",
       "5   METHYL METHACRYLATE + INHIBITOR   No  \n",
       "6                    ETHYL ACRYLATE  Yes  \n",
       "7     ETHYLENE-PROPYLENE COPOLYMERS   No  \n",
       "8                    POLYESTER FILM   No  \n",
       "9                         PET RESIN  Yes  \n",
       "10                  METHYL ACRYLATE  Yes  \n",
       "11                             HDPE  Yes  \n",
       "12                 HDPE TAISOX 8001  Yes  \n",
       "13                       EVA TAISOX  Yes  \n",
       "14        PURIFIED ISOPHTHALIC ACID  Yes  \n",
       "15              PROPYLENE COPOLYMER  Yes  \n",
       "16                             DINP  Yes  \n",
       "17                       ABS RESINS   No  \n",
       "18               TAIRILAC ABS RESIN   No  \n",
       "19                    GLASS FABRICS  Yes  \n",
       "20                          NP-140B   No  \n",
       "21            COPPER CLAD LAMINATES   No  \n",
       "22                      EPOXY RESIN  Yes  \n",
       "23                       ABS AG15A1  Yes  \n",
       "24             PVC SUSPENSION RESIN  Yes  \n",
       "25              MONOETHYLENE GLYCOL  Yes  \n",
       "26     ETHYLENE-PROPYLENE COPOLYMER  Yes  \n",
       "27     LLDPE FILM GRADE TAISOX 3224   No  \n",
       "28                            #NAME   No  \n",
       "29                 HDPE TAISOX 9001  Yes  \n",
       "30              PROPYLENE COPOLYMER  Yes  \n",
       "31           POLYESTER STAPLE FIBRE  Yes  \n",
       "32                               PA  Yes  \n",
       "33             COPPER CLAD LAMINATE  Yes  \n",
       "34              PROPYLENE COPOLYMER  Yes  \n",
       "35     ETHYLENE-PROPYLENE COPOLYMER  Yes  \n",
       "36                             2-EH  Yes  \n",
       "37                   ETHYL ACRYLATE  Yes  \n",
       "38                  BPA BISPHENOL-A  Yes  \n",
       "39                              PVC   No  \n",
       "40                       EVA TAISOX   No  \n",
       "41                   POLYESTER FILM   No  \n",
       "42                          PA6 DTY  Yes  \n",
       "43                       LLDPE 3490  Yes  \n",
       "44           POLYESTER STAPLE FIBER  Yes  \n",
       "45              PROPYLENE COPOLYMER  Yes  \n",
       "46                      EPOXY RESIN  Yes  \n",
       "47                              PVC   No  \n",
       "48                  IMPACT MODIFIER  Yes  \n",
       "49            DIETHYLENE GLYCOL DEG  Yes  "
      ]
     },
     "metadata": {},
     "output_type": "display_data"
    },
    {
     "data": {
      "text/html": [
       "<div>\n",
       "<style scoped>\n",
       "    .dataframe tbody tr th:only-of-type {\n",
       "        vertical-align: middle;\n",
       "    }\n",
       "\n",
       "    .dataframe tbody tr th {\n",
       "        vertical-align: top;\n",
       "    }\n",
       "\n",
       "    .dataframe thead th {\n",
       "        text-align: right;\n",
       "    }\n",
       "</style>\n",
       "<table border=\"1\" class=\"dataframe\">\n",
       "  <thead>\n",
       "    <tr style=\"text-align: right;\">\n",
       "      <th></th>\n",
       "      <th>label</th>\n",
       "      <th>predict:</th>\n",
       "      <th>是否全對</th>\n",
       "    </tr>\n",
       "  </thead>\n",
       "  <tbody>\n",
       "    <tr>\n",
       "      <th>0</th>\n",
       "      <td>N-BUTANOL</td>\n",
       "      <td>N-BUTANOL</td>\n",
       "      <td>Yes</td>\n",
       "    </tr>\n",
       "    <tr>\n",
       "      <th>1</th>\n",
       "      <td>EVA TAISOX</td>\n",
       "      <td>EVA TAISOX</td>\n",
       "      <td>Yes</td>\n",
       "    </tr>\n",
       "    <tr>\n",
       "      <th>2</th>\n",
       "      <td>PP</td>\n",
       "      <td>PP</td>\n",
       "      <td>Yes</td>\n",
       "    </tr>\n",
       "    <tr>\n",
       "      <th>3</th>\n",
       "      <td>ABS</td>\n",
       "      <td>ABS</td>\n",
       "      <td>Yes</td>\n",
       "    </tr>\n",
       "    <tr>\n",
       "      <th>4</th>\n",
       "      <td>ETHYLENE-PROPYLENE COPOLYMERS PP COPOLYMER YUN...</td>\n",
       "      <td>ETHYLENE-PROPYLENE COPOLYMERS</td>\n",
       "      <td>No</td>\n",
       "    </tr>\n",
       "    <tr>\n",
       "      <th>5</th>\n",
       "      <td>METHYL METHACRYLATE</td>\n",
       "      <td>METHYL METHACRYLATE + INHIBITOR</td>\n",
       "      <td>No</td>\n",
       "    </tr>\n",
       "    <tr>\n",
       "      <th>6</th>\n",
       "      <td>ETHYL ACRYLATE</td>\n",
       "      <td>ETHYL ACRYLATE</td>\n",
       "      <td>Yes</td>\n",
       "    </tr>\n",
       "    <tr>\n",
       "      <th>7</th>\n",
       "      <td>ETHYLENE-PROPYLENE COPOLYMERS PP COPOLYMER YUN...</td>\n",
       "      <td>ETHYLENE-PROPYLENE COPOLYMERS</td>\n",
       "      <td>No</td>\n",
       "    </tr>\n",
       "    <tr>\n",
       "      <th>8</th>\n",
       "      <td>POLYETHYLENE TEREPHTHALATE FILM</td>\n",
       "      <td>POLYESTER FILM</td>\n",
       "      <td>No</td>\n",
       "    </tr>\n",
       "    <tr>\n",
       "      <th>9</th>\n",
       "      <td>PET RESIN</td>\n",
       "      <td>PET RESIN</td>\n",
       "      <td>Yes</td>\n",
       "    </tr>\n",
       "    <tr>\n",
       "      <th>10</th>\n",
       "      <td>METHYL ACRYLATE</td>\n",
       "      <td>METHYL ACRYLATE</td>\n",
       "      <td>Yes</td>\n",
       "    </tr>\n",
       "    <tr>\n",
       "      <th>11</th>\n",
       "      <td>HDPE</td>\n",
       "      <td>HDPE</td>\n",
       "      <td>Yes</td>\n",
       "    </tr>\n",
       "    <tr>\n",
       "      <th>12</th>\n",
       "      <td>HDPE TAISOX 8001</td>\n",
       "      <td>HDPE TAISOX 8001</td>\n",
       "      <td>Yes</td>\n",
       "    </tr>\n",
       "    <tr>\n",
       "      <th>13</th>\n",
       "      <td>EVA TAISOX</td>\n",
       "      <td>EVA TAISOX</td>\n",
       "      <td>Yes</td>\n",
       "    </tr>\n",
       "    <tr>\n",
       "      <th>14</th>\n",
       "      <td>PURIFIED ISOPHTHALIC ACID</td>\n",
       "      <td>PURIFIED ISOPHTHALIC ACID</td>\n",
       "      <td>Yes</td>\n",
       "    </tr>\n",
       "    <tr>\n",
       "      <th>15</th>\n",
       "      <td>PROPYLENE COPOLYMER</td>\n",
       "      <td>PROPYLENE COPOLYMER</td>\n",
       "      <td>Yes</td>\n",
       "    </tr>\n",
       "    <tr>\n",
       "      <th>16</th>\n",
       "      <td>DINP</td>\n",
       "      <td>DINP</td>\n",
       "      <td>Yes</td>\n",
       "    </tr>\n",
       "    <tr>\n",
       "      <th>17</th>\n",
       "      <td>TAIRILAC ABS RESINS</td>\n",
       "      <td>ABS RESINS</td>\n",
       "      <td>No</td>\n",
       "    </tr>\n",
       "    <tr>\n",
       "      <th>18</th>\n",
       "      <td>ABS RESIN</td>\n",
       "      <td>TAIRILAC ABS RESIN</td>\n",
       "      <td>No</td>\n",
       "    </tr>\n",
       "    <tr>\n",
       "      <th>19</th>\n",
       "      <td>GLASS FABRICS</td>\n",
       "      <td>GLASS FABRICS</td>\n",
       "      <td>Yes</td>\n",
       "    </tr>\n",
       "    <tr>\n",
       "      <th>20</th>\n",
       "      <td>NP-155FB</td>\n",
       "      <td>NP-140B</td>\n",
       "      <td>No</td>\n",
       "    </tr>\n",
       "    <tr>\n",
       "      <th>21</th>\n",
       "      <td>COPPER CLAD LAMINATE</td>\n",
       "      <td>COPPER CLAD LAMINATES</td>\n",
       "      <td>No</td>\n",
       "    </tr>\n",
       "    <tr>\n",
       "      <th>22</th>\n",
       "      <td>EPOXY RESIN</td>\n",
       "      <td>EPOXY RESIN</td>\n",
       "      <td>Yes</td>\n",
       "    </tr>\n",
       "    <tr>\n",
       "      <th>23</th>\n",
       "      <td>ABS AG15A1</td>\n",
       "      <td>ABS AG15A1</td>\n",
       "      <td>Yes</td>\n",
       "    </tr>\n",
       "    <tr>\n",
       "      <th>24</th>\n",
       "      <td>PVC SUSPENSION RESIN</td>\n",
       "      <td>PVC SUSPENSION RESIN</td>\n",
       "      <td>Yes</td>\n",
       "    </tr>\n",
       "    <tr>\n",
       "      <th>25</th>\n",
       "      <td>MONOETHYLENE GLYCOL</td>\n",
       "      <td>MONOETHYLENE GLYCOL</td>\n",
       "      <td>Yes</td>\n",
       "    </tr>\n",
       "    <tr>\n",
       "      <th>26</th>\n",
       "      <td>ETHYLENE-PROPYLENE COPOLYMER</td>\n",
       "      <td>ETHYLENE-PROPYLENE COPOLYMER</td>\n",
       "      <td>Yes</td>\n",
       "    </tr>\n",
       "    <tr>\n",
       "      <th>27</th>\n",
       "      <td>LLDPE</td>\n",
       "      <td>LLDPE FILM GRADE TAISOX 3224</td>\n",
       "      <td>No</td>\n",
       "    </tr>\n",
       "    <tr>\n",
       "      <th>28</th>\n",
       "      <td>NAME?</td>\n",
       "      <td>#NAME</td>\n",
       "      <td>No</td>\n",
       "    </tr>\n",
       "    <tr>\n",
       "      <th>29</th>\n",
       "      <td>HDPE TAISOX 9001</td>\n",
       "      <td>HDPE TAISOX 9001</td>\n",
       "      <td>Yes</td>\n",
       "    </tr>\n",
       "    <tr>\n",
       "      <th>30</th>\n",
       "      <td>PROPYLENE COPOLYMER</td>\n",
       "      <td>PROPYLENE COPOLYMER</td>\n",
       "      <td>Yes</td>\n",
       "    </tr>\n",
       "    <tr>\n",
       "      <th>31</th>\n",
       "      <td>POLYESTER STAPLE FIBRE</td>\n",
       "      <td>POLYESTER STAPLE FIBRE</td>\n",
       "      <td>Yes</td>\n",
       "    </tr>\n",
       "    <tr>\n",
       "      <th>32</th>\n",
       "      <td>PA</td>\n",
       "      <td>PA</td>\n",
       "      <td>Yes</td>\n",
       "    </tr>\n",
       "    <tr>\n",
       "      <th>33</th>\n",
       "      <td>COPPER CLAD LAMINATE</td>\n",
       "      <td>COPPER CLAD LAMINATE</td>\n",
       "      <td>Yes</td>\n",
       "    </tr>\n",
       "    <tr>\n",
       "      <th>34</th>\n",
       "      <td>PROPYLENE COPOLYMER</td>\n",
       "      <td>PROPYLENE COPOLYMER</td>\n",
       "      <td>Yes</td>\n",
       "    </tr>\n",
       "    <tr>\n",
       "      <th>35</th>\n",
       "      <td>ETHYLENE-PROPYLENE COPOLYMER</td>\n",
       "      <td>ETHYLENE-PROPYLENE COPOLYMER</td>\n",
       "      <td>Yes</td>\n",
       "    </tr>\n",
       "    <tr>\n",
       "      <th>36</th>\n",
       "      <td>2-EH</td>\n",
       "      <td>2-EH</td>\n",
       "      <td>Yes</td>\n",
       "    </tr>\n",
       "    <tr>\n",
       "      <th>37</th>\n",
       "      <td>ETHYL ACRYLATE</td>\n",
       "      <td>ETHYL ACRYLATE</td>\n",
       "      <td>Yes</td>\n",
       "    </tr>\n",
       "    <tr>\n",
       "      <th>38</th>\n",
       "      <td>BPA BISPHENOL-A</td>\n",
       "      <td>BPA BISPHENOL-A</td>\n",
       "      <td>Yes</td>\n",
       "    </tr>\n",
       "    <tr>\n",
       "      <th>39</th>\n",
       "      <td>PVC SUSPENSION RESIN</td>\n",
       "      <td>PVC</td>\n",
       "      <td>No</td>\n",
       "    </tr>\n",
       "    <tr>\n",
       "      <th>40</th>\n",
       "      <td>EVA TAISOX 7A50H</td>\n",
       "      <td>EVA TAISOX</td>\n",
       "      <td>No</td>\n",
       "    </tr>\n",
       "    <tr>\n",
       "      <th>41</th>\n",
       "      <td>POLYETHYLENE TEREPHTHALATE FILM</td>\n",
       "      <td>POLYESTER FILM</td>\n",
       "      <td>No</td>\n",
       "    </tr>\n",
       "    <tr>\n",
       "      <th>42</th>\n",
       "      <td>PA6 DTY</td>\n",
       "      <td>PA6 DTY</td>\n",
       "      <td>Yes</td>\n",
       "    </tr>\n",
       "    <tr>\n",
       "      <th>43</th>\n",
       "      <td>LLDPE 3490</td>\n",
       "      <td>LLDPE 3490</td>\n",
       "      <td>Yes</td>\n",
       "    </tr>\n",
       "    <tr>\n",
       "      <th>44</th>\n",
       "      <td>POLYESTER STAPLE FIBER</td>\n",
       "      <td>POLYESTER STAPLE FIBER</td>\n",
       "      <td>Yes</td>\n",
       "    </tr>\n",
       "    <tr>\n",
       "      <th>45</th>\n",
       "      <td>PROPYLENE COPOLYMER</td>\n",
       "      <td>PROPYLENE COPOLYMER</td>\n",
       "      <td>Yes</td>\n",
       "    </tr>\n",
       "    <tr>\n",
       "      <th>46</th>\n",
       "      <td>EPOXY RESIN</td>\n",
       "      <td>EPOXY RESIN</td>\n",
       "      <td>Yes</td>\n",
       "    </tr>\n",
       "    <tr>\n",
       "      <th>47</th>\n",
       "      <td>PVC SUSPENSION RESIN</td>\n",
       "      <td>PVC</td>\n",
       "      <td>No</td>\n",
       "    </tr>\n",
       "    <tr>\n",
       "      <th>48</th>\n",
       "      <td>IMPACT MODIFIER</td>\n",
       "      <td>IMPACT MODIFIER</td>\n",
       "      <td>Yes</td>\n",
       "    </tr>\n",
       "    <tr>\n",
       "      <th>49</th>\n",
       "      <td>DIETHYLENE GLYCOL DEG</td>\n",
       "      <td>DIETHYLENE GLYCOL DEG</td>\n",
       "      <td>Yes</td>\n",
       "    </tr>\n",
       "  </tbody>\n",
       "</table>\n",
       "</div>"
      ],
      "text/plain": [
       "                                                label  \\\n",
       "0                                           N-BUTANOL   \n",
       "1                                          EVA TAISOX   \n",
       "2                                                  PP   \n",
       "3                                                 ABS   \n",
       "4   ETHYLENE-PROPYLENE COPOLYMERS PP COPOLYMER YUN...   \n",
       "5                                 METHYL METHACRYLATE   \n",
       "6                                      ETHYL ACRYLATE   \n",
       "7   ETHYLENE-PROPYLENE COPOLYMERS PP COPOLYMER YUN...   \n",
       "8                     POLYETHYLENE TEREPHTHALATE FILM   \n",
       "9                                           PET RESIN   \n",
       "10                                    METHYL ACRYLATE   \n",
       "11                                               HDPE   \n",
       "12                                   HDPE TAISOX 8001   \n",
       "13                                         EVA TAISOX   \n",
       "14                          PURIFIED ISOPHTHALIC ACID   \n",
       "15                                PROPYLENE COPOLYMER   \n",
       "16                                               DINP   \n",
       "17                                TAIRILAC ABS RESINS   \n",
       "18                                          ABS RESIN   \n",
       "19                                      GLASS FABRICS   \n",
       "20                                           NP-155FB   \n",
       "21                               COPPER CLAD LAMINATE   \n",
       "22                                        EPOXY RESIN   \n",
       "23                                         ABS AG15A1   \n",
       "24                               PVC SUSPENSION RESIN   \n",
       "25                                MONOETHYLENE GLYCOL   \n",
       "26                       ETHYLENE-PROPYLENE COPOLYMER   \n",
       "27                                              LLDPE   \n",
       "28                                              NAME?   \n",
       "29                                   HDPE TAISOX 9001   \n",
       "30                                PROPYLENE COPOLYMER   \n",
       "31                             POLYESTER STAPLE FIBRE   \n",
       "32                                                 PA   \n",
       "33                               COPPER CLAD LAMINATE   \n",
       "34                                PROPYLENE COPOLYMER   \n",
       "35                       ETHYLENE-PROPYLENE COPOLYMER   \n",
       "36                                               2-EH   \n",
       "37                                     ETHYL ACRYLATE   \n",
       "38                                    BPA BISPHENOL-A   \n",
       "39                               PVC SUSPENSION RESIN   \n",
       "40                                   EVA TAISOX 7A50H   \n",
       "41                    POLYETHYLENE TEREPHTHALATE FILM   \n",
       "42                                            PA6 DTY   \n",
       "43                                         LLDPE 3490   \n",
       "44                             POLYESTER STAPLE FIBER   \n",
       "45                                PROPYLENE COPOLYMER   \n",
       "46                                        EPOXY RESIN   \n",
       "47                               PVC SUSPENSION RESIN   \n",
       "48                                    IMPACT MODIFIER   \n",
       "49                              DIETHYLENE GLYCOL DEG   \n",
       "\n",
       "                           predict: 是否全對  \n",
       "0                         N-BUTANOL  Yes  \n",
       "1                        EVA TAISOX  Yes  \n",
       "2                                PP  Yes  \n",
       "3                               ABS  Yes  \n",
       "4     ETHYLENE-PROPYLENE COPOLYMERS   No  \n",
       "5   METHYL METHACRYLATE + INHIBITOR   No  \n",
       "6                    ETHYL ACRYLATE  Yes  \n",
       "7     ETHYLENE-PROPYLENE COPOLYMERS   No  \n",
       "8                    POLYESTER FILM   No  \n",
       "9                         PET RESIN  Yes  \n",
       "10                  METHYL ACRYLATE  Yes  \n",
       "11                             HDPE  Yes  \n",
       "12                 HDPE TAISOX 8001  Yes  \n",
       "13                       EVA TAISOX  Yes  \n",
       "14        PURIFIED ISOPHTHALIC ACID  Yes  \n",
       "15              PROPYLENE COPOLYMER  Yes  \n",
       "16                             DINP  Yes  \n",
       "17                       ABS RESINS   No  \n",
       "18               TAIRILAC ABS RESIN   No  \n",
       "19                    GLASS FABRICS  Yes  \n",
       "20                          NP-140B   No  \n",
       "21            COPPER CLAD LAMINATES   No  \n",
       "22                      EPOXY RESIN  Yes  \n",
       "23                       ABS AG15A1  Yes  \n",
       "24             PVC SUSPENSION RESIN  Yes  \n",
       "25              MONOETHYLENE GLYCOL  Yes  \n",
       "26     ETHYLENE-PROPYLENE COPOLYMER  Yes  \n",
       "27     LLDPE FILM GRADE TAISOX 3224   No  \n",
       "28                            #NAME   No  \n",
       "29                 HDPE TAISOX 9001  Yes  \n",
       "30              PROPYLENE COPOLYMER  Yes  \n",
       "31           POLYESTER STAPLE FIBRE  Yes  \n",
       "32                               PA  Yes  \n",
       "33             COPPER CLAD LAMINATE  Yes  \n",
       "34              PROPYLENE COPOLYMER  Yes  \n",
       "35     ETHYLENE-PROPYLENE COPOLYMER  Yes  \n",
       "36                             2-EH  Yes  \n",
       "37                   ETHYL ACRYLATE  Yes  \n",
       "38                  BPA BISPHENOL-A  Yes  \n",
       "39                              PVC   No  \n",
       "40                       EVA TAISOX   No  \n",
       "41                   POLYESTER FILM   No  \n",
       "42                          PA6 DTY  Yes  \n",
       "43                       LLDPE 3490  Yes  \n",
       "44           POLYESTER STAPLE FIBER  Yes  \n",
       "45              PROPYLENE COPOLYMER  Yes  \n",
       "46                      EPOXY RESIN  Yes  \n",
       "47                              PVC   No  \n",
       "48                  IMPACT MODIFIER  Yes  \n",
       "49            DIETHYLENE GLYCOL DEG  Yes  "
      ]
     },
     "execution_count": 64,
     "metadata": {},
     "output_type": "execute_result"
    }
   ],
   "source": [
    "test_model(val_df,50)"
   ]
  },
  {
   "cell_type": "markdown",
   "metadata": {},
   "source": [
    "# claculate acc and jaccard"
   ]
  },
  {
   "cell_type": "code",
   "execution_count": 65,
   "metadata": {},
   "outputs": [
    {
     "name": "stderr",
     "output_type": "stream",
     "text": [
      "/opt/conda/lib/python3.7/site-packages/ipykernel_launcher.py:4: TqdmDeprecationWarning: This function will be removed in tqdm==5.0.0\n",
      "Please use `tqdm.notebook.tqdm` instead of `tqdm.tqdm_notebook`\n",
      "  after removing the cwd from sys.path.\n"
     ]
    },
    {
     "data": {
      "application/vnd.jupyter.widget-view+json": {
       "model_id": "ea6cc5d6be6546059adcf742ec6457c0",
       "version_major": 2,
       "version_minor": 0
      },
      "text/plain": [
       "  0%|          | 0/744 [00:00<?, ?it/s]"
      ]
     },
     "metadata": {},
     "output_type": "display_data"
    },
    {
     "data": {
      "text/html": [
       "<div>\n",
       "<style scoped>\n",
       "    .dataframe tbody tr th:only-of-type {\n",
       "        vertical-align: middle;\n",
       "    }\n",
       "\n",
       "    .dataframe tbody tr th {\n",
       "        vertical-align: top;\n",
       "    }\n",
       "\n",
       "    .dataframe thead th {\n",
       "        text-align: right;\n",
       "    }\n",
       "</style>\n",
       "<table border=\"1\" class=\"dataframe\">\n",
       "  <thead>\n",
       "    <tr style=\"text-align: right;\">\n",
       "      <th></th>\n",
       "      <th>label</th>\n",
       "      <th>predict:</th>\n",
       "      <th>是否全對</th>\n",
       "    </tr>\n",
       "  </thead>\n",
       "  <tbody>\n",
       "    <tr>\n",
       "      <th>0</th>\n",
       "      <td>ETHYL ACRYLATE</td>\n",
       "      <td>ETHYL ACRYLATE</td>\n",
       "      <td>Yes</td>\n",
       "    </tr>\n",
       "    <tr>\n",
       "      <th>1</th>\n",
       "      <td>PROPYLENE COPOLYMER</td>\n",
       "      <td>PROPYLENE COPOLYMER</td>\n",
       "      <td>Yes</td>\n",
       "    </tr>\n",
       "    <tr>\n",
       "      <th>2</th>\n",
       "      <td>METHYL METHACRYLATE</td>\n",
       "      <td>METHYL METHACRYLATE</td>\n",
       "      <td>Yes</td>\n",
       "    </tr>\n",
       "    <tr>\n",
       "      <th>3</th>\n",
       "      <td>TAIRILIN BRAND POLYESTER FILM B</td>\n",
       "      <td>TAIRILIN BRAND POLYESTER FILM B</td>\n",
       "      <td>Yes</td>\n",
       "    </tr>\n",
       "    <tr>\n",
       "      <th>4</th>\n",
       "      <td>MONO ETHYLENE GLYCOL MEG</td>\n",
       "      <td>MONO ETHYLENE GLYCOL</td>\n",
       "      <td>No</td>\n",
       "    </tr>\n",
       "    <tr>\n",
       "      <th>...</th>\n",
       "      <td>...</td>\n",
       "      <td>...</td>\n",
       "      <td>...</td>\n",
       "    </tr>\n",
       "    <tr>\n",
       "      <th>739</th>\n",
       "      <td>POLYCARBONATE RESIN</td>\n",
       "      <td>POLYCARBONATE RESIN</td>\n",
       "      <td>Yes</td>\n",
       "    </tr>\n",
       "    <tr>\n",
       "      <th>740</th>\n",
       "      <td>MONO ETHYLENE GLYCOL</td>\n",
       "      <td>MONO ETHYLENE GLYCOL</td>\n",
       "      <td>Yes</td>\n",
       "    </tr>\n",
       "    <tr>\n",
       "      <th>741</th>\n",
       "      <td>GPPS GP5250</td>\n",
       "      <td>GPPS GP5250</td>\n",
       "      <td>Yes</td>\n",
       "    </tr>\n",
       "    <tr>\n",
       "      <th>742</th>\n",
       "      <td>ABS AG15A1-H</td>\n",
       "      <td>ABS AG15A1-H</td>\n",
       "      <td>Yes</td>\n",
       "    </tr>\n",
       "    <tr>\n",
       "      <th>743</th>\n",
       "      <td>PURIFIED ISOPHTHALIC ACID</td>\n",
       "      <td>PURIFIED ISOPHTHALIC ACID</td>\n",
       "      <td>Yes</td>\n",
       "    </tr>\n",
       "  </tbody>\n",
       "</table>\n",
       "<p>744 rows × 3 columns</p>\n",
       "</div>"
      ],
      "text/plain": [
       "                               label                         predict: 是否全對\n",
       "0                     ETHYL ACRYLATE                   ETHYL ACRYLATE  Yes\n",
       "1                PROPYLENE COPOLYMER              PROPYLENE COPOLYMER  Yes\n",
       "2                METHYL METHACRYLATE              METHYL METHACRYLATE  Yes\n",
       "3    TAIRILIN BRAND POLYESTER FILM B  TAIRILIN BRAND POLYESTER FILM B  Yes\n",
       "4           MONO ETHYLENE GLYCOL MEG             MONO ETHYLENE GLYCOL   No\n",
       "..                               ...                              ...  ...\n",
       "739              POLYCARBONATE RESIN              POLYCARBONATE RESIN  Yes\n",
       "740             MONO ETHYLENE GLYCOL             MONO ETHYLENE GLYCOL  Yes\n",
       "741                      GPPS GP5250                      GPPS GP5250  Yes\n",
       "742                     ABS AG15A1-H                     ABS AG15A1-H  Yes\n",
       "743        PURIFIED ISOPHTHALIC ACID        PURIFIED ISOPHTHALIC ACID  Yes\n",
       "\n",
       "[744 rows x 3 columns]"
      ]
     },
     "metadata": {},
     "output_type": "display_data"
    }
   ],
   "source": [
    "all_res = test_model(val_df,len(val_df))"
   ]
  },
  {
   "cell_type": "code",
   "execution_count": 66,
   "metadata": {},
   "outputs": [
    {
     "data": {
      "text/plain": [
       "Yes    610\n",
       "No     134\n",
       "Name: 是否全對, dtype: int64"
      ]
     },
     "execution_count": 66,
     "metadata": {},
     "output_type": "execute_result"
    }
   ],
   "source": [
    "all_res['是否全對'].value_counts()"
   ]
  },
  {
   "cell_type": "code",
   "execution_count": 67,
   "metadata": {},
   "outputs": [
    {
     "data": {
      "text/plain": [
       "0.8198924731182796"
      ]
     },
     "execution_count": 67,
     "metadata": {},
     "output_type": "execute_result"
    }
   ],
   "source": [
    "acc = all_res['是否全對'].value_counts()['Yes']/len(val_df)\n",
    "acc"
   ]
  },
  {
   "cell_type": "markdown",
   "metadata": {},
   "source": [
    "# jaccard"
   ]
  },
  {
   "cell_type": "code",
   "execution_count": 68,
   "metadata": {},
   "outputs": [],
   "source": [
    "def get_jaccard_sim(str1, str2): \n",
    "    a = set(str1.split()) \n",
    "    b = set(str2.split())\n",
    "    c = a.intersection(b)\n",
    "    return float(len(c)) / (len(a) + len(b) - len(c))"
   ]
  },
  {
   "cell_type": "code",
   "execution_count": 69,
   "metadata": {},
   "outputs": [
    {
     "data": {
      "text/plain": [
       "0.9052195340501792"
      ]
     },
     "execution_count": 69,
     "metadata": {},
     "output_type": "execute_result"
    }
   ],
   "source": [
    "jaccard_avg_score = np.mean([ get_jaccard_sim(all_res.label[i],all_res['predict:'][i]) for i in range(len(all_res))])\n",
    "jaccard_avg_score "
   ]
  },
  {
   "cell_type": "code",
   "execution_count": null,
   "metadata": {},
   "outputs": [],
   "source": []
  }
 ],
 "metadata": {
  "interpreter": {
   "hash": "2ccee5cc862501c1aad1cf19888c2a2eca4026b72d187db43d5e889cbdc6ee97"
  },
  "kernelspec": {
   "display_name": "Python 3",
   "language": "python",
   "name": "python3"
  },
  "language_info": {
   "codemirror_mode": {
    "name": "ipython",
    "version": 3
   },
   "file_extension": ".py",
   "mimetype": "text/x-python",
   "name": "python",
   "nbconvert_exporter": "python",
   "pygments_lexer": "ipython3",
   "version": "3.7.4"
  }
 },
 "nbformat": 4,
 "nbformat_minor": 2
}
