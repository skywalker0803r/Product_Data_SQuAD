{
 "cells": [
  {
   "cell_type": "code",
   "execution_count": 28,
   "id": "82e6e02c",
   "metadata": {},
   "outputs": [],
   "source": [
    "import pandas as pd\n",
    "import os\n",
    "import xlrd"
   ]
  },
  {
   "cell_type": "code",
   "execution_count": 29,
   "id": "7752c917",
   "metadata": {},
   "outputs": [],
   "source": [
    "path = 'combined_excel.xlsx'\n",
    "df = pd.read_excel(path,index_col=0, engine='openpyxl')"
   ]
  },
  {
   "cell_type": "code",
   "execution_count": 30,
   "id": "073b9d7d",
   "metadata": {},
   "outputs": [
    {
     "data": {
      "text/html": [
       "<div>\n",
       "<style scoped>\n",
       "    .dataframe tbody tr th:only-of-type {\n",
       "        vertical-align: middle;\n",
       "    }\n",
       "\n",
       "    .dataframe tbody tr th {\n",
       "        vertical-align: top;\n",
       "    }\n",
       "\n",
       "    .dataframe thead th {\n",
       "        text-align: right;\n",
       "    }\n",
       "</style>\n",
       "<table border=\"1\" class=\"dataframe\">\n",
       "  <thead>\n",
       "    <tr style=\"text-align: right;\">\n",
       "      <th></th>\n",
       "      <th>50</th>\n",
       "    </tr>\n",
       "  </thead>\n",
       "  <tbody>\n",
       "    <tr>\n",
       "      <th>3</th>\n",
       "      <td>OJUS PETROCHEMICALS LLPC 289 NIRALA NAGAR LUCK...</td>\n",
       "    </tr>\n",
       "    <tr>\n",
       "      <th>4</th>\n",
       "      <td>AHMED SAEED AFIFI FACTORY CO. FORRESINS LTD. P...</td>\n",
       "    </tr>\n",
       "    <tr>\n",
       "      <th>5</th>\n",
       "      <td>MINH KHANG CHEMICAL TRADINGJOINT STOCK COMPANY...</td>\n",
       "    </tr>\n",
       "    <tr>\n",
       "      <th>7</th>\n",
       "      <td>CHORI CO., LTD.TEL NO.81-76-232-3008FAX NO.81-...</td>\n",
       "    </tr>\n",
       "    <tr>\n",
       "      <th>9</th>\n",
       "      <td>CHORI CO., LTD.TEL NO.81-76-232-3008FAX NO.81-...</td>\n",
       "    </tr>\n",
       "    <tr>\n",
       "      <th>...</th>\n",
       "      <td>...</td>\n",
       "    </tr>\n",
       "    <tr>\n",
       "      <th>8403</th>\n",
       "      <td>HENGLI PETROCHEMICAL CO., LIMITED_x000D_\\nFLAT...</td>\n",
       "    </tr>\n",
       "    <tr>\n",
       "      <th>8413</th>\n",
       "      <td>MARUBENI INTEX CO.,LTD._x000D_\\n1-2-1 DOJIMAHA...</td>\n",
       "    </tr>\n",
       "    <tr>\n",
       "      <th>8414</th>\n",
       "      <td>XIAMEN GOLDEN CHEMICALS CO., LTD_x000D_\\nADDRE...</td>\n",
       "    </tr>\n",
       "    <tr>\n",
       "      <th>8415</th>\n",
       "      <td>XIAMEN GOLDEN CHEMICALS CO., LTD_x000D_\\nADDRE...</td>\n",
       "    </tr>\n",
       "    <tr>\n",
       "      <th>8416</th>\n",
       "      <td>XIAMEN GOLDEN CHEMICALS CO., LTD_x000D_\\nADDRE...</td>\n",
       "    </tr>\n",
       "  </tbody>\n",
       "</table>\n",
       "<p>3643 rows × 1 columns</p>\n",
       "</div>"
      ],
      "text/plain": [
       "                                                     50\n",
       "3     OJUS PETROCHEMICALS LLPC 289 NIRALA NAGAR LUCK...\n",
       "4     AHMED SAEED AFIFI FACTORY CO. FORRESINS LTD. P...\n",
       "5     MINH KHANG CHEMICAL TRADINGJOINT STOCK COMPANY...\n",
       "7     CHORI CO., LTD.TEL NO.81-76-232-3008FAX NO.81-...\n",
       "9     CHORI CO., LTD.TEL NO.81-76-232-3008FAX NO.81-...\n",
       "...                                                 ...\n",
       "8403  HENGLI PETROCHEMICAL CO., LIMITED_x000D_\\nFLAT...\n",
       "8413  MARUBENI INTEX CO.,LTD._x000D_\\n1-2-1 DOJIMAHA...\n",
       "8414  XIAMEN GOLDEN CHEMICALS CO., LTD_x000D_\\nADDRE...\n",
       "8415  XIAMEN GOLDEN CHEMICALS CO., LTD_x000D_\\nADDRE...\n",
       "8416  XIAMEN GOLDEN CHEMICALS CO., LTD_x000D_\\nADDRE...\n",
       "\n",
       "[3643 rows x 1 columns]"
      ]
     },
     "execution_count": 30,
     "metadata": {},
     "output_type": "execute_result"
    }
   ],
   "source": [
    "df[['50']]"
   ]
  },
  {
   "cell_type": "markdown",
   "id": "782b8c6e",
   "metadata": {},
   "source": [
    "# 第一種case"
   ]
  },
  {
   "cell_type": "code",
   "execution_count": 31,
   "id": "e87af7c8",
   "metadata": {},
   "outputs": [
    {
     "data": {
      "text/html": [
       "<div>\n",
       "<style scoped>\n",
       "    .dataframe tbody tr th:only-of-type {\n",
       "        vertical-align: middle;\n",
       "    }\n",
       "\n",
       "    .dataframe tbody tr th {\n",
       "        vertical-align: top;\n",
       "    }\n",
       "\n",
       "    .dataframe thead th {\n",
       "        text-align: right;\n",
       "    }\n",
       "</style>\n",
       "<table border=\"1\" class=\"dataframe\">\n",
       "  <thead>\n",
       "    <tr style=\"text-align: right;\">\n",
       "      <th></th>\n",
       "      <th>string_X</th>\n",
       "      <th>Y_label</th>\n",
       "    </tr>\n",
       "  </thead>\n",
       "  <tbody>\n",
       "    <tr>\n",
       "      <th>0</th>\n",
       "      <td>KINGFA SCI. AND TECH. CO., LTD._x000D_\\nADDRES...</td>\n",
       "      <td>KINGFA SCI. AND TECH. CO., LTD.</td>\n",
       "    </tr>\n",
       "    <tr>\n",
       "      <th>1</th>\n",
       "      <td>LANDMARK INT'L CORP._x000D_\\nSUITE 310,GRIFFIT...</td>\n",
       "      <td>LANDMARK INT'L CORP.</td>\n",
       "    </tr>\n",
       "    <tr>\n",
       "      <th>2</th>\n",
       "      <td>DVA PLASTICS GmbH_x000D_\\nVALENTINSKAMP 70_x00...</td>\n",
       "      <td>DVA PLASTICS GmbH</td>\n",
       "    </tr>\n",
       "    <tr>\n",
       "      <th>3</th>\n",
       "      <td>SHANGHAI KINGFA SCI. AND TECH._x000D_\\nDVPT. C...</td>\n",
       "      <td>SHANGHAI KINGFA SCI. AND TECH.</td>\n",
       "    </tr>\n",
       "    <tr>\n",
       "      <th>4</th>\n",
       "      <td>SHANGHAI KINGFA SCI. AND TECH._x000D_\\nDVPT. C...</td>\n",
       "      <td>SHANGHAI KINGFA SCI. AND TECH.</td>\n",
       "    </tr>\n",
       "    <tr>\n",
       "      <th>...</th>\n",
       "      <td>...</td>\n",
       "      <td>...</td>\n",
       "    </tr>\n",
       "    <tr>\n",
       "      <th>3349</th>\n",
       "      <td>HENGLI PETROCHEMICAL CO., LIMITED_x000D_\\nFLAT...</td>\n",
       "      <td>HENGLI PETROCHEMICAL CO., LIMITED</td>\n",
       "    </tr>\n",
       "    <tr>\n",
       "      <th>3350</th>\n",
       "      <td>MARUBENI INTEX CO.,LTD._x000D_\\n1-2-1 DOJIMAHA...</td>\n",
       "      <td>MARUBENI INTEX CO.,LTD.</td>\n",
       "    </tr>\n",
       "    <tr>\n",
       "      <th>3351</th>\n",
       "      <td>XIAMEN GOLDEN CHEMICALS CO., LTD_x000D_\\nADDRE...</td>\n",
       "      <td>XIAMEN GOLDEN CHEMICALS CO., LTD</td>\n",
       "    </tr>\n",
       "    <tr>\n",
       "      <th>3352</th>\n",
       "      <td>XIAMEN GOLDEN CHEMICALS CO., LTD_x000D_\\nADDRE...</td>\n",
       "      <td>XIAMEN GOLDEN CHEMICALS CO., LTD</td>\n",
       "    </tr>\n",
       "    <tr>\n",
       "      <th>3353</th>\n",
       "      <td>XIAMEN GOLDEN CHEMICALS CO., LTD_x000D_\\nADDRE...</td>\n",
       "      <td>XIAMEN GOLDEN CHEMICALS CO., LTD</td>\n",
       "    </tr>\n",
       "  </tbody>\n",
       "</table>\n",
       "<p>3354 rows × 2 columns</p>\n",
       "</div>"
      ],
      "text/plain": [
       "                                               string_X  \\\n",
       "0     KINGFA SCI. AND TECH. CO., LTD._x000D_\\nADDRES...   \n",
       "1     LANDMARK INT'L CORP._x000D_\\nSUITE 310,GRIFFIT...   \n",
       "2     DVA PLASTICS GmbH_x000D_\\nVALENTINSKAMP 70_x00...   \n",
       "3     SHANGHAI KINGFA SCI. AND TECH._x000D_\\nDVPT. C...   \n",
       "4     SHANGHAI KINGFA SCI. AND TECH._x000D_\\nDVPT. C...   \n",
       "...                                                 ...   \n",
       "3349  HENGLI PETROCHEMICAL CO., LIMITED_x000D_\\nFLAT...   \n",
       "3350  MARUBENI INTEX CO.,LTD._x000D_\\n1-2-1 DOJIMAHA...   \n",
       "3351  XIAMEN GOLDEN CHEMICALS CO., LTD_x000D_\\nADDRE...   \n",
       "3352  XIAMEN GOLDEN CHEMICALS CO., LTD_x000D_\\nADDRE...   \n",
       "3353  XIAMEN GOLDEN CHEMICALS CO., LTD_x000D_\\nADDRE...   \n",
       "\n",
       "                                Y_label  \n",
       "0       KINGFA SCI. AND TECH. CO., LTD.  \n",
       "1                  LANDMARK INT'L CORP.  \n",
       "2                     DVA PLASTICS GmbH  \n",
       "3        SHANGHAI KINGFA SCI. AND TECH.  \n",
       "4        SHANGHAI KINGFA SCI. AND TECH.  \n",
       "...                                 ...  \n",
       "3349  HENGLI PETROCHEMICAL CO., LIMITED  \n",
       "3350            MARUBENI INTEX CO.,LTD.  \n",
       "3351   XIAMEN GOLDEN CHEMICALS CO., LTD  \n",
       "3352   XIAMEN GOLDEN CHEMICALS CO., LTD  \n",
       "3353   XIAMEN GOLDEN CHEMICALS CO., LTD  \n",
       "\n",
       "[3354 rows x 2 columns]"
      ]
     },
     "execution_count": 31,
     "metadata": {},
     "output_type": "execute_result"
    }
   ],
   "source": [
    "case1 = {}\n",
    "for k,v in zip(df['50'].index,df['50'].values):\n",
    "    if \"_x000D\" in v:\n",
    "        case1[k] = v.split('_x000D')[0][:]\n",
    "res1 = pd.DataFrame()\n",
    "res1['string_X'] = df.loc[case1.keys(),'50'].values\n",
    "res1['Y_label'] = case1.values()\n",
    "res1"
   ]
  },
  {
   "cell_type": "markdown",
   "id": "0d11fb18",
   "metadata": {},
   "source": [
    "# 去除不必要的東西"
   ]
  },
  {
   "cell_type": "code",
   "execution_count": 32,
   "id": "5f5799ac",
   "metadata": {},
   "outputs": [],
   "source": [
    "df = res1"
   ]
  },
  {
   "cell_type": "code",
   "execution_count": 33,
   "id": "3c9d0af3",
   "metadata": {},
   "outputs": [
    {
     "data": {
      "text/html": [
       "<div>\n",
       "<style scoped>\n",
       "    .dataframe tbody tr th:only-of-type {\n",
       "        vertical-align: middle;\n",
       "    }\n",
       "\n",
       "    .dataframe tbody tr th {\n",
       "        vertical-align: top;\n",
       "    }\n",
       "\n",
       "    .dataframe thead th {\n",
       "        text-align: right;\n",
       "    }\n",
       "</style>\n",
       "<table border=\"1\" class=\"dataframe\">\n",
       "  <thead>\n",
       "    <tr style=\"text-align: right;\">\n",
       "      <th></th>\n",
       "      <th>string_X</th>\n",
       "      <th>Y_label</th>\n",
       "    </tr>\n",
       "  </thead>\n",
       "  <tbody>\n",
       "    <tr>\n",
       "      <th>0</th>\n",
       "      <td>KINGFA SCI AND TECH CO LTDx000DADDRESS NO33 KE...</td>\n",
       "      <td>KINGFA SCI AND TECH CO LTD</td>\n",
       "    </tr>\n",
       "    <tr>\n",
       "      <th>1</th>\n",
       "      <td>LANDMARK INTL CORPx000DSUITE 310GRIFFITH CORPO...</td>\n",
       "      <td>LANDMARK INTL CORP</td>\n",
       "    </tr>\n",
       "    <tr>\n",
       "      <th>2</th>\n",
       "      <td>DVA PLASTICS GmbHx000DVALENTINSKAMP 70x000DHAM...</td>\n",
       "      <td>DVA PLASTICS GmbH</td>\n",
       "    </tr>\n",
       "    <tr>\n",
       "      <th>3</th>\n",
       "      <td>SHANGHAI KINGFA SCI AND TECHx000DDVPT COLTDx00...</td>\n",
       "      <td>SHANGHAI KINGFA SCI AND TECH</td>\n",
       "    </tr>\n",
       "    <tr>\n",
       "      <th>4</th>\n",
       "      <td>SHANGHAI KINGFA SCI AND TECHx000DDVPT COLTDx00...</td>\n",
       "      <td>SHANGHAI KINGFA SCI AND TECH</td>\n",
       "    </tr>\n",
       "  </tbody>\n",
       "</table>\n",
       "</div>"
      ],
      "text/plain": [
       "                                            string_X  \\\n",
       "0  KINGFA SCI AND TECH CO LTDx000DADDRESS NO33 KE...   \n",
       "1  LANDMARK INTL CORPx000DSUITE 310GRIFFITH CORPO...   \n",
       "2  DVA PLASTICS GmbHx000DVALENTINSKAMP 70x000DHAM...   \n",
       "3  SHANGHAI KINGFA SCI AND TECHx000DDVPT COLTDx00...   \n",
       "4  SHANGHAI KINGFA SCI AND TECHx000DDVPT COLTDx00...   \n",
       "\n",
       "                        Y_label  \n",
       "0    KINGFA SCI AND TECH CO LTD  \n",
       "1            LANDMARK INTL CORP  \n",
       "2             DVA PLASTICS GmbH  \n",
       "3  SHANGHAI KINGFA SCI AND TECH  \n",
       "4  SHANGHAI KINGFA SCI AND TECH  "
      ]
     },
     "execution_count": 33,
     "metadata": {},
     "output_type": "execute_result"
    }
   ],
   "source": [
    "import re\n",
    "\n",
    "def preprocess(x):\n",
    "    x = re.sub('[\\u4e00-\\u9fa5]', '', x) # 1.去除中文\n",
    "    x = re.sub('[’!\"#$%&\\'()*+,/:;<=>?@[\\\\]^_`{|}~，。,.]', '', x) # 2.去除標點符號\n",
    "    x = x.replace('\\n', '').replace('\\r', '').replace('\\t', '') # 3.去除換行符號\n",
    "    x = str.strip(x) # 4.移除左右空白\n",
    "    return x\n",
    "\n",
    "df['string_X'] = df['string_X'].apply(preprocess)\n",
    "df['Y_label'] = df['Y_label'].apply(preprocess)\n",
    "df.head()"
   ]
  },
  {
   "cell_type": "markdown",
   "id": "5ca99252",
   "metadata": {},
   "source": [
    "# 清洗"
   ]
  },
  {
   "cell_type": "code",
   "execution_count": 34,
   "id": "af90d52a",
   "metadata": {},
   "outputs": [
    {
     "name": "stdout",
     "output_type": "stream",
     "text": [
      "(3354, 2)\n",
      "(3354, 2)\n"
     ]
    }
   ],
   "source": [
    "df = df.dropna(axis=0).reset_index(drop=True)\n",
    "print(df.shape)\n",
    "keep_lst = []\n",
    "for i in range(len(df)):\n",
    "    if df.iloc[i]['Y_label'] in df.iloc[i]['string_X']:\n",
    "        keep_lst.append(i)\n",
    "df = df.iloc[keep_lst]\n",
    "print(df.shape)"
   ]
  },
  {
   "cell_type": "markdown",
   "id": "9a8eb9e6",
   "metadata": {},
   "source": [
    "# 起始結束標註"
   ]
  },
  {
   "cell_type": "code",
   "execution_count": 35,
   "id": "9407abc5",
   "metadata": {},
   "outputs": [
    {
     "data": {
      "text/html": [
       "<div>\n",
       "<style scoped>\n",
       "    .dataframe tbody tr th:only-of-type {\n",
       "        vertical-align: middle;\n",
       "    }\n",
       "\n",
       "    .dataframe tbody tr th {\n",
       "        vertical-align: top;\n",
       "    }\n",
       "\n",
       "    .dataframe thead th {\n",
       "        text-align: right;\n",
       "    }\n",
       "</style>\n",
       "<table border=\"1\" class=\"dataframe\">\n",
       "  <thead>\n",
       "    <tr style=\"text-align: right;\">\n",
       "      <th></th>\n",
       "      <th>string_X</th>\n",
       "      <th>Y_label</th>\n",
       "      <th>string_Y_1</th>\n",
       "      <th>string_Y_2</th>\n",
       "    </tr>\n",
       "  </thead>\n",
       "  <tbody>\n",
       "    <tr>\n",
       "      <th>0</th>\n",
       "      <td>KINGFA SCI AND TECH CO LTDx000DADDRESS NO33 KE...</td>\n",
       "      <td>KINGFA SCI AND TECH CO LTD</td>\n",
       "      <td>0</td>\n",
       "      <td>26</td>\n",
       "    </tr>\n",
       "    <tr>\n",
       "      <th>1</th>\n",
       "      <td>LANDMARK INTL CORPx000DSUITE 310GRIFFITH CORPO...</td>\n",
       "      <td>LANDMARK INTL CORP</td>\n",
       "      <td>0</td>\n",
       "      <td>18</td>\n",
       "    </tr>\n",
       "    <tr>\n",
       "      <th>2</th>\n",
       "      <td>DVA PLASTICS GmbHx000DVALENTINSKAMP 70x000DHAM...</td>\n",
       "      <td>DVA PLASTICS GmbH</td>\n",
       "      <td>0</td>\n",
       "      <td>17</td>\n",
       "    </tr>\n",
       "    <tr>\n",
       "      <th>3</th>\n",
       "      <td>SHANGHAI KINGFA SCI AND TECHx000DDVPT COLTDx00...</td>\n",
       "      <td>SHANGHAI KINGFA SCI AND TECH</td>\n",
       "      <td>0</td>\n",
       "      <td>28</td>\n",
       "    </tr>\n",
       "    <tr>\n",
       "      <th>4</th>\n",
       "      <td>SHANGHAI KINGFA SCI AND TECHx000DDVPT COLTDx00...</td>\n",
       "      <td>SHANGHAI KINGFA SCI AND TECH</td>\n",
       "      <td>0</td>\n",
       "      <td>28</td>\n",
       "    </tr>\n",
       "  </tbody>\n",
       "</table>\n",
       "</div>"
      ],
      "text/plain": [
       "                                            string_X  \\\n",
       "0  KINGFA SCI AND TECH CO LTDx000DADDRESS NO33 KE...   \n",
       "1  LANDMARK INTL CORPx000DSUITE 310GRIFFITH CORPO...   \n",
       "2  DVA PLASTICS GmbHx000DVALENTINSKAMP 70x000DHAM...   \n",
       "3  SHANGHAI KINGFA SCI AND TECHx000DDVPT COLTDx00...   \n",
       "4  SHANGHAI KINGFA SCI AND TECHx000DDVPT COLTDx00...   \n",
       "\n",
       "                        Y_label  string_Y_1  string_Y_2  \n",
       "0    KINGFA SCI AND TECH CO LTD           0          26  \n",
       "1            LANDMARK INTL CORP           0          18  \n",
       "2             DVA PLASTICS GmbH           0          17  \n",
       "3  SHANGHAI KINGFA SCI AND TECH           0          28  \n",
       "4  SHANGHAI KINGFA SCI AND TECH           0          28  "
      ]
     },
     "execution_count": 35,
     "metadata": {},
     "output_type": "execute_result"
    }
   ],
   "source": [
    "def str2index(context,string):\n",
    "    ys = context.find(string)\n",
    "    ye = ys + len(string)\n",
    "    return ys,ye\n",
    "\n",
    "ys_lst = []\n",
    "ye_lst = []\n",
    "for i in range(len(df)):\n",
    "    context= df['string_X'].values[i]\n",
    "    string = df['Y_label'].values[i]\n",
    "    ys,ye = str2index(context,string)\n",
    "    ys_lst.append(ys)\n",
    "    ye_lst.append(ye)\n",
    "df['string_Y_1'] = ys_lst\n",
    "df['string_Y_2'] = ye_lst\n",
    "df.head()"
   ]
  },
  {
   "cell_type": "code",
   "execution_count": 36,
   "id": "9bc7092a",
   "metadata": {},
   "outputs": [
    {
     "name": "stdout",
     "output_type": "stream",
     "text": [
      "(3354, 4)\n"
     ]
    }
   ],
   "source": [
    "print(df.shape)"
   ]
  },
  {
   "cell_type": "code",
   "execution_count": 37,
   "id": "77bcc4e0",
   "metadata": {},
   "outputs": [],
   "source": [
    "df.to_csv('preprocess_for_SQUAD_開狀人.csv')"
   ]
  },
  {
   "cell_type": "code",
   "execution_count": null,
   "id": "461217b5",
   "metadata": {},
   "outputs": [],
   "source": []
  }
 ],
 "metadata": {
  "kernelspec": {
   "display_name": "Python 3 (ipykernel)",
   "language": "python",
   "name": "python3"
  },
  "language_info": {
   "codemirror_mode": {
    "name": "ipython",
    "version": 3
   },
   "file_extension": ".py",
   "mimetype": "text/x-python",
   "name": "python",
   "nbconvert_exporter": "python",
   "pygments_lexer": "ipython3",
   "version": "3.7.4"
  }
 },
 "nbformat": 4,
 "nbformat_minor": 5
}
