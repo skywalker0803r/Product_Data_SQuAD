{
 "cells": [
  {
   "cell_type": "code",
   "execution_count": 1,
   "metadata": {},
   "outputs": [
    {
     "data": {
      "text/plain": [
       "22"
      ]
     },
     "execution_count": 1,
     "metadata": {},
     "output_type": "execute_result"
    }
   ],
   "source": [
    "import pandas as pd\n",
    "import numpy as np\n",
    "from tqdm import tqdm_notebook as tqdm\n",
    "from torch.optim.optimizer import Optimizer\n",
    "import matplotlib.pyplot as plt\n",
    "from copy import deepcopy\n",
    "import numpy as np\n",
    "import random\n",
    "import torch\n",
    "import warnings \n",
    "warnings.filterwarnings('ignore')\n",
    "from pytorch_lightning import seed_everything\n",
    "import os\n",
    "import gc\n",
    "gc.collect()"
   ]
  },
  {
   "cell_type": "markdown",
   "metadata": {},
   "source": [
    "# set_seed(42)"
   ]
  },
  {
   "cell_type": "code",
   "execution_count": 2,
   "metadata": {},
   "outputs": [
    {
     "name": "stderr",
     "output_type": "stream",
     "text": [
      "Global seed set to 42\n"
     ]
    }
   ],
   "source": [
    "def set_seed(seed = int):\n",
    "    '''Sets the seed of the entire notebook so results are the same every time we run.\n",
    "    This is for REPRODUCIBILITY.'''\n",
    "    np.random.seed(seed)\n",
    "    random_state = np.random.RandomState(seed)\n",
    "    random.seed(seed)\n",
    "    torch.manual_seed(seed)\n",
    "    torch.cuda.manual_seed(seed)\n",
    "    torch.backends.cudnn.deterministic = True\n",
    "    torch.backends.cudnn.benchmark = False\n",
    "    os.environ['PYTHONHASHSEED'] = str(seed)\n",
    "    seed_everything(seed)\n",
    "    return random_state\n",
    "random_state = set_seed(42)"
   ]
  },
  {
   "cell_type": "markdown",
   "metadata": {},
   "source": [
    "# MADGRAD"
   ]
  },
  {
   "cell_type": "code",
   "execution_count": 3,
   "metadata": {},
   "outputs": [],
   "source": [
    "import math\n",
    "from typing import TYPE_CHECKING, Any, Callable, Optional\n",
    "\n",
    "if TYPE_CHECKING:\n",
    "    from torch.optim.optimizer import _params_t\n",
    "else:\n",
    "    _params_t = Any\n",
    "\n",
    "class MADGRAD(Optimizer):\n",
    "\n",
    "    def __init__(\n",
    "        self, params: _params_t, lr: float = 1e-2, momentum: float = 0.9, weight_decay: float = 0, eps: float = 1e-6,\n",
    "    ):\n",
    "        if momentum < 0 or momentum >= 1:\n",
    "            raise ValueError(f\"Momentum {momentum} must be in the range [0,1]\")\n",
    "        if lr <= 0:\n",
    "            raise ValueError(f\"Learning rate {lr} must be positive\")\n",
    "        if weight_decay < 0:\n",
    "            raise ValueError(f\"Weight decay {weight_decay} must be non-negative\")\n",
    "        if eps < 0:\n",
    "            raise ValueError(f\"Eps must be non-negative\")\n",
    "\n",
    "        defaults = dict(lr=lr, eps=eps, momentum=momentum, weight_decay=weight_decay)\n",
    "        super().__init__(params, defaults)\n",
    "\n",
    "    @property\n",
    "    def supports_memory_efficient_fp16(self) -> bool:\n",
    "        return False\n",
    "\n",
    "    @property\n",
    "    def supports_flat_params(self) -> bool:\n",
    "        return True\n",
    "\n",
    "    def step(self, closure: Optional[Callable[[], float]] = None) -> Optional[float]:\n",
    "\n",
    "        loss = None\n",
    "        if closure is not None:\n",
    "            loss = closure()\n",
    "\n",
    "        if 'k' not in self.state:\n",
    "            self.state['k'] = torch.tensor([0], dtype=torch.long)\n",
    "        k = self.state['k'].item()\n",
    "\n",
    "        for group in self.param_groups:\n",
    "            eps = group[\"eps\"]\n",
    "            lr = group[\"lr\"] + eps\n",
    "            decay = group[\"weight_decay\"]\n",
    "            momentum = group[\"momentum\"]\n",
    "\n",
    "            ck = 1 - momentum\n",
    "            lamb = lr * math.pow(k + 1, 0.5)\n",
    "\n",
    "            for p in group[\"params\"]:\n",
    "                if p.grad is None:\n",
    "                    continue\n",
    "                grad = p.grad.data\n",
    "                state = self.state[p]\n",
    "\n",
    "                if \"grad_sum_sq\" not in state:\n",
    "                    state[\"grad_sum_sq\"] = torch.zeros_like(p.data).detach()\n",
    "                    state[\"s\"] = torch.zeros_like(p.data).detach()\n",
    "                    if momentum != 0:\n",
    "                        state[\"x0\"] = torch.clone(p.data).detach()\n",
    "\n",
    "                if momentum != 0.0 and grad.is_sparse:\n",
    "                    raise RuntimeError(\"momentum != 0 is not compatible with sparse gradients\")\n",
    "\n",
    "                grad_sum_sq = state[\"grad_sum_sq\"]\n",
    "                s = state[\"s\"]\n",
    "\n",
    "                # Apply weight decay\n",
    "                if decay != 0:\n",
    "                    if grad.is_sparse:\n",
    "                        raise RuntimeError(\"weight_decay option is not compatible with sparse gradients\")\n",
    "\n",
    "                    grad.add_(p.data, alpha=decay)\n",
    "\n",
    "                if grad.is_sparse:\n",
    "                    grad = grad.coalesce()\n",
    "                    grad_val = grad._values()\n",
    "\n",
    "                    p_masked = p.sparse_mask(grad)\n",
    "                    grad_sum_sq_masked = grad_sum_sq.sparse_mask(grad)\n",
    "                    s_masked = s.sparse_mask(grad)\n",
    "\n",
    "                    # Compute x_0 from other known quantities\n",
    "                    rms_masked_vals = grad_sum_sq_masked._values().pow(1 / 3).add_(eps)\n",
    "                    x0_masked_vals = p_masked._values().addcdiv(s_masked._values(), rms_masked_vals, value=1)\n",
    "\n",
    "                    # Dense + sparse op\n",
    "                    grad_sq = grad * grad\n",
    "                    grad_sum_sq.add_(grad_sq, alpha=lamb)\n",
    "                    grad_sum_sq_masked.add_(grad_sq, alpha=lamb)\n",
    "\n",
    "                    rms_masked_vals = grad_sum_sq_masked._values().pow_(1 / 3).add_(eps)\n",
    "\n",
    "                    s.add_(grad, alpha=lamb)\n",
    "                    s_masked._values().add_(grad_val, alpha=lamb)\n",
    "\n",
    "                    # update masked copy of p\n",
    "                    p_kp1_masked_vals = x0_masked_vals.addcdiv(s_masked._values(), rms_masked_vals, value=-1)\n",
    "                    # Copy updated masked p to dense p using an add operation\n",
    "                    p_masked._values().add_(p_kp1_masked_vals, alpha=-1)\n",
    "                    p.data.add_(p_masked, alpha=-1)\n",
    "                else:\n",
    "                    if momentum == 0:\n",
    "                        # Compute x_0 from other known quantities\n",
    "                        rms = grad_sum_sq.pow(1 / 3).add_(eps)\n",
    "                        x0 = p.data.addcdiv(s, rms, value=1)\n",
    "                    else:\n",
    "                        x0 = state[\"x0\"]\n",
    "\n",
    "                    # Accumulate second moments\n",
    "                    grad_sum_sq.addcmul_(grad, grad, value=lamb)\n",
    "                    rms = grad_sum_sq.pow(1 / 3).add_(eps)\n",
    "\n",
    "                    # Update s\n",
    "                    s.data.add_(grad, alpha=lamb)\n",
    "\n",
    "                    # Step\n",
    "                    if momentum == 0:\n",
    "                        p.data.copy_(x0.addcdiv(s, rms, value=-1))\n",
    "                    else:\n",
    "                        z = x0.addcdiv(s, rms, value=-1)\n",
    "\n",
    "                        # p is a moving average of z\n",
    "                        p.data.mul_(1 - ck).add_(z, alpha=ck)\n",
    "\n",
    "\n",
    "        self.state['k'] += 1\n",
    "        return loss"
   ]
  },
  {
   "cell_type": "markdown",
   "metadata": {},
   "source": [
    "# LOAD DATA"
   ]
  },
  {
   "cell_type": "code",
   "execution_count": 4,
   "metadata": {},
   "outputs": [
    {
     "data": {
      "text/plain": [
       "['logs',\n",
       " '電文資料',\n",
       " 'preprocess_for_SQUAD_開狀人.csv',\n",
       " 'Product_Data_summarize(undone).ipynb',\n",
       " 'Product_Data_SQuAD_wordninja.ipynb',\n",
       " 'combined_excel (3).xlsx',\n",
       " '切開狀人.ipynb',\n",
       " 'preprocess_for_SQUAD.csv',\n",
       " 'Product_Data_SQuAD-開狀人.ipynb',\n",
       " 'Train_Product_Data_2021_0114.csv',\n",
       " 'Product_Data_SQuAD_knowledge distillation V2.ipynb',\n",
       " '全部集合.txt.gz',\n",
       " 'ERP資料',\n",
       " 'Product_Data_SQuAD_product.ipynb',\n",
       " 'Product_Data_ner.ipynb',\n",
       " 'submit.csv',\n",
       " 'Collection method-plus-bert.ipynb',\n",
       " 'Product_Data_SQuAD_model_V2.pt',\n",
       " 'EDA.ipynb',\n",
       " '台塑企業_ 產品寶典20210303.xlsx',\n",
       " 'preprocess_for_SQUAD_product.csv',\n",
       " 'Product_Data_SQuAD_model_2144.pt',\n",
       " 'aclImdb',\n",
       " 'preprocess_for_SQUAD_wordninja.csv',\n",
       " 'load_model_and_test-V2.ipynb',\n",
       " '產品集合.txt',\n",
       " 'load_model_and_test.ipynb',\n",
       " '切開狀人.csv',\n",
       " 'preprocess_for_SQUAD_product.ipynb',\n",
       " 'input',\n",
       " 'aclImdb_v1.tar.gz',\n",
       " 'Collection method.ipynb',\n",
       " 'Product_Data_SQuAD_knowledge distillation.ipynb',\n",
       " 'load_model_and_test-抽中間特徵.ipynb',\n",
       " 'Val_Product_Data_2021_0114.csv',\n",
       " 'submit_0726.csv',\n",
       " 'wordninja_words.txt',\n",
       " 'Product_Data_SQuAD_model.pt',\n",
       " 'combined_excel.xlsx',\n",
       " 'results',\n",
       " 'prepare.ipynb',\n",
       " 'squad_finetuning_example.ipynb',\n",
       " '全部集合.txt',\n",
       " 'Product_Data_SQuAD.ipynb',\n",
       " '.ipynb_checkpoints']"
      ]
     },
     "execution_count": 4,
     "metadata": {},
     "output_type": "execute_result"
    }
   ],
   "source": [
    "import os\n",
    "os.listdir()"
   ]
  },
  {
   "cell_type": "code",
   "execution_count": 5,
   "metadata": {},
   "outputs": [
    {
     "name": "stdout",
     "output_type": "stream",
     "text": [
      "(3088, 4)\n"
     ]
    },
    {
     "data": {
      "text/html": [
       "<div>\n",
       "<style scoped>\n",
       "    .dataframe tbody tr th:only-of-type {\n",
       "        vertical-align: middle;\n",
       "    }\n",
       "\n",
       "    .dataframe tbody tr th {\n",
       "        vertical-align: top;\n",
       "    }\n",
       "\n",
       "    .dataframe thead th {\n",
       "        text-align: right;\n",
       "    }\n",
       "</style>\n",
       "<table border=\"1\" class=\"dataframe\">\n",
       "  <thead>\n",
       "    <tr style=\"text-align: right;\">\n",
       "      <th></th>\n",
       "      <th>string_X_train</th>\n",
       "      <th>Y_label</th>\n",
       "      <th>string_Y_1</th>\n",
       "      <th>string_Y_2</th>\n",
       "    </tr>\n",
       "  </thead>\n",
       "  <tbody>\n",
       "    <tr>\n",
       "      <th>2527</th>\n",
       "      <td>COUNTRY OF ORIGIN TAIWAN x 000 D PRICE TERMS C...</td>\n",
       "      <td>VISCOSE STAPLE FIBER</td>\n",
       "      <td>76</td>\n",
       "      <td>96</td>\n",
       "    </tr>\n",
       "    <tr>\n",
       "      <th>2157</th>\n",
       "      <td>1 COMMODITY HDPE TAISOX 9001 x 000 D QUANTITY ...</td>\n",
       "      <td>HDPE TAISOX</td>\n",
       "      <td>12</td>\n",
       "      <td>23</td>\n",
       "    </tr>\n",
       "    <tr>\n",
       "      <th>1213</th>\n",
       "      <td>COMMODITY QUANTITY UNIT PRICE AMOUNT x 000 DEV...</td>\n",
       "      <td>EVA TAISOX</td>\n",
       "      <td>44</td>\n",
       "      <td>54</td>\n",
       "    </tr>\n",
       "    <tr>\n",
       "      <th>1767</th>\n",
       "      <td>1 48000 KGS POLYPROPYLENE HOMOPOLYMER RESIN GR...</td>\n",
       "      <td>POLYPROPYLENE COPOLYMER RESIN</td>\n",
       "      <td>81</td>\n",
       "      <td>110</td>\n",
       "    </tr>\n",
       "    <tr>\n",
       "      <th>1565</th>\n",
       "      <td>TAIRILAC ABS RESINS x 000 D GRADE NOA G 15 AB ...</td>\n",
       "      <td>ABS RESIN</td>\n",
       "      <td>9</td>\n",
       "      <td>18</td>\n",
       "    </tr>\n",
       "    <tr>\n",
       "      <th>...</th>\n",
       "      <td>...</td>\n",
       "      <td>...</td>\n",
       "      <td>...</td>\n",
       "      <td>...</td>\n",
       "    </tr>\n",
       "    <tr>\n",
       "      <th>2955</th>\n",
       "      <td>COMMODITY POLYPROPYLENE RANDOM COPOLYMER RESIN...</td>\n",
       "      <td>POLYPROPYLENE</td>\n",
       "      <td>10</td>\n",
       "      <td>23</td>\n",
       "    </tr>\n",
       "    <tr>\n",
       "      <th>2725</th>\n",
       "      <td>COVERING 100 PERCENT OF INVOICE VALUE OF GOODS...</td>\n",
       "      <td>COVERING</td>\n",
       "      <td>0</td>\n",
       "      <td>8</td>\n",
       "    </tr>\n",
       "    <tr>\n",
       "      <th>1506</th>\n",
       "      <td>POLYPROPYLENE 1250 Dx 000 D QUANTITY 160 MT x ...</td>\n",
       "      <td>POLYPROPYLENE</td>\n",
       "      <td>0</td>\n",
       "      <td>13</td>\n",
       "    </tr>\n",
       "    <tr>\n",
       "      <th>568</th>\n",
       "      <td>POM FORMOCON FM 090 54000 KG NET x 000 D UNIT ...</td>\n",
       "      <td>PACK</td>\n",
       "      <td>94</td>\n",
       "      <td>98</td>\n",
       "    </tr>\n",
       "    <tr>\n",
       "      <th>2401</th>\n",
       "      <td>PVC RESIN S-60 x 000 D 45 MT AT USD 1460 MT x ...</td>\n",
       "      <td>PVC RESIN S-60</td>\n",
       "      <td>0</td>\n",
       "      <td>14</td>\n",
       "    </tr>\n",
       "  </tbody>\n",
       "</table>\n",
       "<p>100 rows × 4 columns</p>\n",
       "</div>"
      ],
      "text/plain": [
       "                                         string_X_train  \\\n",
       "2527  COUNTRY OF ORIGIN TAIWAN x 000 D PRICE TERMS C...   \n",
       "2157  1 COMMODITY HDPE TAISOX 9001 x 000 D QUANTITY ...   \n",
       "1213  COMMODITY QUANTITY UNIT PRICE AMOUNT x 000 DEV...   \n",
       "1767  1 48000 KGS POLYPROPYLENE HOMOPOLYMER RESIN GR...   \n",
       "1565  TAIRILAC ABS RESINS x 000 D GRADE NOA G 15 AB ...   \n",
       "...                                                 ...   \n",
       "2955  COMMODITY POLYPROPYLENE RANDOM COPOLYMER RESIN...   \n",
       "2725  COVERING 100 PERCENT OF INVOICE VALUE OF GOODS...   \n",
       "1506  POLYPROPYLENE 1250 Dx 000 D QUANTITY 160 MT x ...   \n",
       "568   POM FORMOCON FM 090 54000 KG NET x 000 D UNIT ...   \n",
       "2401  PVC RESIN S-60 x 000 D 45 MT AT USD 1460 MT x ...   \n",
       "\n",
       "                            Y_label  string_Y_1  string_Y_2  \n",
       "2527           VISCOSE STAPLE FIBER          76          96  \n",
       "2157                    HDPE TAISOX          12          23  \n",
       "1213                     EVA TAISOX          44          54  \n",
       "1767  POLYPROPYLENE COPOLYMER RESIN          81         110  \n",
       "1565                      ABS RESIN           9          18  \n",
       "...                             ...         ...         ...  \n",
       "2955                  POLYPROPYLENE          10          23  \n",
       "2725                       COVERING           0           8  \n",
       "1506                  POLYPROPYLENE           0          13  \n",
       "568                            PACK          94          98  \n",
       "2401                 PVC RESIN S-60           0          14  \n",
       "\n",
       "[100 rows x 4 columns]"
      ]
     },
     "metadata": {},
     "output_type": "display_data"
    },
    {
     "data": {
      "text/html": [
       "<div>\n",
       "<style scoped>\n",
       "    .dataframe tbody tr th:only-of-type {\n",
       "        vertical-align: middle;\n",
       "    }\n",
       "\n",
       "    .dataframe tbody tr th {\n",
       "        vertical-align: top;\n",
       "    }\n",
       "\n",
       "    .dataframe thead th {\n",
       "        text-align: right;\n",
       "    }\n",
       "</style>\n",
       "<table border=\"1\" class=\"dataframe\">\n",
       "  <thead>\n",
       "    <tr style=\"text-align: right;\">\n",
       "      <th></th>\n",
       "      <th>string_X_train</th>\n",
       "      <th>Y_label</th>\n",
       "      <th>string_Y_1</th>\n",
       "      <th>string_Y_2</th>\n",
       "    </tr>\n",
       "  </thead>\n",
       "  <tbody>\n",
       "    <tr>\n",
       "      <th>3024</th>\n",
       "      <td>EVA TAISOX 7240 M CI F PORT KLANG MALAYSIA</td>\n",
       "      <td>EVA TAISOX</td>\n",
       "      <td>0</td>\n",
       "      <td>10</td>\n",
       "    </tr>\n",
       "    <tr>\n",
       "      <th>1805</th>\n",
       "      <td>GLASS EPOXY COPPER CLAD LAMINATE SHEET AS PER ...</td>\n",
       "      <td>COPPER CLAD LAMINATE</td>\n",
       "      <td>12</td>\n",
       "      <td>32</td>\n",
       "    </tr>\n",
       "    <tr>\n",
       "      <th>2698</th>\n",
       "      <td>3200 MT OF HIPS RESIN GRADE NO HP9450 x 000 DA...</td>\n",
       "      <td>HIPS RESIN</td>\n",
       "      <td>11</td>\n",
       "      <td>21</td>\n",
       "    </tr>\n",
       "    <tr>\n",
       "      <th>2551</th>\n",
       "      <td>PLASTIC RESIN C IP SHENZHEN CHINA x 000 D 1 1 ...</td>\n",
       "      <td>PLASTIC RESIN</td>\n",
       "      <td>0</td>\n",
       "      <td>13</td>\n",
       "    </tr>\n",
       "    <tr>\n",
       "      <th>2490</th>\n",
       "      <td>3000 KGS OF PROCESSING AID P - 201 x 000 D 300...</td>\n",
       "      <td>PE</td>\n",
       "      <td>135</td>\n",
       "      <td>137</td>\n",
       "    </tr>\n",
       "    <tr>\n",
       "      <th>...</th>\n",
       "      <td>...</td>\n",
       "      <td>...</td>\n",
       "      <td>...</td>\n",
       "      <td>...</td>\n",
       "    </tr>\n",
       "    <tr>\n",
       "      <th>1536</th>\n",
       "      <td>TERMS OF PRICE CFR CAL LAO PER Ux 000 D COUNTR...</td>\n",
       "      <td>MALEIC ANHYDRIDE</td>\n",
       "      <td>73</td>\n",
       "      <td>89</td>\n",
       "    </tr>\n",
       "    <tr>\n",
       "      <th>485</th>\n",
       "      <td>36 METRIC TON PVC SUSPENSION RESIN S65D IN 25 ...</td>\n",
       "      <td>PVC SUSPENSION RESIN</td>\n",
       "      <td>14</td>\n",
       "      <td>34</td>\n",
       "    </tr>\n",
       "    <tr>\n",
       "      <th>3066</th>\n",
       "      <td>METHYL TETRA HYDRO PHTHALIC ANHYDRIDE x 000 D ...</td>\n",
       "      <td>EVA</td>\n",
       "      <td>171</td>\n",
       "      <td>174</td>\n",
       "    </tr>\n",
       "    <tr>\n",
       "      <th>1080</th>\n",
       "      <td>CFR KARACHI SEAPORT x 000 D QT Y 18 MT TAIRILA...</td>\n",
       "      <td>ABS RESIN</td>\n",
       "      <td>48</td>\n",
       "      <td>57</td>\n",
       "    </tr>\n",
       "    <tr>\n",
       "      <th>423</th>\n",
       "      <td>COVERING SHIPMENT OF 128 MTS OF ACETONITRILE A...</td>\n",
       "      <td>ACETONITRILE</td>\n",
       "      <td>32</td>\n",
       "      <td>44</td>\n",
       "    </tr>\n",
       "  </tbody>\n",
       "</table>\n",
       "<p>100 rows × 4 columns</p>\n",
       "</div>"
      ],
      "text/plain": [
       "                                         string_X_train               Y_label  \\\n",
       "3024         EVA TAISOX 7240 M CI F PORT KLANG MALAYSIA            EVA TAISOX   \n",
       "1805  GLASS EPOXY COPPER CLAD LAMINATE SHEET AS PER ...  COPPER CLAD LAMINATE   \n",
       "2698  3200 MT OF HIPS RESIN GRADE NO HP9450 x 000 DA...            HIPS RESIN   \n",
       "2551  PLASTIC RESIN C IP SHENZHEN CHINA x 000 D 1 1 ...         PLASTIC RESIN   \n",
       "2490  3000 KGS OF PROCESSING AID P - 201 x 000 D 300...                    PE   \n",
       "...                                                 ...                   ...   \n",
       "1536  TERMS OF PRICE CFR CAL LAO PER Ux 000 D COUNTR...      MALEIC ANHYDRIDE   \n",
       "485   36 METRIC TON PVC SUSPENSION RESIN S65D IN 25 ...  PVC SUSPENSION RESIN   \n",
       "3066  METHYL TETRA HYDRO PHTHALIC ANHYDRIDE x 000 D ...                   EVA   \n",
       "1080  CFR KARACHI SEAPORT x 000 D QT Y 18 MT TAIRILA...             ABS RESIN   \n",
       "423   COVERING SHIPMENT OF 128 MTS OF ACETONITRILE A...          ACETONITRILE   \n",
       "\n",
       "      string_Y_1  string_Y_2  \n",
       "3024           0          10  \n",
       "1805          12          32  \n",
       "2698          11          21  \n",
       "2551           0          13  \n",
       "2490         135         137  \n",
       "...          ...         ...  \n",
       "1536          73          89  \n",
       "485           14          34  \n",
       "3066         171         174  \n",
       "1080          48          57  \n",
       "423           32          44  \n",
       "\n",
       "[100 rows x 4 columns]"
      ]
     },
     "metadata": {},
     "output_type": "display_data"
    }
   ],
   "source": [
    "from sklearn.model_selection import train_test_split\n",
    "df = pd.read_csv('preprocess_for_SQUAD_product.csv',index_col=0)[['45A','Y_label','string_Y_1','string_Y_2']].dropna(axis=0)\n",
    "df.iloc[:,-2:] = df.iloc[:,-2:].astype(int)\n",
    "df = df.dropna(axis=0)\n",
    "df = df.reset_index(drop=True)\n",
    "df = df.rename(columns={'45A':'string_X_train'})\n",
    "print(df.shape)\n",
    "train_df, val_df = train_test_split(df,test_size=0.1,random_state=42)\n",
    "display(train_df.head(100))\n",
    "display(val_df.head(100))"
   ]
  },
  {
   "cell_type": "code",
   "execution_count": 6,
   "metadata": {},
   "outputs": [
    {
     "data": {
      "application/vnd.jupyter.widget-view+json": {
       "model_id": "6766ded9b52040c48246e3aee9ce7a1b",
       "version_major": 2,
       "version_minor": 0
      },
      "text/plain": [
       "  0%|          | 0/3088 [00:00<?, ?it/s]"
      ]
     },
     "metadata": {},
     "output_type": "display_data"
    }
   ],
   "source": [
    "for i in tqdm(range(len(df))):\n",
    "    assert df['Y_label'].values[i] in df['string_X_train'].values[i]"
   ]
  },
  {
   "cell_type": "markdown",
   "metadata": {},
   "source": [
    "# Model and Tokenizer Initialization"
   ]
  },
  {
   "cell_type": "code",
   "execution_count": 7,
   "metadata": {},
   "outputs": [
    {
     "name": "stderr",
     "output_type": "stream",
     "text": [
      "Some weights of the model checkpoint at distilbert-base-uncased were not used when initializing DistilBertForQuestionAnswering: ['vocab_projector.weight', 'vocab_layer_norm.bias', 'vocab_transform.bias', 'vocab_layer_norm.weight', 'vocab_projector.bias', 'vocab_transform.weight']\n",
      "- This IS expected if you are initializing DistilBertForQuestionAnswering from the checkpoint of a model trained on another task or with another architecture (e.g. initializing a BertForSequenceClassification model from a BertForPreTraining model).\n",
      "- This IS NOT expected if you are initializing DistilBertForQuestionAnswering from the checkpoint of a model that you expect to be exactly identical (initializing a BertForSequenceClassification model from a BertForSequenceClassification model).\n",
      "Some weights of DistilBertForQuestionAnswering were not initialized from the model checkpoint at distilbert-base-uncased and are newly initialized: ['qa_outputs.bias', 'qa_outputs.weight']\n",
      "You should probably TRAIN this model on a down-stream task to be able to use it for predictions and inference.\n"
     ]
    },
    {
     "data": {
      "text/plain": [
       "248"
      ]
     },
     "execution_count": 7,
     "metadata": {},
     "output_type": "execute_result"
    }
   ],
   "source": [
    "from transformers import DistilBertTokenizerFast\n",
    "from transformers import DistilBertForQuestionAnswering\n",
    "\n",
    "tokenizer = DistilBertTokenizerFast.from_pretrained('distilbert-base-uncased')\n",
    "model = DistilBertForQuestionAnswering.from_pretrained(\"distilbert-base-uncased\")\n",
    "gc.collect()"
   ]
  },
  {
   "cell_type": "markdown",
   "metadata": {},
   "source": [
    "# Data preprocessing"
   ]
  },
  {
   "cell_type": "code",
   "execution_count": 8,
   "metadata": {},
   "outputs": [
    {
     "data": {
      "text/plain": [
       "0"
      ]
     },
     "execution_count": 8,
     "metadata": {},
     "output_type": "execute_result"
    }
   ],
   "source": [
    "def preprocessing(df):\n",
    "    contexts = df['string_X_train'].values.tolist()\n",
    "    questions = [ 'What is the product name?' for i in range(len(df))]\n",
    "    answers = []\n",
    "    for idx in df.index:\n",
    "        answers.append({\n",
    "            'text':df.loc[idx,'Y_label'],\n",
    "            'answer_start':df.loc[idx,'string_Y_1'],\n",
    "            'answer_end':df.loc[idx,'string_Y_2'],\n",
    "            })\n",
    "    return contexts ,questions ,answers\n",
    "\n",
    "train_contexts ,train_questions ,train_answers = preprocessing(train_df)\n",
    "val_contexts ,val_questions ,val_answers = preprocessing(val_df)\n",
    "gc.collect()"
   ]
  },
  {
   "cell_type": "markdown",
   "metadata": {},
   "source": [
    "# tokenize our context/question pairs"
   ]
  },
  {
   "cell_type": "code",
   "execution_count": 9,
   "metadata": {},
   "outputs": [
    {
     "data": {
      "text/plain": [
       "0"
      ]
     },
     "execution_count": 9,
     "metadata": {},
     "output_type": "execute_result"
    }
   ],
   "source": [
    "train_encodings = tokenizer(train_contexts, train_questions, truncation=True, padding=True)\n",
    "val_encodings = tokenizer(val_contexts, val_questions, truncation=True, padding=True)\n",
    "gc.collect()"
   ]
  },
  {
   "cell_type": "markdown",
   "metadata": {},
   "source": [
    "# add_token_positions"
   ]
  },
  {
   "cell_type": "code",
   "execution_count": 10,
   "metadata": {},
   "outputs": [
    {
     "data": {
      "text/plain": [
       "21"
      ]
     },
     "execution_count": 10,
     "metadata": {},
     "output_type": "execute_result"
    }
   ],
   "source": [
    "def add_token_positions(encodings, answers):\n",
    "    start_positions = []\n",
    "    end_positions = []\n",
    "    for i in range(len(answers)):\n",
    "        start_positions.append(encodings.char_to_token(i, answers[i]['answer_start']))\n",
    "        end_positions.append(encodings.char_to_token(i, answers[i]['answer_end'] - 1))\n",
    "\n",
    "        # if start position is None, the answer passage has been truncated\n",
    "        if start_positions[-1] is None:\n",
    "            start_positions[-1] = tokenizer.model_max_length\n",
    "        if end_positions[-1] is None:\n",
    "            end_positions[-1] = tokenizer.model_max_length\n",
    "\n",
    "    encodings.update({'start_positions': start_positions, 'end_positions': end_positions})\n",
    "\n",
    "add_token_positions(train_encodings, train_answers)\n",
    "add_token_positions(val_encodings, val_answers)\n",
    "gc.collect()"
   ]
  },
  {
   "cell_type": "markdown",
   "metadata": {},
   "source": [
    "# data is ready put it in a PyTorch dataset"
   ]
  },
  {
   "cell_type": "code",
   "execution_count": 11,
   "metadata": {},
   "outputs": [
    {
     "data": {
      "text/plain": [
       "21"
      ]
     },
     "execution_count": 11,
     "metadata": {},
     "output_type": "execute_result"
    }
   ],
   "source": [
    "import torch\n",
    "\n",
    "class SquadDataset(torch.utils.data.Dataset):\n",
    "    def __init__(self, encodings):\n",
    "        self.encodings = encodings\n",
    "\n",
    "    def __getitem__(self, idx):\n",
    "        return {key: torch.tensor(val[idx]) for key, val in self.encodings.items()}\n",
    "\n",
    "    def __len__(self):\n",
    "        return len(self.encodings.input_ids)\n",
    "\n",
    "train_dataset = SquadDataset(train_encodings)\n",
    "val_dataset = SquadDataset(val_encodings)\n",
    "gc.collect()"
   ]
  },
  {
   "cell_type": "markdown",
   "metadata": {},
   "source": [
    "# train loop"
   ]
  },
  {
   "cell_type": "code",
   "execution_count": 12,
   "metadata": {},
   "outputs": [
    {
     "name": "stdout",
     "output_type": "stream",
     "text": [
      "cuda\n"
     ]
    }
   ],
   "source": [
    "from torch.utils.data import DataLoader\n",
    "\n",
    "device = torch.device('cuda') if torch.cuda.is_available() else torch.device('cpu')\n",
    "print(device)\n",
    "model.to(device)\n",
    "model.train()\n",
    "train_loader = DataLoader(train_dataset, batch_size = 16, shuffle=True ,num_workers=4)\n",
    "val_loader = DataLoader(val_dataset, batch_size = 16, shuffle=True ,num_workers=4)\n",
    "optimizer = MADGRAD(model.parameters(),lr=5e-5)\n",
    "gc.collect()\n",
    "\n",
    "def train_step(model,batch,optimizer):\n",
    "    model = model.to(device)\n",
    "    model.train()\n",
    "    # forward\n",
    "    input_ids = batch['input_ids'].to(device)\n",
    "    attention_mask = batch['attention_mask'].to(device)\n",
    "    start_positions = batch['start_positions'].to(device)\n",
    "    end_positions = batch['end_positions'].to(device)\n",
    "    outputs = model(input_ids, attention_mask=attention_mask, start_positions=start_positions, end_positions=end_positions)\n",
    "    loss = outputs[0]\n",
    "    \n",
    "    # update model\n",
    "    loss.backward()\n",
    "    optimizer.step()\n",
    "    optimizer.zero_grad()\n",
    "    \n",
    "    gc.collect()\n",
    "    return loss.item()\n",
    "\n",
    "def val_step(model,batch,optimizer):\n",
    "    model = model.to(device)\n",
    "    model.eval()\n",
    "    # forward\n",
    "    input_ids = batch['input_ids'].to(device)\n",
    "    attention_mask = batch['attention_mask'].to(device)\n",
    "    start_positions = batch['start_positions'].to(device)\n",
    "    end_positions = batch['end_positions'].to(device)\n",
    "    outputs = model(input_ids, attention_mask=attention_mask, start_positions=start_positions, end_positions=end_positions)\n",
    "    loss = outputs[0]\n",
    "    \n",
    "    gc.collect()\n",
    "    return loss.item()\n",
    "\n",
    "def train_loop(model,train_loader,val_loader,optimizer,max_epochs=5,patience=3):\n",
    "    history = {'train_loss':[],'val_loss':[]}\n",
    "    best_loss = np.inf\n",
    "    best_model = None\n",
    "    not_improve_count = 0\n",
    "    for epoch in tqdm(range(max_epochs)):    \n",
    "        # reset this epoch loss equal to zero\n",
    "        epoch_train_loss = 0.0\n",
    "        epoch_val_loss = 0.0\n",
    "\n",
    "        # train one epoch and get train_loss\n",
    "        for i,batch in enumerate(tqdm(train_loader)):\n",
    "            epoch_train_loss += train_step(model,batch,optimizer)\n",
    "\n",
    "        # val one epoch and get val_loss\n",
    "        for j,batch in enumerate(tqdm(val_loader)):\n",
    "            epoch_val_loss += val_step(model,batch,optimizer)\n",
    "\n",
    "        # record loss history\n",
    "        history['train_loss'].append(epoch_train_loss/i)\n",
    "        history['val_loss'].append(epoch_val_loss/j)\n",
    "\n",
    "        # print this epoch's infomation\n",
    "        print(f'epoch:{epoch} train_loss:{epoch_train_loss/i} val_loss:{epoch_val_loss/j}')\n",
    "\n",
    "        # save best_model (if current val_loss <= best_loss)\n",
    "        if history['val_loss'][-1] <= best_loss: \n",
    "            best_model = deepcopy(model.eval())\n",
    "            best_loss = history['val_loss'][-1]\n",
    "            print(f'save best_model now_val_best_loss is:{best_loss}')\n",
    "\n",
    "        if history['val_loss'][-1] > best_loss:\n",
    "            not_improve_count += 1\n",
    "            print(f'not_improve_count:{not_improve_count}')\n",
    "            if not_improve_count > patience:\n",
    "                print('early_stoping')\n",
    "                break\n",
    "\n",
    "    # GET best_model.eval()\n",
    "    model = best_model.eval()\n",
    "    return model,history"
   ]
  },
  {
   "cell_type": "code",
   "execution_count": 13,
   "metadata": {},
   "outputs": [
    {
     "data": {
      "application/vnd.jupyter.widget-view+json": {
       "model_id": "4d9a32726a014d78b63c89c0a97001c3",
       "version_major": 2,
       "version_minor": 0
      },
      "text/plain": [
       "  0%|          | 0/5 [00:00<?, ?it/s]"
      ]
     },
     "metadata": {},
     "output_type": "display_data"
    },
    {
     "data": {
      "application/vnd.jupyter.widget-view+json": {
       "model_id": "44bcf6c6a83f4b879a205f6240367204",
       "version_major": 2,
       "version_minor": 0
      },
      "text/plain": [
       "  0%|          | 0/174 [00:00<?, ?it/s]"
      ]
     },
     "metadata": {},
     "output_type": "display_data"
    },
    {
     "data": {
      "application/vnd.jupyter.widget-view+json": {
       "model_id": "a6405fe29c614e6bae8099741799fd1a",
       "version_major": 2,
       "version_minor": 0
      },
      "text/plain": [
       "  0%|          | 0/20 [00:00<?, ?it/s]"
      ]
     },
     "metadata": {},
     "output_type": "display_data"
    },
    {
     "name": "stdout",
     "output_type": "stream",
     "text": [
      "epoch:0 train_loss:1.0780919282939392 val_loss:0.4188173272107777\n",
      "save best_model now_val_best_loss is:0.4188173272107777\n"
     ]
    },
    {
     "data": {
      "application/vnd.jupyter.widget-view+json": {
       "model_id": "3c285fb0b4544da8ad7fc67cf3d62768",
       "version_major": 2,
       "version_minor": 0
      },
      "text/plain": [
       "  0%|          | 0/174 [00:00<?, ?it/s]"
      ]
     },
     "metadata": {},
     "output_type": "display_data"
    },
    {
     "data": {
      "application/vnd.jupyter.widget-view+json": {
       "model_id": "1997c8f4faa645939b73ae5ccd2315ce",
       "version_major": 2,
       "version_minor": 0
      },
      "text/plain": [
       "  0%|          | 0/20 [00:00<?, ?it/s]"
      ]
     },
     "metadata": {},
     "output_type": "display_data"
    },
    {
     "name": "stdout",
     "output_type": "stream",
     "text": [
      "epoch:1 train_loss:0.37891150571707355 val_loss:0.25646080253155606\n",
      "save best_model now_val_best_loss is:0.25646080253155606\n"
     ]
    },
    {
     "data": {
      "application/vnd.jupyter.widget-view+json": {
       "model_id": "dd260a870c5b4cf6b6b3a7a52661be0e",
       "version_major": 2,
       "version_minor": 0
      },
      "text/plain": [
       "  0%|          | 0/174 [00:00<?, ?it/s]"
      ]
     },
     "metadata": {},
     "output_type": "display_data"
    },
    {
     "data": {
      "application/vnd.jupyter.widget-view+json": {
       "model_id": "e6d0521db9f24257b78ab65affe7973d",
       "version_major": 2,
       "version_minor": 0
      },
      "text/plain": [
       "  0%|          | 0/20 [00:00<?, ?it/s]"
      ]
     },
     "metadata": {},
     "output_type": "display_data"
    },
    {
     "name": "stdout",
     "output_type": "stream",
     "text": [
      "epoch:2 train_loss:0.374751208080894 val_loss:0.28624807709926053\n",
      "not_improve_count:1\n"
     ]
    },
    {
     "data": {
      "application/vnd.jupyter.widget-view+json": {
       "model_id": "fa1220382d014d719d540e233e43ffb7",
       "version_major": 2,
       "version_minor": 0
      },
      "text/plain": [
       "  0%|          | 0/174 [00:00<?, ?it/s]"
      ]
     },
     "metadata": {},
     "output_type": "display_data"
    },
    {
     "data": {
      "application/vnd.jupyter.widget-view+json": {
       "model_id": "873aa7cc42e54484a14035096382537e",
       "version_major": 2,
       "version_minor": 0
      },
      "text/plain": [
       "  0%|          | 0/20 [00:00<?, ?it/s]"
      ]
     },
     "metadata": {},
     "output_type": "display_data"
    },
    {
     "name": "stdout",
     "output_type": "stream",
     "text": [
      "epoch:3 train_loss:0.28940104438002745 val_loss:0.26945539818782555\n",
      "not_improve_count:2\n"
     ]
    },
    {
     "data": {
      "application/vnd.jupyter.widget-view+json": {
       "model_id": "7903b9cccd124bd6a696357dd4ae11c7",
       "version_major": 2,
       "version_minor": 0
      },
      "text/plain": [
       "  0%|          | 0/174 [00:00<?, ?it/s]"
      ]
     },
     "metadata": {},
     "output_type": "display_data"
    },
    {
     "data": {
      "application/vnd.jupyter.widget-view+json": {
       "model_id": "fa2e89663f294cfe8ca7a3a0737669a8",
       "version_major": 2,
       "version_minor": 0
      },
      "text/plain": [
       "  0%|          | 0/20 [00:00<?, ?it/s]"
      ]
     },
     "metadata": {},
     "output_type": "display_data"
    },
    {
     "name": "stdout",
     "output_type": "stream",
     "text": [
      "epoch:4 train_loss:0.20934303184551312 val_loss:0.1919914770283197\n",
      "save best_model now_val_best_loss is:0.1919914770283197\n"
     ]
    }
   ],
   "source": [
    "import os\n",
    "os.environ[\"TOKENIZERS_PARALLELISM\"] = \"false\"\n",
    "model,history = train_loop(model,train_loader,val_loader,optimizer,max_epochs=5,patience=3)"
   ]
  },
  {
   "cell_type": "markdown",
   "metadata": {},
   "source": [
    "# loss curve"
   ]
  },
  {
   "cell_type": "code",
   "execution_count": 21,
   "metadata": {},
   "outputs": [
    {
     "data": {
      "image/png": "[encoded data removed]",
      "text/plain": [
       "<Figure size 432x288 with 1 Axes>"
      ]
     },
     "metadata": {
      "needs_background": "light"
     },
     "output_type": "display_data"
    }
   ],
   "source": [
    "plt.plot(history['train_loss'],label='train')\n",
    "plt.plot(history['val_loss'],label='val')\n",
    "plt.legend()\n",
    "plt.show()"
   ]
  },
  {
   "cell_type": "markdown",
   "metadata": {},
   "source": [
    "# question-answering pipeline"
   ]
  },
  {
   "cell_type": "code",
   "execution_count": 22,
   "metadata": {},
   "outputs": [],
   "source": [
    "from transformers import pipeline\n",
    "nlp = pipeline('question-answering', model=model.to('cpu'), tokenizer=tokenizer)"
   ]
  },
  {
   "cell_type": "markdown",
   "metadata": {},
   "source": [
    "# test"
   ]
  },
  {
   "cell_type": "code",
   "execution_count": 23,
   "metadata": {},
   "outputs": [],
   "source": [
    "def test_model(df):\n",
    "    table = pd.DataFrame()\n",
    "    for i in tqdm(df.index):\n",
    "        sample = df.loc[[i]]\n",
    "        string_X_train = sample['string_X_train'].values[0]\n",
    "        string_Y_1 = sample['string_Y_1'].values[0]\n",
    "        string_Y_2 = sample['string_Y_2'].values[0]\n",
    "        QA_input = {\n",
    "            'question': 'What is the product name?',\n",
    "            'context': string_X_train\n",
    "        }\n",
    "        res = nlp(QA_input)\n",
    "        predict = QA_input['context'][res['start']:res['end']]\n",
    "        row = pd.DataFrame({\n",
    "            'label':string_X_train[string_Y_1:string_Y_2],\n",
    "            'predict:':predict},index=[i])\n",
    "        if string_X_train[string_Y_1:string_Y_2] == predict:\n",
    "            row['是否全對'] = 'Yes'\n",
    "        else:\n",
    "            row['是否全對'] = 'No'\n",
    "        table = table.append(row)\n",
    "        i += 1\n",
    "    return table"
   ]
  },
  {
   "cell_type": "markdown",
   "metadata": {},
   "source": [
    "# 最後讓我們來看看模型在驗證集上的表現"
   ]
  },
  {
   "cell_type": "code",
   "execution_count": 52,
   "metadata": {},
   "outputs": [
    {
     "data": {
      "application/vnd.jupyter.widget-view+json": {
       "model_id": "3771112d5f904766becca3702d2e3ca6",
       "version_major": 2,
       "version_minor": 0
      },
      "text/plain": [
       "  0%|          | 0/50 [00:00<?, ?it/s]"
      ]
     },
     "metadata": {},
     "output_type": "display_data"
    },
    {
     "data": {
      "text/html": [
       "<div>\n",
       "<style scoped>\n",
       "    .dataframe tbody tr th:only-of-type {\n",
       "        vertical-align: middle;\n",
       "    }\n",
       "\n",
       "    .dataframe tbody tr th {\n",
       "        vertical-align: top;\n",
       "    }\n",
       "\n",
       "    .dataframe thead th {\n",
       "        text-align: right;\n",
       "    }\n",
       "</style>\n",
       "<table border=\"1\" class=\"dataframe\">\n",
       "  <thead>\n",
       "    <tr style=\"text-align: right;\">\n",
       "      <th></th>\n",
       "      <th>label</th>\n",
       "      <th>predict:</th>\n",
       "      <th>是否全對</th>\n",
       "    </tr>\n",
       "  </thead>\n",
       "  <tbody>\n",
       "    <tr>\n",
       "      <th>45</th>\n",
       "      <td>BASE OIL 500N</td>\n",
       "      <td>BASE OIL 500N</td>\n",
       "      <td>Yes</td>\n",
       "    </tr>\n",
       "    <tr>\n",
       "      <th>2204</th>\n",
       "      <td>HDPE</td>\n",
       "      <td>HDPE</td>\n",
       "      <td>Yes</td>\n",
       "    </tr>\n",
       "    <tr>\n",
       "      <th>1374</th>\n",
       "      <td>METHYL METHACRYLATE</td>\n",
       "      <td>METHYL METHACRYLATE</td>\n",
       "      <td>Yes</td>\n",
       "    </tr>\n",
       "    <tr>\n",
       "      <th>1264</th>\n",
       "      <td>ACRYLONITRILE BUTADIENE STYRENE</td>\n",
       "      <td>ACRYLONITRILE BUTADIENE STYRENE</td>\n",
       "      <td>Yes</td>\n",
       "    </tr>\n",
       "    <tr>\n",
       "      <th>139</th>\n",
       "      <td>PVC RESIN</td>\n",
       "      <td>PVC RESIN</td>\n",
       "      <td>Yes</td>\n",
       "    </tr>\n",
       "    <tr>\n",
       "      <th>1675</th>\n",
       "      <td>PE</td>\n",
       "      <td>PER</td>\n",
       "      <td>No</td>\n",
       "    </tr>\n",
       "    <tr>\n",
       "      <th>457</th>\n",
       "      <td>EVA-7360M</td>\n",
       "      <td>EVA-7360M</td>\n",
       "      <td>Yes</td>\n",
       "    </tr>\n",
       "    <tr>\n",
       "      <th>555</th>\n",
       "      <td>HDPE TAISOX</td>\n",
       "      <td>HDPE TAISOX</td>\n",
       "      <td>Yes</td>\n",
       "    </tr>\n",
       "    <tr>\n",
       "      <th>218</th>\n",
       "      <td>PVC SUSPENSION RESIN</td>\n",
       "      <td>PVC SUSPENSION RESIN</td>\n",
       "      <td>Yes</td>\n",
       "    </tr>\n",
       "    <tr>\n",
       "      <th>449</th>\n",
       "      <td>BASE OIL 150N</td>\n",
       "      <td>BASE OIL 150N</td>\n",
       "      <td>Yes</td>\n",
       "    </tr>\n",
       "    <tr>\n",
       "      <th>1465</th>\n",
       "      <td>MALEIC ANHYDRIDE</td>\n",
       "      <td>MALEIC ANHYDRIDE</td>\n",
       "      <td>Yes</td>\n",
       "    </tr>\n",
       "    <tr>\n",
       "      <th>2946</th>\n",
       "      <td>POLYPROPYLENE</td>\n",
       "      <td>POLYPROPYLENE</td>\n",
       "      <td>Yes</td>\n",
       "    </tr>\n",
       "    <tr>\n",
       "      <th>2593</th>\n",
       "      <td>PURIFIED ISOPHTHALIC ACID PIA</td>\n",
       "      <td>ISOPHTHALIC ACID PIA</td>\n",
       "      <td>No</td>\n",
       "    </tr>\n",
       "    <tr>\n",
       "      <th>2229</th>\n",
       "      <td>ETHYLENE</td>\n",
       "      <td>MONOETHYLENE GLYCOL MEG</td>\n",
       "      <td>No</td>\n",
       "    </tr>\n",
       "    <tr>\n",
       "      <th>2849</th>\n",
       "      <td>EPOXY RESIN</td>\n",
       "      <td>EPOXY RESIN</td>\n",
       "      <td>Yes</td>\n",
       "    </tr>\n",
       "    <tr>\n",
       "      <th>479</th>\n",
       "      <td>PVC SUSPENSION RESIN</td>\n",
       "      <td>PVC SUSPENSION RESIN</td>\n",
       "      <td>Yes</td>\n",
       "    </tr>\n",
       "    <tr>\n",
       "      <th>819</th>\n",
       "      <td>POLYPROPYLENE</td>\n",
       "      <td>POLYPROPYLENE RESIN K 1035 AND 12 MT OF PROPYLENE</td>\n",
       "      <td>No</td>\n",
       "    </tr>\n",
       "    <tr>\n",
       "      <th>554</th>\n",
       "      <td>HDPE TAISOX</td>\n",
       "      <td>HDPE TAISOX</td>\n",
       "      <td>Yes</td>\n",
       "    </tr>\n",
       "    <tr>\n",
       "      <th>2644</th>\n",
       "      <td>PP RESIN</td>\n",
       "      <td>DPP RESIN</td>\n",
       "      <td>No</td>\n",
       "    </tr>\n",
       "    <tr>\n",
       "      <th>2993</th>\n",
       "      <td>PA66</td>\n",
       "      <td>PA66</td>\n",
       "      <td>Yes</td>\n",
       "    </tr>\n",
       "    <tr>\n",
       "      <th>256</th>\n",
       "      <td>EVA TAISOX 7350</td>\n",
       "      <td>EVA TAISOX 7350</td>\n",
       "      <td>Yes</td>\n",
       "    </tr>\n",
       "    <tr>\n",
       "      <th>761</th>\n",
       "      <td>HIPS RESIN</td>\n",
       "      <td>HIPS RESIN</td>\n",
       "      <td>Yes</td>\n",
       "    </tr>\n",
       "    <tr>\n",
       "      <th>2210</th>\n",
       "      <td>TAIRIREX POLYSTYRENE</td>\n",
       "      <td>TAIRIREX POLYSTYRENE GRADE GP5500</td>\n",
       "      <td>No</td>\n",
       "    </tr>\n",
       "    <tr>\n",
       "      <th>174</th>\n",
       "      <td>GASOIL</td>\n",
       "      <td>GASOIL</td>\n",
       "      <td>Yes</td>\n",
       "    </tr>\n",
       "    <tr>\n",
       "      <th>1113</th>\n",
       "      <td>MALEIC ANHYDRIDE</td>\n",
       "      <td>MALEIC ANHYDRIDE</td>\n",
       "      <td>Yes</td>\n",
       "    </tr>\n",
       "    <tr>\n",
       "      <th>63</th>\n",
       "      <td>BASE OIL 500N</td>\n",
       "      <td>BASE OIL 500N</td>\n",
       "      <td>Yes</td>\n",
       "    </tr>\n",
       "    <tr>\n",
       "      <th>1760</th>\n",
       "      <td>ACETONITRILE</td>\n",
       "      <td>ACETONITRILE</td>\n",
       "      <td>Yes</td>\n",
       "    </tr>\n",
       "    <tr>\n",
       "      <th>184</th>\n",
       "      <td>BASE OIL</td>\n",
       "      <td>BASE OIL</td>\n",
       "      <td>Yes</td>\n",
       "    </tr>\n",
       "    <tr>\n",
       "      <th>144</th>\n",
       "      <td>PVC SUSPENSION RESIN</td>\n",
       "      <td>PVC SUSPENSION RESIN</td>\n",
       "      <td>Yes</td>\n",
       "    </tr>\n",
       "    <tr>\n",
       "      <th>1114</th>\n",
       "      <td>TETRAHYDROFURAN</td>\n",
       "      <td>TETRAHYDROFURAN</td>\n",
       "      <td>Yes</td>\n",
       "    </tr>\n",
       "    <tr>\n",
       "      <th>1378</th>\n",
       "      <td>DEG DIETHYLENE GLYCOL</td>\n",
       "      <td>DEG DIETHYLENE GLYCOL</td>\n",
       "      <td>Yes</td>\n",
       "    </tr>\n",
       "    <tr>\n",
       "      <th>2412</th>\n",
       "      <td>COPPER FOIL</td>\n",
       "      <td>COPPER FOIL</td>\n",
       "      <td>Yes</td>\n",
       "    </tr>\n",
       "    <tr>\n",
       "      <th>2750</th>\n",
       "      <td>COPPER CLAD LAMINATES</td>\n",
       "      <td>COPPER CLAD LAMINATES</td>\n",
       "      <td>Yes</td>\n",
       "    </tr>\n",
       "    <tr>\n",
       "      <th>2897</th>\n",
       "      <td>EPOXY RESIN</td>\n",
       "      <td>EPOXY RESIN</td>\n",
       "      <td>Yes</td>\n",
       "    </tr>\n",
       "    <tr>\n",
       "      <th>2862</th>\n",
       "      <td>POLYPROPYLENE RESIN GRADE</td>\n",
       "      <td>POLYPROPYLENE RESIN GRADE</td>\n",
       "      <td>Yes</td>\n",
       "    </tr>\n",
       "    <tr>\n",
       "      <th>1124</th>\n",
       "      <td>TOTM</td>\n",
       "      <td>TOTM</td>\n",
       "      <td>Yes</td>\n",
       "    </tr>\n",
       "    <tr>\n",
       "      <th>3066</th>\n",
       "      <td>EVA</td>\n",
       "      <td>METHYL TETRA HYDRO PHTHALIC ANHYDRIDE</td>\n",
       "      <td>No</td>\n",
       "    </tr>\n",
       "    <tr>\n",
       "      <th>1948</th>\n",
       "      <td>PVC RESIN</td>\n",
       "      <td>PVC RESIN S60</td>\n",
       "      <td>No</td>\n",
       "    </tr>\n",
       "    <tr>\n",
       "      <th>838</th>\n",
       "      <td>PVC RESIN</td>\n",
       "      <td>PVC RESIN S-65S</td>\n",
       "      <td>No</td>\n",
       "    </tr>\n",
       "    <tr>\n",
       "      <th>727</th>\n",
       "      <td>PP</td>\n",
       "      <td>PP</td>\n",
       "      <td>Yes</td>\n",
       "    </tr>\n",
       "    <tr>\n",
       "      <th>1937</th>\n",
       "      <td>ABS RESIN</td>\n",
       "      <td>ABS RESINS</td>\n",
       "      <td>No</td>\n",
       "    </tr>\n",
       "    <tr>\n",
       "      <th>3024</th>\n",
       "      <td>EVA TAISOX</td>\n",
       "      <td>EVA TAISOX</td>\n",
       "      <td>Yes</td>\n",
       "    </tr>\n",
       "    <tr>\n",
       "      <th>1278</th>\n",
       "      <td>PURIFIED TEREPHTHALIC ACID PTA</td>\n",
       "      <td>PURIFIED TEREPHTHALIC ACID PTA</td>\n",
       "      <td>Yes</td>\n",
       "    </tr>\n",
       "    <tr>\n",
       "      <th>1533</th>\n",
       "      <td>ABS RESIN</td>\n",
       "      <td>ABS RESINS</td>\n",
       "      <td>No</td>\n",
       "    </tr>\n",
       "    <tr>\n",
       "      <th>2447</th>\n",
       "      <td>POLYESTER STAPLE FIBER</td>\n",
       "      <td>POLYESTER STAPLE FIBER</td>\n",
       "      <td>Yes</td>\n",
       "    </tr>\n",
       "    <tr>\n",
       "      <th>1711</th>\n",
       "      <td>PLASTIC RESIN</td>\n",
       "      <td>PLASTIC RESIN</td>\n",
       "      <td>Yes</td>\n",
       "    </tr>\n",
       "    <tr>\n",
       "      <th>188</th>\n",
       "      <td>BASE OIL 500N</td>\n",
       "      <td>BASE OIL 500N</td>\n",
       "      <td>Yes</td>\n",
       "    </tr>\n",
       "    <tr>\n",
       "      <th>192</th>\n",
       "      <td>HIGH DENSITY POLYETHYLENE</td>\n",
       "      <td>HIGH DENSITY POLYETHYLENE</td>\n",
       "      <td>Yes</td>\n",
       "    </tr>\n",
       "    <tr>\n",
       "      <th>2603</th>\n",
       "      <td>HDPE TAISOX 8010</td>\n",
       "      <td>HDPE TAISOX 8010</td>\n",
       "      <td>Yes</td>\n",
       "    </tr>\n",
       "    <tr>\n",
       "      <th>1453</th>\n",
       "      <td>PA66</td>\n",
       "      <td>PA66</td>\n",
       "      <td>Yes</td>\n",
       "    </tr>\n",
       "  </tbody>\n",
       "</table>\n",
       "</div>"
      ],
      "text/plain": [
       "                                label  \\\n",
       "45                      BASE OIL 500N   \n",
       "2204                             HDPE   \n",
       "1374              METHYL METHACRYLATE   \n",
       "1264  ACRYLONITRILE BUTADIENE STYRENE   \n",
       "139                         PVC RESIN   \n",
       "1675                               PE   \n",
       "457                         EVA-7360M   \n",
       "555                       HDPE TAISOX   \n",
       "218              PVC SUSPENSION RESIN   \n",
       "449                     BASE OIL 150N   \n",
       "1465                 MALEIC ANHYDRIDE   \n",
       "2946                    POLYPROPYLENE   \n",
       "2593    PURIFIED ISOPHTHALIC ACID PIA   \n",
       "2229                         ETHYLENE   \n",
       "2849                      EPOXY RESIN   \n",
       "479              PVC SUSPENSION RESIN   \n",
       "819                     POLYPROPYLENE   \n",
       "554                       HDPE TAISOX   \n",
       "2644                         PP RESIN   \n",
       "2993                             PA66   \n",
       "256                   EVA TAISOX 7350   \n",
       "761                        HIPS RESIN   \n",
       "2210             TAIRIREX POLYSTYRENE   \n",
       "174                            GASOIL   \n",
       "1113                 MALEIC ANHYDRIDE   \n",
       "63                      BASE OIL 500N   \n",
       "1760                     ACETONITRILE   \n",
       "184                          BASE OIL   \n",
       "144              PVC SUSPENSION RESIN   \n",
       "1114                  TETRAHYDROFURAN   \n",
       "1378            DEG DIETHYLENE GLYCOL   \n",
       "2412                      COPPER FOIL   \n",
       "2750            COPPER CLAD LAMINATES   \n",
       "2897                      EPOXY RESIN   \n",
       "2862        POLYPROPYLENE RESIN GRADE   \n",
       "1124                             TOTM   \n",
       "3066                              EVA   \n",
       "1948                        PVC RESIN   \n",
       "838                         PVC RESIN   \n",
       "727                                PP   \n",
       "1937                        ABS RESIN   \n",
       "3024                       EVA TAISOX   \n",
       "1278   PURIFIED TEREPHTHALIC ACID PTA   \n",
       "1533                        ABS RESIN   \n",
       "2447           POLYESTER STAPLE FIBER   \n",
       "1711                    PLASTIC RESIN   \n",
       "188                     BASE OIL 500N   \n",
       "192         HIGH DENSITY POLYETHYLENE   \n",
       "2603                 HDPE TAISOX 8010   \n",
       "1453                             PA66   \n",
       "\n",
       "                                               predict: 是否全對  \n",
       "45                                        BASE OIL 500N  Yes  \n",
       "2204                                               HDPE  Yes  \n",
       "1374                                METHYL METHACRYLATE  Yes  \n",
       "1264                    ACRYLONITRILE BUTADIENE STYRENE  Yes  \n",
       "139                                           PVC RESIN  Yes  \n",
       "1675                                                PER   No  \n",
       "457                                           EVA-7360M  Yes  \n",
       "555                                         HDPE TAISOX  Yes  \n",
       "218                                PVC SUSPENSION RESIN  Yes  \n",
       "449                                       BASE OIL 150N  Yes  \n",
       "1465                                   MALEIC ANHYDRIDE  Yes  \n",
       "2946                                      POLYPROPYLENE  Yes  \n",
       "2593                               ISOPHTHALIC ACID PIA   No  \n",
       "2229                            MONOETHYLENE GLYCOL MEG   No  \n",
       "2849                                        EPOXY RESIN  Yes  \n",
       "479                                PVC SUSPENSION RESIN  Yes  \n",
       "819   POLYPROPYLENE RESIN K 1035 AND 12 MT OF PROPYLENE   No  \n",
       "554                                         HDPE TAISOX  Yes  \n",
       "2644                                          DPP RESIN   No  \n",
       "2993                                               PA66  Yes  \n",
       "256                                     EVA TAISOX 7350  Yes  \n",
       "761                                          HIPS RESIN  Yes  \n",
       "2210                  TAIRIREX POLYSTYRENE GRADE GP5500   No  \n",
       "174                                              GASOIL  Yes  \n",
       "1113                                   MALEIC ANHYDRIDE  Yes  \n",
       "63                                        BASE OIL 500N  Yes  \n",
       "1760                                       ACETONITRILE  Yes  \n",
       "184                                            BASE OIL  Yes  \n",
       "144                                PVC SUSPENSION RESIN  Yes  \n",
       "1114                                    TETRAHYDROFURAN  Yes  \n",
       "1378                              DEG DIETHYLENE GLYCOL  Yes  \n",
       "2412                                        COPPER FOIL  Yes  \n",
       "2750                              COPPER CLAD LAMINATES  Yes  \n",
       "2897                                        EPOXY RESIN  Yes  \n",
       "2862                          POLYPROPYLENE RESIN GRADE  Yes  \n",
       "1124                                               TOTM  Yes  \n",
       "3066              METHYL TETRA HYDRO PHTHALIC ANHYDRIDE   No  \n",
       "1948                                      PVC RESIN S60   No  \n",
       "838                                     PVC RESIN S-65S   No  \n",
       "727                                                  PP  Yes  \n",
       "1937                                         ABS RESINS   No  \n",
       "3024                                         EVA TAISOX  Yes  \n",
       "1278                     PURIFIED TEREPHTHALIC ACID PTA  Yes  \n",
       "1533                                         ABS RESINS   No  \n",
       "2447                             POLYESTER STAPLE FIBER  Yes  \n",
       "1711                                      PLASTIC RESIN  Yes  \n",
       "188                                       BASE OIL 500N  Yes  \n",
       "192                           HIGH DENSITY POLYETHYLENE  Yes  \n",
       "2603                                   HDPE TAISOX 8010  Yes  \n",
       "1453                                               PA66  Yes  "
      ]
     },
     "execution_count": 52,
     "metadata": {},
     "output_type": "execute_result"
    }
   ],
   "source": [
    "all_res = test_model(val_df.sample(50))\n",
    "all_res"
   ]
  },
  {
   "cell_type": "code",
   "execution_count": 53,
   "metadata": {},
   "outputs": [
    {
     "data": {
      "text/html": [
       "<div>\n",
       "<style scoped>\n",
       "    .dataframe tbody tr th:only-of-type {\n",
       "        vertical-align: middle;\n",
       "    }\n",
       "\n",
       "    .dataframe tbody tr th {\n",
       "        vertical-align: top;\n",
       "    }\n",
       "\n",
       "    .dataframe thead th {\n",
       "        text-align: right;\n",
       "    }\n",
       "</style>\n",
       "<table border=\"1\" class=\"dataframe\">\n",
       "  <thead>\n",
       "    <tr style=\"text-align: right;\">\n",
       "      <th></th>\n",
       "      <th>label</th>\n",
       "      <th>predict:</th>\n",
       "      <th>是否全對</th>\n",
       "    </tr>\n",
       "  </thead>\n",
       "  <tbody>\n",
       "    <tr>\n",
       "      <th>1675</th>\n",
       "      <td>PE</td>\n",
       "      <td>PER</td>\n",
       "      <td>No</td>\n",
       "    </tr>\n",
       "    <tr>\n",
       "      <th>2593</th>\n",
       "      <td>PURIFIED ISOPHTHALIC ACID PIA</td>\n",
       "      <td>ISOPHTHALIC ACID PIA</td>\n",
       "      <td>No</td>\n",
       "    </tr>\n",
       "    <tr>\n",
       "      <th>2229</th>\n",
       "      <td>ETHYLENE</td>\n",
       "      <td>MONOETHYLENE GLYCOL MEG</td>\n",
       "      <td>No</td>\n",
       "    </tr>\n",
       "    <tr>\n",
       "      <th>819</th>\n",
       "      <td>POLYPROPYLENE</td>\n",
       "      <td>POLYPROPYLENE RESIN K 1035 AND 12 MT OF PROPYLENE</td>\n",
       "      <td>No</td>\n",
       "    </tr>\n",
       "    <tr>\n",
       "      <th>2644</th>\n",
       "      <td>PP RESIN</td>\n",
       "      <td>DPP RESIN</td>\n",
       "      <td>No</td>\n",
       "    </tr>\n",
       "    <tr>\n",
       "      <th>2210</th>\n",
       "      <td>TAIRIREX POLYSTYRENE</td>\n",
       "      <td>TAIRIREX POLYSTYRENE GRADE GP5500</td>\n",
       "      <td>No</td>\n",
       "    </tr>\n",
       "    <tr>\n",
       "      <th>3066</th>\n",
       "      <td>EVA</td>\n",
       "      <td>METHYL TETRA HYDRO PHTHALIC ANHYDRIDE</td>\n",
       "      <td>No</td>\n",
       "    </tr>\n",
       "    <tr>\n",
       "      <th>1948</th>\n",
       "      <td>PVC RESIN</td>\n",
       "      <td>PVC RESIN S60</td>\n",
       "      <td>No</td>\n",
       "    </tr>\n",
       "    <tr>\n",
       "      <th>838</th>\n",
       "      <td>PVC RESIN</td>\n",
       "      <td>PVC RESIN S-65S</td>\n",
       "      <td>No</td>\n",
       "    </tr>\n",
       "    <tr>\n",
       "      <th>1937</th>\n",
       "      <td>ABS RESIN</td>\n",
       "      <td>ABS RESINS</td>\n",
       "      <td>No</td>\n",
       "    </tr>\n",
       "    <tr>\n",
       "      <th>1533</th>\n",
       "      <td>ABS RESIN</td>\n",
       "      <td>ABS RESINS</td>\n",
       "      <td>No</td>\n",
       "    </tr>\n",
       "  </tbody>\n",
       "</table>\n",
       "</div>"
      ],
      "text/plain": [
       "                              label  \\\n",
       "1675                             PE   \n",
       "2593  PURIFIED ISOPHTHALIC ACID PIA   \n",
       "2229                       ETHYLENE   \n",
       "819                   POLYPROPYLENE   \n",
       "2644                       PP RESIN   \n",
       "2210           TAIRIREX POLYSTYRENE   \n",
       "3066                            EVA   \n",
       "1948                      PVC RESIN   \n",
       "838                       PVC RESIN   \n",
       "1937                      ABS RESIN   \n",
       "1533                      ABS RESIN   \n",
       "\n",
       "                                               predict: 是否全對  \n",
       "1675                                                PER   No  \n",
       "2593                               ISOPHTHALIC ACID PIA   No  \n",
       "2229                            MONOETHYLENE GLYCOL MEG   No  \n",
       "819   POLYPROPYLENE RESIN K 1035 AND 12 MT OF PROPYLENE   No  \n",
       "2644                                          DPP RESIN   No  \n",
       "2210                  TAIRIREX POLYSTYRENE GRADE GP5500   No  \n",
       "3066              METHYL TETRA HYDRO PHTHALIC ANHYDRIDE   No  \n",
       "1948                                      PVC RESIN S60   No  \n",
       "838                                     PVC RESIN S-65S   No  \n",
       "1937                                         ABS RESINS   No  \n",
       "1533                                         ABS RESINS   No  "
      ]
     },
     "execution_count": 53,
     "metadata": {},
     "output_type": "execute_result"
    }
   ],
   "source": [
    "all_res[all_res['是否全對']=='No']"
   ]
  },
  {
   "cell_type": "markdown",
   "metadata": {},
   "source": [
    "# claculate acc and jaccard"
   ]
  },
  {
   "cell_type": "code",
   "execution_count": 54,
   "metadata": {},
   "outputs": [
    {
     "data": {
      "text/plain": [
       "Yes    39\n",
       "No     11\n",
       "Name: 是否全對, dtype: int64"
      ]
     },
     "metadata": {},
     "output_type": "display_data"
    },
    {
     "name": "stdout",
     "output_type": "stream",
     "text": [
      "acc: 0.78\n",
      "jaccard_avg_score: 0.8538888888888888\n"
     ]
    }
   ],
   "source": [
    "def get_jaccard_sim(str1, str2): \n",
    "    a = set(str1.split()) \n",
    "    b = set(str2.split())\n",
    "    c = a.intersection(b)\n",
    "    return float(len(c)) / (len(a) + len(b) - len(c))\n",
    "\n",
    "display(all_res['是否全對'].value_counts())\n",
    "acc = all_res['是否全對'].value_counts()['Yes']/len(all_res)\n",
    "print('acc:',acc)\n",
    "jaccard_avg_score = np.mean([ get_jaccard_sim(all_res.label.loc[i],all_res['predict:'].loc[i]) for i in all_res.index])\n",
    "print('jaccard_avg_score:',jaccard_avg_score)"
   ]
  },
  {
   "cell_type": "markdown",
   "metadata": {},
   "source": [
    "# claculate 放水acc"
   ]
  },
  {
   "cell_type": "code",
   "execution_count": 55,
   "metadata": {},
   "outputs": [],
   "source": [
    "def get_acc2(df):\n",
    "    correct = []\n",
    "    correct_label = []\n",
    "    df['predict:'] = [[i] for i in df['predict:']]\n",
    "    for i in df.index:\n",
    "        jacs = []\n",
    "        for j in df.loc[i,'predict:']:\n",
    "            jacs.append(get_jaccard_sim(df.loc[i,'label'],j))\n",
    "        if max(jacs) >= 0.75:\n",
    "            correct.append('yes')\n",
    "        else:\n",
    "            correct.append('no')\n",
    "    return correct"
   ]
  },
  {
   "cell_type": "code",
   "execution_count": 56,
   "metadata": {},
   "outputs": [
    {
     "data": {
      "text/plain": [
       "0.8"
      ]
     },
     "execution_count": 56,
     "metadata": {},
     "output_type": "execute_result"
    }
   ],
   "source": [
    "a = pd.Series(get_acc2(all_res.sample(50)))\n",
    "a.value_counts()['yes']/len(a)"
   ]
  },
  {
   "cell_type": "code",
   "execution_count": 57,
   "metadata": {},
   "outputs": [],
   "source": [
    "torch.save(model.state_dict(),'Product_Data_SQuAD_model_2144.pt')"
   ]
  },
  {
   "cell_type": "code",
   "execution_count": null,
   "metadata": {},
   "outputs": [],
   "source": []
  },
  {
   "cell_type": "code",
   "execution_count": null,
   "metadata": {},
   "outputs": [],
   "source": []
  },
  {
   "cell_type": "code",
   "execution_count": null,
   "metadata": {},
   "outputs": [],
   "source": []
  },
  {
   "cell_type": "code",
   "execution_count": null,
   "metadata": {},
   "outputs": [],
   "source": []
  },
  {
   "cell_type": "code",
   "execution_count": null,
   "metadata": {},
   "outputs": [],
   "source": []
  },
  {
   "cell_type": "code",
   "execution_count": null,
   "metadata": {},
   "outputs": [],
   "source": []
  },
  {
   "cell_type": "code",
   "execution_count": null,
   "metadata": {},
   "outputs": [],
   "source": []
  }
 ],
 "metadata": {
  "interpreter": {
   "hash": "2ccee5cc862501c1aad1cf19888c2a2eca4026b72d187db43d5e889cbdc6ee97"
  },
  "kernelspec": {
   "display_name": "Python 3 (ipykernel)",
   "language": "python",
   "name": "python3"
  },
  "language_info": {
   "codemirror_mode": {
    "name": "ipython",
    "version": 3
   },
   "file_extension": ".py",
   "mimetype": "text/x-python",
   "name": "python",
   "nbconvert_exporter": "python",
   "pygments_lexer": "ipython3",
   "version": "3.7.4"
  }
 },
 "nbformat": 4,
 "nbformat_minor": 2
}
