{
 "cells": [
  {
   "cell_type": "code",
   "execution_count": 29,
   "metadata": {},
   "outputs": [
    {
     "name": "stdout",
     "output_type": "stream",
     "text": [
      "(3643, 2)\n"
     ]
    },
    {
     "data": {
      "text/html": [
       "<div>\n",
       "<style scoped>\n",
       "    .dataframe tbody tr th:only-of-type {\n",
       "        vertical-align: middle;\n",
       "    }\n",
       "\n",
       "    .dataframe tbody tr th {\n",
       "        vertical-align: top;\n",
       "    }\n",
       "\n",
       "    .dataframe thead th {\n",
       "        text-align: right;\n",
       "    }\n",
       "</style>\n",
       "<table border=\"1\" class=\"dataframe\">\n",
       "  <thead>\n",
       "    <tr style=\"text-align: right;\">\n",
       "      <th></th>\n",
       "      <th>45A</th>\n",
       "      <th>SPEC</th>\n",
       "    </tr>\n",
       "  </thead>\n",
       "  <tbody>\n",
       "    <tr>\n",
       "      <th>3</th>\n",
       "      <td>MASS PVC RESIN, B-57QUANTITY 175 MT AT 1300 US...</td>\n",
       "      <td>MASS PVC RESIN B-57</td>\n",
       "    </tr>\n",
       "    <tr>\n",
       "      <th>4</th>\n",
       "      <td>PHTHALIC ANHYDRIDE (PA)QUANTITY = 306 MT UNIT ...</td>\n",
       "      <td>(鄰苯二甲酐)\\nPHTHALIC ANHYDRIDE</td>\n",
       "    </tr>\n",
       "    <tr>\n",
       "      <th>5</th>\n",
       "      <td>+ COMMODITY: LLDPE TAISOX 3470+ QUANTITY: 32.0...</td>\n",
       "      <td>LINEAR LOW DENSITY\\nPOLYETHYLENE RESIN\\nTAISOX...</td>\n",
       "    </tr>\n",
       "  </tbody>\n",
       "</table>\n",
       "</div>"
      ],
      "text/plain": [
       "                                                 45A  \\\n",
       "3  MASS PVC RESIN, B-57QUANTITY 175 MT AT 1300 US...   \n",
       "4  PHTHALIC ANHYDRIDE (PA)QUANTITY = 306 MT UNIT ...   \n",
       "5  + COMMODITY: LLDPE TAISOX 3470+ QUANTITY: 32.0...   \n",
       "\n",
       "                                                SPEC  \n",
       "3                                MASS PVC RESIN B-57  \n",
       "4                        (鄰苯二甲酐)\\nPHTHALIC ANHYDRIDE  \n",
       "5  LINEAR LOW DENSITY\\nPOLYETHYLENE RESIN\\nTAISOX...  "
      ]
     },
     "execution_count": 29,
     "metadata": {},
     "output_type": "execute_result"
    }
   ],
   "source": [
    "import pandas as pd\n",
    "from tqdm import tqdm_notebook as tqdm\n",
    "df = pd.read_excel('combined_excel.xlsx',index_col=0)[['45A','SPEC']]\n",
    "print(df.shape)\n",
    "df.head(3)"
   ]
  },
  {
   "cell_type": "markdown",
   "metadata": {},
   "source": [
    "# 去除不必要的東西"
   ]
  },
  {
   "cell_type": "code",
   "execution_count": 30,
   "metadata": {},
   "outputs": [
    {
     "data": {
      "text/html": [
       "<div>\n",
       "<style scoped>\n",
       "    .dataframe tbody tr th:only-of-type {\n",
       "        vertical-align: middle;\n",
       "    }\n",
       "\n",
       "    .dataframe tbody tr th {\n",
       "        vertical-align: top;\n",
       "    }\n",
       "\n",
       "    .dataframe thead th {\n",
       "        text-align: right;\n",
       "    }\n",
       "</style>\n",
       "<table border=\"1\" class=\"dataframe\">\n",
       "  <thead>\n",
       "    <tr style=\"text-align: right;\">\n",
       "      <th></th>\n",
       "      <th>45A</th>\n",
       "      <th>SPEC</th>\n",
       "    </tr>\n",
       "  </thead>\n",
       "  <tbody>\n",
       "    <tr>\n",
       "      <th>3</th>\n",
       "      <td>MASS PVC RESIN B-57QUANTITY 175 MT AT 1300 USD...</td>\n",
       "      <td>MASS PVC RESIN B-57</td>\n",
       "    </tr>\n",
       "    <tr>\n",
       "      <th>4</th>\n",
       "      <td>PHTHALIC ANHYDRIDE PAQUANTITY  306 MT UNIT PRI...</td>\n",
       "      <td>PHTHALIC ANHYDRIDE</td>\n",
       "    </tr>\n",
       "    <tr>\n",
       "      <th>5</th>\n",
       "      <td>COMMODITY LLDPE TAISOX 3470 QUANTITY 320MT 2FC...</td>\n",
       "      <td>LINEAR LOW DENSITYPOLYETHYLENE RESINTAISOX 3470</td>\n",
       "    </tr>\n",
       "    <tr>\n",
       "      <th>7</th>\n",
       "      <td>COMMODITY                                     ...</td>\n",
       "      <td>POLYESTER PARTIALYORIENTED YARN</td>\n",
       "    </tr>\n",
       "    <tr>\n",
       "      <th>9</th>\n",
       "      <td>COMMODITY                                     ...</td>\n",
       "      <td>POLYESTER FILAMENT YARN</td>\n",
       "    </tr>\n",
       "  </tbody>\n",
       "</table>\n",
       "</div>"
      ],
      "text/plain": [
       "                                                 45A  \\\n",
       "3  MASS PVC RESIN B-57QUANTITY 175 MT AT 1300 USD...   \n",
       "4  PHTHALIC ANHYDRIDE PAQUANTITY  306 MT UNIT PRI...   \n",
       "5  COMMODITY LLDPE TAISOX 3470 QUANTITY 320MT 2FC...   \n",
       "7  COMMODITY                                     ...   \n",
       "9  COMMODITY                                     ...   \n",
       "\n",
       "                                              SPEC  \n",
       "3                              MASS PVC RESIN B-57  \n",
       "4                               PHTHALIC ANHYDRIDE  \n",
       "5  LINEAR LOW DENSITYPOLYETHYLENE RESINTAISOX 3470  \n",
       "7                  POLYESTER PARTIALYORIENTED YARN  \n",
       "9                          POLYESTER FILAMENT YARN  "
      ]
     },
     "execution_count": 30,
     "metadata": {},
     "output_type": "execute_result"
    }
   ],
   "source": [
    "import re\n",
    "\n",
    "def preprocess(x):\n",
    "    x = re.sub('[\\u4e00-\\u9fa5]', '', x) # 1.去除中文\n",
    "    x = re.sub('[’!\"#$%&\\'()*+,/:;<=>?@[\\\\]^_`{|}~，。,.]', '', x) # 2.去除標點符號\n",
    "    x = x.replace('\\n', '').replace('\\r', '').replace('\\t', '') # 3.去除換行符號\n",
    "    x = str.strip(x) # 4.移除左右空白\n",
    "    return x\n",
    "\n",
    "df['45A'] = df['45A'].apply(preprocess)\n",
    "df['SPEC'] = df['SPEC'].apply(preprocess)\n",
    "df.loc[:,['45A','SPEC']].head()"
   ]
  },
  {
   "cell_type": "markdown",
   "metadata": {},
   "source": [
    "# 寶典標註"
   ]
  },
  {
   "cell_type": "code",
   "execution_count": 31,
   "metadata": {},
   "outputs": [
    {
     "name": "stderr",
     "output_type": "stream",
     "text": [
      "/opt/conda/lib/python3.7/site-packages/ipykernel_launcher.py:7: TqdmDeprecationWarning: This function will be removed in tqdm==5.0.0\n",
      "Please use `tqdm.notebook.tqdm` instead of `tqdm.tqdm_notebook`\n",
      "  import sys\n"
     ]
    },
    {
     "data": {
      "application/vnd.jupyter.widget-view+json": {
       "model_id": "0b96195ca81c4fb4ab04d8cd887568a9",
       "version_major": 2,
       "version_minor": 0
      },
      "text/plain": [
       "  0%|          | 0/3643 [00:00<?, ?it/s]"
      ]
     },
     "metadata": {},
     "output_type": "display_data"
    },
    {
     "data": {
      "text/html": [
       "<div>\n",
       "<style scoped>\n",
       "    .dataframe tbody tr th:only-of-type {\n",
       "        vertical-align: middle;\n",
       "    }\n",
       "\n",
       "    .dataframe tbody tr th {\n",
       "        vertical-align: top;\n",
       "    }\n",
       "\n",
       "    .dataframe thead th {\n",
       "        text-align: right;\n",
       "    }\n",
       "</style>\n",
       "<table border=\"1\" class=\"dataframe\">\n",
       "  <thead>\n",
       "    <tr style=\"text-align: right;\">\n",
       "      <th></th>\n",
       "      <th>45A</th>\n",
       "      <th>SPEC</th>\n",
       "      <th>Baodian_predict</th>\n",
       "    </tr>\n",
       "  </thead>\n",
       "  <tbody>\n",
       "    <tr>\n",
       "      <th>3</th>\n",
       "      <td>MASS PVC RESIN B-57QUANTITY 175 MT AT 1300 USD...</td>\n",
       "      <td>MASS PVC RESIN B-57</td>\n",
       "      <td>PVC RESIN B-57</td>\n",
       "    </tr>\n",
       "    <tr>\n",
       "      <th>4</th>\n",
       "      <td>PHTHALIC ANHYDRIDE PAQUANTITY  306 MT UNIT PRI...</td>\n",
       "      <td>PHTHALIC ANHYDRIDE</td>\n",
       "      <td>PHTHALIC ANHYDRIDE PA</td>\n",
       "    </tr>\n",
       "    <tr>\n",
       "      <th>5</th>\n",
       "      <td>COMMODITY LLDPE TAISOX 3470 QUANTITY 320MT 2FC...</td>\n",
       "      <td>LINEAR LOW DENSITYPOLYETHYLENE RESINTAISOX 3470</td>\n",
       "      <td>LLDPE TAISOX</td>\n",
       "    </tr>\n",
       "    <tr>\n",
       "      <th>7</th>\n",
       "      <td>COMMODITY                                     ...</td>\n",
       "      <td>POLYESTER PARTIALYORIENTED YARN</td>\n",
       "      <td>POLYESTER PARTIALY ORIENTED YARN</td>\n",
       "    </tr>\n",
       "    <tr>\n",
       "      <th>9</th>\n",
       "      <td>COMMODITY                                     ...</td>\n",
       "      <td>POLYESTER FILAMENT YARN</td>\n",
       "      <td>POLYESTER PARTIALY ORIENTED YARN</td>\n",
       "    </tr>\n",
       "    <tr>\n",
       "      <th>...</th>\n",
       "      <td>...</td>\n",
       "      <td>...</td>\n",
       "      <td>...</td>\n",
       "    </tr>\n",
       "    <tr>\n",
       "      <th>8403</th>\n",
       "      <td>COMMODITY            MONO ETHYLENE GLYCOLx000D...</td>\n",
       "      <td>MONO ETHYLENE GLYCOL</td>\n",
       "      <td>MONO ETHYLENE GLYCOL</td>\n",
       "    </tr>\n",
       "    <tr>\n",
       "      <th>8413</th>\n",
       "      <td>CFR KOBE JAPANx000DVISCOSE RAYON STAPLE FIBERx...</td>\n",
       "      <td>VISCOSE RAYON STAPLE FIBER15DX40MM SEMI DULL</td>\n",
       "      <td>VISCOSE RAYON STAPLE FIBER</td>\n",
       "    </tr>\n",
       "    <tr>\n",
       "      <th>8414</th>\n",
       "      <td>DESCRIPTION OF GOODS QUANTITYMT UNIT PRICEUSDM...</td>\n",
       "      <td>PC RESIN GRADE NOAC2916</td>\n",
       "      <td>PC RESIN</td>\n",
       "    </tr>\n",
       "    <tr>\n",
       "      <th>8415</th>\n",
       "      <td>DESCRIPTION OF GOODS QUANTITYMT UNIT PRICEUSDM...</td>\n",
       "      <td>PC RESIN GRADE NOAC2820-A320</td>\n",
       "      <td>PC RESIN</td>\n",
       "    </tr>\n",
       "    <tr>\n",
       "      <th>8416</th>\n",
       "      <td>DESCRIPTION OF GOODS QUANTITYMT UNIT PRICEUSDM...</td>\n",
       "      <td>PC RESIN GRADE NOAC3835-A00E</td>\n",
       "      <td>PC RESIN</td>\n",
       "    </tr>\n",
       "  </tbody>\n",
       "</table>\n",
       "<p>3643 rows × 3 columns</p>\n",
       "</div>"
      ],
      "text/plain": [
       "                                                    45A  \\\n",
       "3     MASS PVC RESIN B-57QUANTITY 175 MT AT 1300 USD...   \n",
       "4     PHTHALIC ANHYDRIDE PAQUANTITY  306 MT UNIT PRI...   \n",
       "5     COMMODITY LLDPE TAISOX 3470 QUANTITY 320MT 2FC...   \n",
       "7     COMMODITY                                     ...   \n",
       "9     COMMODITY                                     ...   \n",
       "...                                                 ...   \n",
       "8403  COMMODITY            MONO ETHYLENE GLYCOLx000D...   \n",
       "8413  CFR KOBE JAPANx000DVISCOSE RAYON STAPLE FIBERx...   \n",
       "8414  DESCRIPTION OF GOODS QUANTITYMT UNIT PRICEUSDM...   \n",
       "8415  DESCRIPTION OF GOODS QUANTITYMT UNIT PRICEUSDM...   \n",
       "8416  DESCRIPTION OF GOODS QUANTITYMT UNIT PRICEUSDM...   \n",
       "\n",
       "                                                 SPEC  \\\n",
       "3                                 MASS PVC RESIN B-57   \n",
       "4                                  PHTHALIC ANHYDRIDE   \n",
       "5     LINEAR LOW DENSITYPOLYETHYLENE RESINTAISOX 3470   \n",
       "7                     POLYESTER PARTIALYORIENTED YARN   \n",
       "9                             POLYESTER FILAMENT YARN   \n",
       "...                                               ...   \n",
       "8403                             MONO ETHYLENE GLYCOL   \n",
       "8413     VISCOSE RAYON STAPLE FIBER15DX40MM SEMI DULL   \n",
       "8414                          PC RESIN GRADE NOAC2916   \n",
       "8415                     PC RESIN GRADE NOAC2820-A320   \n",
       "8416                     PC RESIN GRADE NOAC3835-A00E   \n",
       "\n",
       "                       Baodian_predict  \n",
       "3                       PVC RESIN B-57  \n",
       "4                PHTHALIC ANHYDRIDE PA  \n",
       "5                         LLDPE TAISOX  \n",
       "7     POLYESTER PARTIALY ORIENTED YARN  \n",
       "9     POLYESTER PARTIALY ORIENTED YARN  \n",
       "...                                ...  \n",
       "8403              MONO ETHYLENE GLYCOL  \n",
       "8413        VISCOSE RAYON STAPLE FIBER  \n",
       "8414                          PC RESIN  \n",
       "8415                          PC RESIN  \n",
       "8416                          PC RESIN  \n",
       "\n",
       "[3643 rows x 3 columns]"
      ]
     },
     "execution_count": 31,
     "metadata": {},
     "output_type": "execute_result"
    }
   ],
   "source": [
    "import numpy as np\n",
    "\n",
    "寶典 = pd.read_excel('台塑企業_ 產品寶典20210303.xlsx')\n",
    "產品集合 = set(寶典['品名'].values)\n",
    "def Collection_method(df,產品集合):\n",
    "    labels = {}\n",
    "    for i in tqdm(df.index):\n",
    "        products = []\n",
    "        for p in 產品集合:# 在寶典中搜索\n",
    "            if p in df.loc[i,'45A']: \n",
    "                products.append(p)\n",
    "        try:\n",
    "            labels[i] = max(products,key=len) # 選最長的產品\n",
    "        except:\n",
    "            labels[i] = np.nan # 找不到就算了\n",
    "    predict = pd.DataFrame(index=labels.keys(),columns=['Baodian_predict'])\n",
    "    predict['Baodian_predict'] = labels.values()\n",
    "    return predict\n",
    "predict = Collection_method(df,產品集合)\n",
    "df = df.join(predict)\n",
    "df"
   ]
  },
  {
   "cell_type": "markdown",
   "metadata": {},
   "source": [
    "# 製作Y_label"
   ]
  },
  {
   "cell_type": "code",
   "execution_count": 32,
   "metadata": {},
   "outputs": [
    {
     "name": "stderr",
     "output_type": "stream",
     "text": [
      "/opt/conda/lib/python3.7/site-packages/ipykernel_launcher.py:5: TqdmDeprecationWarning: This function will be removed in tqdm==5.0.0\n",
      "Please use `tqdm.notebook.tqdm` instead of `tqdm.tqdm_notebook`\n",
      "  \"\"\"\n"
     ]
    },
    {
     "data": {
      "application/vnd.jupyter.widget-view+json": {
       "model_id": "4269b41a08e844ee8606cec7d112b05f",
       "version_major": 2,
       "version_minor": 0
      },
      "text/plain": [
       "  0%|          | 0/3643 [00:00<?, ?it/s]"
      ]
     },
     "metadata": {},
     "output_type": "display_data"
    },
    {
     "name": "stdout",
     "output_type": "stream",
     "text": [
      "3618 25\n"
     ]
    },
    {
     "data": {
      "text/html": [
       "<div>\n",
       "<style scoped>\n",
       "    .dataframe tbody tr th:only-of-type {\n",
       "        vertical-align: middle;\n",
       "    }\n",
       "\n",
       "    .dataframe tbody tr th {\n",
       "        vertical-align: top;\n",
       "    }\n",
       "\n",
       "    .dataframe thead th {\n",
       "        text-align: right;\n",
       "    }\n",
       "</style>\n",
       "<table border=\"1\" class=\"dataframe\">\n",
       "  <thead>\n",
       "    <tr style=\"text-align: right;\">\n",
       "      <th></th>\n",
       "      <th>45A</th>\n",
       "      <th>SPEC</th>\n",
       "      <th>Baodian_predict</th>\n",
       "      <th>Y_label</th>\n",
       "    </tr>\n",
       "  </thead>\n",
       "  <tbody>\n",
       "    <tr>\n",
       "      <th>3</th>\n",
       "      <td>MASS PVC RESIN B-57QUANTITY 175 MT AT 1300 USD...</td>\n",
       "      <td>MASS PVC RESIN B-57</td>\n",
       "      <td>PVC RESIN B-57</td>\n",
       "      <td>MASS PVC RESIN B-57</td>\n",
       "    </tr>\n",
       "    <tr>\n",
       "      <th>4</th>\n",
       "      <td>PHTHALIC ANHYDRIDE PAQUANTITY  306 MT UNIT PRI...</td>\n",
       "      <td>PHTHALIC ANHYDRIDE</td>\n",
       "      <td>PHTHALIC ANHYDRIDE PA</td>\n",
       "      <td>PHTHALIC ANHYDRIDE</td>\n",
       "    </tr>\n",
       "    <tr>\n",
       "      <th>5</th>\n",
       "      <td>COMMODITY LLDPE TAISOX 3470 QUANTITY 320MT 2FC...</td>\n",
       "      <td>LINEAR LOW DENSITYPOLYETHYLENE RESINTAISOX 3470</td>\n",
       "      <td>LLDPE TAISOX</td>\n",
       "      <td>LLDPE TAISOX</td>\n",
       "    </tr>\n",
       "    <tr>\n",
       "      <th>7</th>\n",
       "      <td>COMMODITY                                     ...</td>\n",
       "      <td>POLYESTER PARTIALYORIENTED YARN</td>\n",
       "      <td>POLYESTER PARTIALY ORIENTED YARN</td>\n",
       "      <td>POLYESTER PARTIALY ORIENTED YARN</td>\n",
       "    </tr>\n",
       "    <tr>\n",
       "      <th>9</th>\n",
       "      <td>COMMODITY                                     ...</td>\n",
       "      <td>POLYESTER FILAMENT YARN</td>\n",
       "      <td>POLYESTER PARTIALY ORIENTED YARN</td>\n",
       "      <td>POLYESTER FILAMENT YARN</td>\n",
       "    </tr>\n",
       "  </tbody>\n",
       "</table>\n",
       "</div>"
      ],
      "text/plain": [
       "                                                 45A  \\\n",
       "3  MASS PVC RESIN B-57QUANTITY 175 MT AT 1300 USD...   \n",
       "4  PHTHALIC ANHYDRIDE PAQUANTITY  306 MT UNIT PRI...   \n",
       "5  COMMODITY LLDPE TAISOX 3470 QUANTITY 320MT 2FC...   \n",
       "7  COMMODITY                                     ...   \n",
       "9  COMMODITY                                     ...   \n",
       "\n",
       "                                              SPEC  \\\n",
       "3                              MASS PVC RESIN B-57   \n",
       "4                               PHTHALIC ANHYDRIDE   \n",
       "5  LINEAR LOW DENSITYPOLYETHYLENE RESINTAISOX 3470   \n",
       "7                  POLYESTER PARTIALYORIENTED YARN   \n",
       "9                          POLYESTER FILAMENT YARN   \n",
       "\n",
       "                    Baodian_predict                           Y_label  \n",
       "3                    PVC RESIN B-57               MASS PVC RESIN B-57  \n",
       "4             PHTHALIC ANHYDRIDE PA                PHTHALIC ANHYDRIDE  \n",
       "5                      LLDPE TAISOX                      LLDPE TAISOX  \n",
       "7  POLYESTER PARTIALY ORIENTED YARN  POLYESTER PARTIALY ORIENTED YARN  \n",
       "9  POLYESTER PARTIALY ORIENTED YARN           POLYESTER FILAMENT YARN  "
      ]
     },
     "execution_count": 32,
     "metadata": {},
     "output_type": "execute_result"
    }
   ],
   "source": [
    "ok_ = 0\n",
    "no_ = 0\n",
    "y_label = []\n",
    "\n",
    "for i in tqdm(range(len(df))):\n",
    "    # 1.判斷SPEC是否匹配\n",
    "    if str(df['SPEC'].values[i]) in str(df['45A'].values[i]):\n",
    "        y_label.append(df['SPEC'].values[i])\n",
    "        ok_ += 1\n",
    "        continue #continue：強制跳出 ❮本次❯ 迴圈，繼續進入下一圈\n",
    "    \n",
    "    # 2.如果SPEC無法匹配到則可以判斷寶典是否匹配\n",
    "    if str(df['Baodian_predict'].values[i]) in str(df['45A'].values[i]):\n",
    "        y_label.append(df['Baodian_predict'].values[i])\n",
    "        ok_ += 1\n",
    "        continue #continue：強制跳出 ❮本次❯ 迴圈，繼續進入下一圈\n",
    "    \n",
    "    # 3.如果都不匹配 則會觸發以下程序\n",
    "    no_ += 1\n",
    "    y_label.append(np.nan)\n",
    "\n",
    "print(ok_,no_)\n",
    "df['Y_label'] = y_label\n",
    "df.head()"
   ]
  },
  {
   "cell_type": "markdown",
   "metadata": {},
   "source": [
    "# 斷詞模型"
   ]
  },
  {
   "cell_type": "code",
   "execution_count": 33,
   "metadata": {},
   "outputs": [
    {
     "name": "stdout",
     "output_type": "stream",
     "text": [
      "['epichlorohydrine ech', 'lda33xmr5x', 'spun viscose yarn', 'copolymer pvc c-15', 'acrylate emulsion']\n",
      "['the', 'of', 'in', 'a', 'and']\n",
      "['mass pvc resin b-57', 'phthalic anhydride', 'lldpe taisox', 'polyester partialy oriented yarn', 'polyester filament yarn']\n",
      "['', 'niederwil', 'paltriness', 'mirrored', 'quisquam']\n"
     ]
    },
    {
     "data": {
      "text/plain": [
       "'MASS PVC RESIN B-57 QUANTITY 175 MT AT 1300 US DM TAS PER PROFORMA INVOICE NO A 0 B 002 - 11 D A T E D 10 - 12 - 2020 C I F PIPA VAV PORT INDIA IN COTE RMS 2010'"
      ]
     },
     "execution_count": 33,
     "metadata": {},
     "output_type": "execute_result"
    }
   ],
   "source": [
    "import wordninja\n",
    "from wordninja import LanguageModel\n",
    "import re\n",
    "\n",
    "寶典 = pd.read_excel('台塑企業_ 產品寶典20210303.xlsx')\n",
    "產品集合 = list(set(寶典['品名'].values))\n",
    "產品集合 = [str(i).lower() for i in 產品集合]\n",
    "print(產品集合[:5])\n",
    "\n",
    "with open('wordninja_words.txt',encoding=\"utf-8\") as f:\n",
    "    wordninja_words_lst = f.read().split('\\n')\n",
    "print(wordninja_words_lst[:5])\n",
    "\n",
    "SPEC集合 = df['Y_label'].values.tolist()\n",
    "SPEC集合 = [str(i).lower() for i in SPEC集合]\n",
    "print(SPEC集合[:5])\n",
    "\n",
    "全部集合 = list(set(產品集合+SPEC集合+wordninja_words_lst))\n",
    "print(全部集合[:5])\n",
    "\n",
    "with open('全部集合.txt', 'w',encoding=\"utf-8\") as f:\n",
    "    lines = [i + '\\n' for i in 全部集合]\n",
    "    f.writelines(lines)\n",
    "import gzip\n",
    "import shutil\n",
    "with open('全部集合.txt', 'rb') as f_in, gzip.open('全部集合.txt.gz', 'wb') as f_out:\n",
    "    shutil.copyfileobj(f_in, f_out)\n",
    "\n",
    "class LanguageModel2(LanguageModel):\n",
    "    def split(self, s):\n",
    "        _SPLIT_RE = re.compile(\"[^a-zA-Z0-9-']+\")\n",
    "        l = [self._split(x) for x in _SPLIT_RE.split(s)]\n",
    "        return [item for sublist in l for item in sublist]\n",
    "\n",
    "lm = LanguageModel2('全部集合.txt.gz')\n",
    "' '.join(lm.split(df['45A'].values[0]))"
   ]
  },
  {
   "cell_type": "markdown",
   "metadata": {},
   "source": [
    "# 斷詞處理"
   ]
  },
  {
   "cell_type": "code",
   "execution_count": 34,
   "metadata": {},
   "outputs": [
    {
     "name": "stderr",
     "output_type": "stream",
     "text": [
      "/opt/conda/lib/python3.7/site-packages/ipykernel_launcher.py:2: TqdmDeprecationWarning: This function will be removed in tqdm==5.0.0\n",
      "Please use `tqdm.notebook.tqdm` instead of `tqdm.tqdm_notebook`\n",
      "  \n"
     ]
    },
    {
     "data": {
      "application/vnd.jupyter.widget-view+json": {
       "model_id": "590dc78653704df685b6815b49c21919",
       "version_major": 2,
       "version_minor": 0
      },
      "text/plain": [
       "  0%|          | 0/3643 [00:00<?, ?it/s]"
      ]
     },
     "metadata": {},
     "output_type": "display_data"
    },
    {
     "data": {
      "text/html": [
       "<div>\n",
       "<style scoped>\n",
       "    .dataframe tbody tr th:only-of-type {\n",
       "        vertical-align: middle;\n",
       "    }\n",
       "\n",
       "    .dataframe tbody tr th {\n",
       "        vertical-align: top;\n",
       "    }\n",
       "\n",
       "    .dataframe thead th {\n",
       "        text-align: right;\n",
       "    }\n",
       "</style>\n",
       "<table border=\"1\" class=\"dataframe\">\n",
       "  <thead>\n",
       "    <tr style=\"text-align: right;\">\n",
       "      <th></th>\n",
       "      <th>45A</th>\n",
       "      <th>Y_label</th>\n",
       "    </tr>\n",
       "  </thead>\n",
       "  <tbody>\n",
       "    <tr>\n",
       "      <th>3</th>\n",
       "      <td>MASS PVC RESIN B-57 QUANTITY 175 MT AT 1300 US...</td>\n",
       "      <td>MASS PVC RESIN B-57</td>\n",
       "    </tr>\n",
       "    <tr>\n",
       "      <th>4</th>\n",
       "      <td>PHTHALIC ANHYDRIDE PA QUANTITY 306 MT UNIT PRI...</td>\n",
       "      <td>PHTHALIC ANHYDRIDE</td>\n",
       "    </tr>\n",
       "    <tr>\n",
       "      <th>5</th>\n",
       "      <td>COMMODITY LLDPE TAISOX 3470 QUANTITY 320 MT 2 ...</td>\n",
       "      <td>LLDPE TAISOX</td>\n",
       "    </tr>\n",
       "    <tr>\n",
       "      <th>7</th>\n",
       "      <td>COMMODITY AMOUNT POLYESTER TEXTURED YAR NHS CO...</td>\n",
       "      <td>POLYESTER PARTIALY ORIENTED YARN</td>\n",
       "    </tr>\n",
       "    <tr>\n",
       "      <th>9</th>\n",
       "      <td>COMMODITY AMOUNT POLYESTER TEXTURED YAR NHS CO...</td>\n",
       "      <td>POLYESTER FILAMENT YARN</td>\n",
       "    </tr>\n",
       "  </tbody>\n",
       "</table>\n",
       "</div>"
      ],
      "text/plain": [
       "                                                 45A  \\\n",
       "3  MASS PVC RESIN B-57 QUANTITY 175 MT AT 1300 US...   \n",
       "4  PHTHALIC ANHYDRIDE PA QUANTITY 306 MT UNIT PRI...   \n",
       "5  COMMODITY LLDPE TAISOX 3470 QUANTITY 320 MT 2 ...   \n",
       "7  COMMODITY AMOUNT POLYESTER TEXTURED YAR NHS CO...   \n",
       "9  COMMODITY AMOUNT POLYESTER TEXTURED YAR NHS CO...   \n",
       "\n",
       "                            Y_label  \n",
       "3               MASS PVC RESIN B-57  \n",
       "4                PHTHALIC ANHYDRIDE  \n",
       "5                      LLDPE TAISOX  \n",
       "7  POLYESTER PARTIALY ORIENTED YARN  \n",
       "9           POLYESTER FILAMENT YARN  "
      ]
     },
     "execution_count": 34,
     "metadata": {},
     "output_type": "execute_result"
    }
   ],
   "source": [
    "lst = []\n",
    "for i in tqdm(range(len(df))):\n",
    "    lst.append(' '.join(lm.split(df['45A'].values[i])))\n",
    "df['45A'] = lst\n",
    "df[['45A','Y_label']].head()"
   ]
  },
  {
   "cell_type": "markdown",
   "metadata": {},
   "source": [
    "# 清洗"
   ]
  },
  {
   "cell_type": "code",
   "execution_count": 35,
   "metadata": {},
   "outputs": [
    {
     "name": "stdout",
     "output_type": "stream",
     "text": [
      "(3614, 4)\n",
      "(3198, 4)\n"
     ]
    }
   ],
   "source": [
    "df = df.dropna(axis=0).reset_index(drop=True)\n",
    "print(df.shape)\n",
    "keep_lst = []\n",
    "for i in range(len(df)):\n",
    "    if df.iloc[i]['Y_label'] in df.iloc[i]['45A']:\n",
    "        keep_lst.append(i)\n",
    "df = df.iloc[keep_lst]\n",
    "print(df.shape)"
   ]
  },
  {
   "cell_type": "markdown",
   "metadata": {},
   "source": [
    "# 起始結束標註"
   ]
  },
  {
   "cell_type": "code",
   "execution_count": 36,
   "metadata": {},
   "outputs": [
    {
     "data": {
      "text/html": [
       "<div>\n",
       "<style scoped>\n",
       "    .dataframe tbody tr th:only-of-type {\n",
       "        vertical-align: middle;\n",
       "    }\n",
       "\n",
       "    .dataframe tbody tr th {\n",
       "        vertical-align: top;\n",
       "    }\n",
       "\n",
       "    .dataframe thead th {\n",
       "        text-align: right;\n",
       "    }\n",
       "</style>\n",
       "<table border=\"1\" class=\"dataframe\">\n",
       "  <thead>\n",
       "    <tr style=\"text-align: right;\">\n",
       "      <th></th>\n",
       "      <th>45A</th>\n",
       "      <th>Y_label</th>\n",
       "      <th>string_Y_1</th>\n",
       "      <th>string_Y_2</th>\n",
       "    </tr>\n",
       "  </thead>\n",
       "  <tbody>\n",
       "    <tr>\n",
       "      <th>0</th>\n",
       "      <td>MASS PVC RESIN B-57 QUANTITY 175 MT AT 1300 US...</td>\n",
       "      <td>MASS PVC RESIN B-57</td>\n",
       "      <td>0</td>\n",
       "      <td>19</td>\n",
       "    </tr>\n",
       "    <tr>\n",
       "      <th>1</th>\n",
       "      <td>PHTHALIC ANHYDRIDE PA QUANTITY 306 MT UNIT PRI...</td>\n",
       "      <td>PHTHALIC ANHYDRIDE</td>\n",
       "      <td>0</td>\n",
       "      <td>18</td>\n",
       "    </tr>\n",
       "    <tr>\n",
       "      <th>2</th>\n",
       "      <td>COMMODITY LLDPE TAISOX 3470 QUANTITY 320 MT 2 ...</td>\n",
       "      <td>LLDPE TAISOX</td>\n",
       "      <td>10</td>\n",
       "      <td>22</td>\n",
       "    </tr>\n",
       "    <tr>\n",
       "      <th>5</th>\n",
       "      <td>ITEM 1 HDPE TAISOX 8010 200 MT USD 1100 MT CON...</td>\n",
       "      <td>HDPE TAISOX 8010</td>\n",
       "      <td>7</td>\n",
       "      <td>23</td>\n",
       "    </tr>\n",
       "    <tr>\n",
       "      <th>6</th>\n",
       "      <td>ITEM 1 HDPE TAISOX 8010 200 MT USD 1100 MT CON...</td>\n",
       "      <td>HDPE TAISOX 8010</td>\n",
       "      <td>7</td>\n",
       "      <td>23</td>\n",
       "    </tr>\n",
       "  </tbody>\n",
       "</table>\n",
       "</div>"
      ],
      "text/plain": [
       "                                                 45A              Y_label  \\\n",
       "0  MASS PVC RESIN B-57 QUANTITY 175 MT AT 1300 US...  MASS PVC RESIN B-57   \n",
       "1  PHTHALIC ANHYDRIDE PA QUANTITY 306 MT UNIT PRI...   PHTHALIC ANHYDRIDE   \n",
       "2  COMMODITY LLDPE TAISOX 3470 QUANTITY 320 MT 2 ...         LLDPE TAISOX   \n",
       "5  ITEM 1 HDPE TAISOX 8010 200 MT USD 1100 MT CON...     HDPE TAISOX 8010   \n",
       "6  ITEM 1 HDPE TAISOX 8010 200 MT USD 1100 MT CON...     HDPE TAISOX 8010   \n",
       "\n",
       "   string_Y_1  string_Y_2  \n",
       "0           0          19  \n",
       "1           0          18  \n",
       "2          10          22  \n",
       "5           7          23  \n",
       "6           7          23  "
      ]
     },
     "execution_count": 36,
     "metadata": {},
     "output_type": "execute_result"
    }
   ],
   "source": [
    "def str2index(context,string):\n",
    "    ys = context.find(string)\n",
    "    ye = ys + len(string)\n",
    "    return ys,ye\n",
    "\n",
    "ys_lst = []\n",
    "ye_lst = []\n",
    "for i in range(len(df)):\n",
    "    context= df['45A'].values[i]\n",
    "    string = df['Y_label'].values[i]\n",
    "    ys,ye = str2index(context,string)\n",
    "    ys_lst.append(ys)\n",
    "    ye_lst.append(ye)\n",
    "df['string_Y_1'] = ys_lst\n",
    "df['string_Y_2'] = ye_lst\n",
    "df[['45A','Y_label','string_Y_1','string_Y_2']].head()"
   ]
  },
  {
   "cell_type": "code",
   "execution_count": 37,
   "metadata": {},
   "outputs": [
    {
     "name": "stdout",
     "output_type": "stream",
     "text": [
      "(3198, 6)\n"
     ]
    }
   ],
   "source": [
    "print(df.shape)"
   ]
  },
  {
   "cell_type": "markdown",
   "metadata": {},
   "source": [
    "# 保存"
   ]
  },
  {
   "cell_type": "code",
   "execution_count": 38,
   "metadata": {},
   "outputs": [],
   "source": [
    "df.to_csv('preprocess_for_SQUAD_wordninja.csv')"
   ]
  },
  {
   "cell_type": "code",
   "execution_count": null,
   "metadata": {},
   "outputs": [],
   "source": []
  }
 ],
 "metadata": {
  "kernelspec": {
   "display_name": "Python 3",
   "language": "python",
   "name": "python3"
  },
  "language_info": {
   "codemirror_mode": {
    "name": "ipython",
    "version": 3
   },
   "file_extension": ".py",
   "mimetype": "text/x-python",
   "name": "python",
   "nbconvert_exporter": "python",
   "pygments_lexer": "ipython3",
   "version": "3.7.4"
  }
 },
 "nbformat": 4,
 "nbformat_minor": 4
}
