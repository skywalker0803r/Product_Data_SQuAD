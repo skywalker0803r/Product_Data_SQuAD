{
 "cells": [
  {
   "cell_type": "code",
   "execution_count": 1,
   "metadata": {},
   "outputs": [
    {
     "name": "stdout",
     "output_type": "stream",
     "text": [
      "(744, 21)\n"
     ]
    },
    {
     "data": {
      "text/html": [
       "<div>\n",
       "<style scoped>\n",
       "    .dataframe tbody tr th:only-of-type {\n",
       "        vertical-align: middle;\n",
       "    }\n",
       "\n",
       "    .dataframe tbody tr th {\n",
       "        vertical-align: top;\n",
       "    }\n",
       "\n",
       "    .dataframe thead th {\n",
       "        text-align: right;\n",
       "    }\n",
       "</style>\n",
       "<table border=\"1\" class=\"dataframe\">\n",
       "  <thead>\n",
       "    <tr style=\"text-align: right;\">\n",
       "      <th></th>\n",
       "      <th>59</th>\n",
       "      <th>45A</th>\n",
       "      <th>46A</th>\n",
       "      <th>47A</th>\n",
       "      <th>31D</th>\n",
       "      <th>44C</th>\n",
       "      <th>48</th>\n",
       "      <th>71D</th>\n",
       "      <th>78</th>\n",
       "      <th>50</th>\n",
       "      <th>...</th>\n",
       "      <th>LCNO</th>\n",
       "      <th>from</th>\n",
       "      <th>EXPNO</th>\n",
       "      <th>LCBK</th>\n",
       "      <th>CU1</th>\n",
       "      <th>SPEC</th>\n",
       "      <th>Baodian_predict</th>\n",
       "      <th>Y_label</th>\n",
       "      <th>string_Y_1</th>\n",
       "      <th>string_Y_2</th>\n",
       "    </tr>\n",
       "  </thead>\n",
       "  <tbody>\n",
       "    <tr>\n",
       "      <th>3</th>\n",
       "      <td>FORMOSA PLASTICS CORPORATION201,TUNG HWA N ROA...</td>\n",
       "      <td>MASS PVC RESIN B-57QUANTITY 175 MT AT 1300 USD...</td>\n",
       "      <td>1. SIGNED COMMERCIAL INVOICE IN 3 ORIGINALS AN...</td>\n",
       "      <td>1. ALL DOCUMENTS MUST BE IN ENGLISH.2. ALL DOC...</td>\n",
       "      <td>210321TAIWAN</td>\n",
       "      <td>210228.0</td>\n",
       "      <td>21/(REFER FIELD 47A CLAUSE NO.8)</td>\n",
       "      <td>ALL BANK CHARGES OUTSIDE INDIA ARETO THE ACCOU...</td>\n",
       "      <td>+UPON RECEIPT OF CREDIT COMPLIANT DOCUMENTS AT...</td>\n",
       "      <td>OJUS PETROCHEMICALS LLPC 289 NIRALA NAGAR LUCK...</td>\n",
       "      <td>...</td>\n",
       "      <td>6281MLC00000321</td>\n",
       "      <td>017-202101-03.xlsx</td>\n",
       "      <td>11</td>\n",
       "      <td>ICICI BANK LTD.,\\nSHALIMAR TOWER, 31/54 M.G.MA...</td>\n",
       "      <td>OJUS PETROCHEMICALS LLPC 289 NIRALA\\n NAGAR LU...</td>\n",
       "      <td>MASS PVC RESIN B-57</td>\n",
       "      <td>PVC RESIN B-57</td>\n",
       "      <td>MASS PVC RESIN B-57</td>\n",
       "      <td>0</td>\n",
       "      <td>19</td>\n",
       "    </tr>\n",
       "    <tr>\n",
       "      <th>4</th>\n",
       "      <td>NAN YA PLASTICS CORPORATION201 TUN HWA NORTH R...</td>\n",
       "      <td>PHTHALIC ANHYDRIDE PAQUANTITY  306 MT UNIT PRI...</td>\n",
       "      <td>1. SIGNED COMMERCIAL INVOICE IN ORIGINAL AND 4...</td>\n",
       "      <td>(A) ALL DOCUMENTS AND DRAFTS (IF CALLED FOR UN...</td>\n",
       "      <td>210221TAIWAN</td>\n",
       "      <td>NaN</td>\n",
       "      <td>021</td>\n",
       "      <td>NaN</td>\n",
       "      <td>IN REIMBURSEMENT OF NEGOTIATION MADE BY YOUIN ...</td>\n",
       "      <td>AHMED SAEED AFIFI FACTORY CO. FORRESINS LTD. P...</td>\n",
       "      <td>...</td>\n",
       "      <td>L072875</td>\n",
       "      <td>017-202101-03.xlsx</td>\n",
       "      <td>27</td>\n",
       "      <td>NATIONAL COMMERCIAL BANK, THE\\n(HEAD OFFICE)</td>\n",
       "      <td>AHMED SAEED AFIFI FACTORY CO. FORRE\\nSINS LTD....</td>\n",
       "      <td>PHTHALIC ANHYDRIDE</td>\n",
       "      <td>PHTHALIC ANHYDRIDE PA</td>\n",
       "      <td>PHTHALIC ANHYDRIDE</td>\n",
       "      <td>0</td>\n",
       "      <td>18</td>\n",
       "    </tr>\n",
       "    <tr>\n",
       "      <th>28</th>\n",
       "      <td>FORMOSA PLASTICS CORPORATION .201, TUNG HWA NO...</td>\n",
       "      <td>TERMS OF SALE CIF - NHAVA SHEVA PORT INDIAPVC ...</td>\n",
       "      <td>+1.CLEAN ON BOARD OCEAN BILLS OF LADING (FULL+...</td>\n",
       "      <td>+1.DOCUMENTS TO BE SENT DIRECTLY TO US IN ONE+...</td>\n",
       "      <td>210122TAIWAN</td>\n",
       "      <td>210107.0</td>\n",
       "      <td>NaN</td>\n",
       "      <td>ALL ADVISING BANK CHARGES ANDOTHER CHARGES OUT...</td>\n",
       "      <td>WE HEREBY UNDERTAKE WITH DRAWERS AND/OR BONAFI...</td>\n",
       "      <td>NAVYUG CHEMICALS PVT LTD802, EMBASSY CHAMBER,3...</td>\n",
       "      <td>...</td>\n",
       "      <td>5524615920</td>\n",
       "      <td>017-202101-03.xlsx</td>\n",
       "      <td>11</td>\n",
       "      <td>CITIBANK N.A. (INTERNATIONAL\\nBUSINESS AND FIN...</td>\n",
       "      <td>NAVYUG CHEMICALS PVT LTD802, EMBASS\\nY CHAMBER...</td>\n",
       "      <td>PVC RESIN S-65D</td>\n",
       "      <td>PVC RESIN</td>\n",
       "      <td>PVC RESIN S-65D</td>\n",
       "      <td>42</td>\n",
       "      <td>57</td>\n",
       "    </tr>\n",
       "  </tbody>\n",
       "</table>\n",
       "<p>3 rows × 21 columns</p>\n",
       "</div>"
      ],
      "text/plain": [
       "                                                   59  \\\n",
       "3   FORMOSA PLASTICS CORPORATION201,TUNG HWA N ROA...   \n",
       "4   NAN YA PLASTICS CORPORATION201 TUN HWA NORTH R...   \n",
       "28  FORMOSA PLASTICS CORPORATION .201, TUNG HWA NO...   \n",
       "\n",
       "                                                  45A  \\\n",
       "3   MASS PVC RESIN B-57QUANTITY 175 MT AT 1300 USD...   \n",
       "4   PHTHALIC ANHYDRIDE PAQUANTITY  306 MT UNIT PRI...   \n",
       "28  TERMS OF SALE CIF - NHAVA SHEVA PORT INDIAPVC ...   \n",
       "\n",
       "                                                  46A  \\\n",
       "3   1. SIGNED COMMERCIAL INVOICE IN 3 ORIGINALS AN...   \n",
       "4   1. SIGNED COMMERCIAL INVOICE IN ORIGINAL AND 4...   \n",
       "28  +1.CLEAN ON BOARD OCEAN BILLS OF LADING (FULL+...   \n",
       "\n",
       "                                                  47A           31D       44C  \\\n",
       "3   1. ALL DOCUMENTS MUST BE IN ENGLISH.2. ALL DOC...  210321TAIWAN  210228.0   \n",
       "4   (A) ALL DOCUMENTS AND DRAFTS (IF CALLED FOR UN...  210221TAIWAN       NaN   \n",
       "28  +1.DOCUMENTS TO BE SENT DIRECTLY TO US IN ONE+...  210122TAIWAN  210107.0   \n",
       "\n",
       "                                  48  \\\n",
       "3   21/(REFER FIELD 47A CLAUSE NO.8)   \n",
       "4                                021   \n",
       "28                               NaN   \n",
       "\n",
       "                                                  71D  \\\n",
       "3   ALL BANK CHARGES OUTSIDE INDIA ARETO THE ACCOU...   \n",
       "4                                                 NaN   \n",
       "28  ALL ADVISING BANK CHARGES ANDOTHER CHARGES OUT...   \n",
       "\n",
       "                                                   78  \\\n",
       "3   +UPON RECEIPT OF CREDIT COMPLIANT DOCUMENTS AT...   \n",
       "4   IN REIMBURSEMENT OF NEGOTIATION MADE BY YOUIN ...   \n",
       "28  WE HEREBY UNDERTAKE WITH DRAWERS AND/OR BONAFI...   \n",
       "\n",
       "                                                   50  ...             LCNO  \\\n",
       "3   OJUS PETROCHEMICALS LLPC 289 NIRALA NAGAR LUCK...  ...  6281MLC00000321   \n",
       "4   AHMED SAEED AFIFI FACTORY CO. FORRESINS LTD. P...  ...          L072875   \n",
       "28  NAVYUG CHEMICALS PVT LTD802, EMBASSY CHAMBER,3...  ...       5524615920   \n",
       "\n",
       "                  from EXPNO  \\\n",
       "3   017-202101-03.xlsx    11   \n",
       "4   017-202101-03.xlsx    27   \n",
       "28  017-202101-03.xlsx    11   \n",
       "\n",
       "                                                 LCBK  \\\n",
       "3   ICICI BANK LTD.,\\nSHALIMAR TOWER, 31/54 M.G.MA...   \n",
       "4        NATIONAL COMMERCIAL BANK, THE\\n(HEAD OFFICE)   \n",
       "28  CITIBANK N.A. (INTERNATIONAL\\nBUSINESS AND FIN...   \n",
       "\n",
       "                                                  CU1                 SPEC  \\\n",
       "3   OJUS PETROCHEMICALS LLPC 289 NIRALA\\n NAGAR LU...  MASS PVC RESIN B-57   \n",
       "4   AHMED SAEED AFIFI FACTORY CO. FORRE\\nSINS LTD....   PHTHALIC ANHYDRIDE   \n",
       "28  NAVYUG CHEMICALS PVT LTD802, EMBASS\\nY CHAMBER...      PVC RESIN S-65D   \n",
       "\n",
       "          Baodian_predict              Y_label string_Y_1  string_Y_2  \n",
       "3          PVC RESIN B-57  MASS PVC RESIN B-57          0          19  \n",
       "4   PHTHALIC ANHYDRIDE PA   PHTHALIC ANHYDRIDE          0          18  \n",
       "28              PVC RESIN      PVC RESIN S-65D         42          57  \n",
       "\n",
       "[3 rows x 21 columns]"
      ]
     },
     "execution_count": 1,
     "metadata": {},
     "output_type": "execute_result"
    }
   ],
   "source": [
    "import pandas as pd\n",
    "from tqdm import tqdm_notebook as tqdm\n",
    "df = pd.read_csv('preprocess_for_SQUAD.csv',index_col=0)\n",
    "print(df.shape)\n",
    "df.head(3)"
   ]
  },
  {
   "cell_type": "markdown",
   "metadata": {},
   "source": [
    "# 斷詞模型"
   ]
  },
  {
   "cell_type": "code",
   "execution_count": 2,
   "metadata": {},
   "outputs": [
    {
     "name": "stdout",
     "output_type": "stream",
     "text": [
      "['f24608-095a', 'pp yarn', 'polyester pique weftknitted piece dyed fabric', 'copolymer resin yungsox', 'el 128']\n",
      "['the', 'of', 'in', 'a', 'and']\n",
      "['mass pvc resin b-57', 'phthalic anhydride', 'pvc resin s-65d', 'tetrahydrofuran', 'pvc resin s-65d']\n",
      "['urchins', '', 'moulin', 'stalking', 'typhus']\n"
     ]
    },
    {
     "data": {
      "text/plain": [
       "'MASS PVC RESIN B 57 QUANTITY 175 MT AT 1300 USD M TAS PER PROFORMA INVOICE NO A 0 B 002 11 DATED 10 12 2020 C IF PIPA VAV PORT INDIA IN COTE RMS 2010'"
      ]
     },
     "execution_count": 2,
     "metadata": {},
     "output_type": "execute_result"
    }
   ],
   "source": [
    "import wordninja\n",
    "\n",
    "寶典 = pd.read_excel('台塑企業_ 產品寶典20210303.xlsx')\n",
    "產品集合 = list(set(寶典['品名'].values))\n",
    "產品集合 = [str(i).lower() for i in 產品集合]\n",
    "產品集合 = [ i for i in 產品集合 if len(i)>5]\n",
    "print(產品集合[:5])\n",
    "\n",
    "with open('wordninja_words.txt',encoding=\"utf-8\") as f:\n",
    "    wordninja_words_lst = f.read().split('\\n')\n",
    "print(wordninja_words_lst[:5])\n",
    "\n",
    "SPEC集合 = df['SPEC'].values.tolist()\n",
    "SPEC集合 = [str(i).lower() for i in SPEC集合]\n",
    "print(SPEC集合[:5])\n",
    "\n",
    "全部集合 = list(set(產品集合+SPEC集合+wordninja_words_lst))\n",
    "print(全部集合[:5])\n",
    "\n",
    "with open('全部集合.txt', 'w',encoding=\"utf-8\") as f:\n",
    "    lines = [i + '\\n' for i in 全部集合]\n",
    "    f.writelines(lines)\n",
    "import gzip\n",
    "import shutil\n",
    "with open('全部集合.txt', 'rb') as f_in, gzip.open('全部集合.txt.gz', 'wb') as f_out:\n",
    "    shutil.copyfileobj(f_in, f_out)\n",
    "lm = wordninja.LanguageModel('全部集合.txt.gz')\n",
    "' '.join(lm.split(df['45A'].values[0]))"
   ]
  },
  {
   "cell_type": "markdown",
   "metadata": {},
   "source": [
    "# 斷詞處理"
   ]
  },
  {
   "cell_type": "code",
   "execution_count": 3,
   "metadata": {},
   "outputs": [
    {
     "name": "stderr",
     "output_type": "stream",
     "text": [
      "/opt/conda/lib/python3.7/site-packages/ipykernel_launcher.py:2: TqdmDeprecationWarning: This function will be removed in tqdm==5.0.0\n",
      "Please use `tqdm.notebook.tqdm` instead of `tqdm.tqdm_notebook`\n",
      "  \n"
     ]
    },
    {
     "data": {
      "application/vnd.jupyter.widget-view+json": {
       "model_id": "b64db705766b4e209847edb7e9f7875c",
       "version_major": 2,
       "version_minor": 0
      },
      "text/plain": [
       "  0%|          | 0/744 [00:00<?, ?it/s]"
      ]
     },
     "metadata": {},
     "output_type": "display_data"
    },
    {
     "data": {
      "text/html": [
       "<div>\n",
       "<style scoped>\n",
       "    .dataframe tbody tr th:only-of-type {\n",
       "        vertical-align: middle;\n",
       "    }\n",
       "\n",
       "    .dataframe tbody tr th {\n",
       "        vertical-align: top;\n",
       "    }\n",
       "\n",
       "    .dataframe thead th {\n",
       "        text-align: right;\n",
       "    }\n",
       "</style>\n",
       "<table border=\"1\" class=\"dataframe\">\n",
       "  <thead>\n",
       "    <tr style=\"text-align: right;\">\n",
       "      <th></th>\n",
       "      <th>45A</th>\n",
       "      <th>Y_label</th>\n",
       "      <th>string_Y_1</th>\n",
       "      <th>string_Y_2</th>\n",
       "    </tr>\n",
       "  </thead>\n",
       "  <tbody>\n",
       "    <tr>\n",
       "      <th>3</th>\n",
       "      <td>MASS PVC RESIN B 57 QUANTITY 175 MT AT 1300 US...</td>\n",
       "      <td>MASS PVC RESIN B-57</td>\n",
       "      <td>0</td>\n",
       "      <td>19</td>\n",
       "    </tr>\n",
       "    <tr>\n",
       "      <th>4</th>\n",
       "      <td>PHTHALIC ANHYDRIDE PA QUANTITY 306 MT UNIT PRI...</td>\n",
       "      <td>PHTHALIC ANHYDRIDE</td>\n",
       "      <td>0</td>\n",
       "      <td>18</td>\n",
       "    </tr>\n",
       "    <tr>\n",
       "      <th>28</th>\n",
       "      <td>TERMS OF SALE C IF N HAVA SHEVA PORT INDIA PVC...</td>\n",
       "      <td>PVC RESIN S-65D</td>\n",
       "      <td>42</td>\n",
       "      <td>57</td>\n",
       "    </tr>\n",
       "    <tr>\n",
       "      <th>31</th>\n",
       "      <td>PRODUCT TETRAHYDROFURAN 998 PCT MIN QUANTITY 1...</td>\n",
       "      <td>TETRAHYDROFURAN</td>\n",
       "      <td>10</td>\n",
       "      <td>25</td>\n",
       "    </tr>\n",
       "    <tr>\n",
       "      <th>41</th>\n",
       "      <td>875 MTS OF PVC RESIN B 57 AND 360 MTS OF PVC R...</td>\n",
       "      <td>PVC RESIN S-65D</td>\n",
       "      <td>41</td>\n",
       "      <td>56</td>\n",
       "    </tr>\n",
       "  </tbody>\n",
       "</table>\n",
       "</div>"
      ],
      "text/plain": [
       "                                                  45A              Y_label  \\\n",
       "3   MASS PVC RESIN B 57 QUANTITY 175 MT AT 1300 US...  MASS PVC RESIN B-57   \n",
       "4   PHTHALIC ANHYDRIDE PA QUANTITY 306 MT UNIT PRI...   PHTHALIC ANHYDRIDE   \n",
       "28  TERMS OF SALE C IF N HAVA SHEVA PORT INDIA PVC...      PVC RESIN S-65D   \n",
       "31  PRODUCT TETRAHYDROFURAN 998 PCT MIN QUANTITY 1...      TETRAHYDROFURAN   \n",
       "41  875 MTS OF PVC RESIN B 57 AND 360 MTS OF PVC R...      PVC RESIN S-65D   \n",
       "\n",
       "    string_Y_1  string_Y_2  \n",
       "3            0          19  \n",
       "4            0          18  \n",
       "28          42          57  \n",
       "31          10          25  \n",
       "41          41          56  "
      ]
     },
     "execution_count": 3,
     "metadata": {},
     "output_type": "execute_result"
    }
   ],
   "source": [
    "lst = []\n",
    "for i in tqdm(range(len(df))):\n",
    "    lst.append(' '.join(lm.split(df['45A'].values[i])))\n",
    "df['45A'] = lst\n",
    "df[['45A','Y_label','string_Y_1','string_Y_2']].head()"
   ]
  },
  {
   "cell_type": "markdown",
   "metadata": {},
   "source": [
    "# 清洗"
   ]
  },
  {
   "cell_type": "code",
   "execution_count": 4,
   "metadata": {},
   "outputs": [
    {
     "name": "stdout",
     "output_type": "stream",
     "text": [
      "(609, 4)\n",
      "(488, 4)\n"
     ]
    }
   ],
   "source": [
    "df = df[['45A','Y_label','string_Y_1','string_Y_2']]\n",
    "df = df.dropna(axis=0)\n",
    "df = df.reset_index(drop=True)\n",
    "print(df.shape)\n",
    "keep_lst = []\n",
    "for i in range(len(df)):\n",
    "    if df.iloc[i]['Y_label'] in df.iloc[i]['45A']:\n",
    "        keep_lst.append(i)\n",
    "df = df.iloc[keep_lst]\n",
    "print(df.shape)"
   ]
  },
  {
   "cell_type": "markdown",
   "metadata": {},
   "source": [
    "# 起始結束標註"
   ]
  },
  {
   "cell_type": "code",
   "execution_count": 5,
   "metadata": {},
   "outputs": [
    {
     "data": {
      "text/html": [
       "<div>\n",
       "<style scoped>\n",
       "    .dataframe tbody tr th:only-of-type {\n",
       "        vertical-align: middle;\n",
       "    }\n",
       "\n",
       "    .dataframe tbody tr th {\n",
       "        vertical-align: top;\n",
       "    }\n",
       "\n",
       "    .dataframe thead th {\n",
       "        text-align: right;\n",
       "    }\n",
       "</style>\n",
       "<table border=\"1\" class=\"dataframe\">\n",
       "  <thead>\n",
       "    <tr style=\"text-align: right;\">\n",
       "      <th></th>\n",
       "      <th>45A</th>\n",
       "      <th>Y_label</th>\n",
       "      <th>string_Y_1</th>\n",
       "      <th>string_Y_2</th>\n",
       "    </tr>\n",
       "  </thead>\n",
       "  <tbody>\n",
       "    <tr>\n",
       "      <th>1</th>\n",
       "      <td>PHTHALIC ANHYDRIDE PA QUANTITY 306 MT UNIT PRI...</td>\n",
       "      <td>PHTHALIC ANHYDRIDE</td>\n",
       "      <td>0</td>\n",
       "      <td>18</td>\n",
       "    </tr>\n",
       "    <tr>\n",
       "      <th>3</th>\n",
       "      <td>PRODUCT TETRAHYDROFURAN 998 PCT MIN QUANTITY 1...</td>\n",
       "      <td>TETRAHYDROFURAN</td>\n",
       "      <td>8</td>\n",
       "      <td>23</td>\n",
       "    </tr>\n",
       "    <tr>\n",
       "      <th>6</th>\n",
       "      <td>COMMODITY MONOETHYLENE GLYCOL MEG FIBER GRADE ...</td>\n",
       "      <td>MONOETHYLENE GLYCOL MEG FIBER GRADE</td>\n",
       "      <td>10</td>\n",
       "      <td>45</td>\n",
       "    </tr>\n",
       "    <tr>\n",
       "      <th>7</th>\n",
       "      <td>COMMODITY DIETHYLENE GLYCOL DEG QUANTITY 1000 ...</td>\n",
       "      <td>DIETHYLENE GLYCOL DEG</td>\n",
       "      <td>10</td>\n",
       "      <td>31</td>\n",
       "    </tr>\n",
       "    <tr>\n",
       "      <th>13</th>\n",
       "      <td>COMMODITY DIETHYLENE GLYCOL DEG QUANTITY 1000 ...</td>\n",
       "      <td>DIETHYLENE GLYCOL DEG</td>\n",
       "      <td>10</td>\n",
       "      <td>31</td>\n",
       "    </tr>\n",
       "  </tbody>\n",
       "</table>\n",
       "</div>"
      ],
      "text/plain": [
       "                                                  45A  \\\n",
       "1   PHTHALIC ANHYDRIDE PA QUANTITY 306 MT UNIT PRI...   \n",
       "3   PRODUCT TETRAHYDROFURAN 998 PCT MIN QUANTITY 1...   \n",
       "6   COMMODITY MONOETHYLENE GLYCOL MEG FIBER GRADE ...   \n",
       "7   COMMODITY DIETHYLENE GLYCOL DEG QUANTITY 1000 ...   \n",
       "13  COMMODITY DIETHYLENE GLYCOL DEG QUANTITY 1000 ...   \n",
       "\n",
       "                                Y_label  string_Y_1  string_Y_2  \n",
       "1                    PHTHALIC ANHYDRIDE           0          18  \n",
       "3                       TETRAHYDROFURAN           8          23  \n",
       "6   MONOETHYLENE GLYCOL MEG FIBER GRADE          10          45  \n",
       "7                 DIETHYLENE GLYCOL DEG          10          31  \n",
       "13                DIETHYLENE GLYCOL DEG          10          31  "
      ]
     },
     "execution_count": 5,
     "metadata": {},
     "output_type": "execute_result"
    }
   ],
   "source": [
    "def str2index(context,string):\n",
    "    ys = context.find(string)\n",
    "    ye = ys+len(string)\n",
    "    return ys,ye\n",
    "\n",
    "ys_lst = []\n",
    "ye_lst = []\n",
    "for i in range(len(df)):\n",
    "    context= df['45A'].values[i]\n",
    "    string = df['Y_label'].values[i]\n",
    "    ys,ye = str2index(context,string)\n",
    "    ys_lst.append(ys)\n",
    "    ye_lst.append(ye)\n",
    "df['string_Y_1'] = ys_lst\n",
    "df['string_Y_2'] = ye_lst\n",
    "df[['45A','Y_label','string_Y_1','string_Y_2']].head()"
   ]
  },
  {
   "cell_type": "code",
   "execution_count": 6,
   "metadata": {},
   "outputs": [
    {
     "name": "stdout",
     "output_type": "stream",
     "text": [
      "(488, 4)\n"
     ]
    }
   ],
   "source": [
    "print(df.shape)"
   ]
  },
  {
   "cell_type": "markdown",
   "metadata": {},
   "source": [
    "# 保存"
   ]
  },
  {
   "cell_type": "code",
   "execution_count": 7,
   "metadata": {},
   "outputs": [],
   "source": [
    "df.to_csv('preprocess_for_SQUAD_wordninja.csv')"
   ]
  },
  {
   "cell_type": "code",
   "execution_count": null,
   "metadata": {},
   "outputs": [],
   "source": []
  }
 ],
 "metadata": {
  "kernelspec": {
   "display_name": "Python 3",
   "language": "python",
   "name": "python3"
  },
  "language_info": {
   "codemirror_mode": {
    "name": "ipython",
    "version": 3
   },
   "file_extension": ".py",
   "mimetype": "text/x-python",
   "name": "python",
   "nbconvert_exporter": "python",
   "pygments_lexer": "ipython3",
   "version": "3.7.4"
  }
 },
 "nbformat": 4,
 "nbformat_minor": 4
}
